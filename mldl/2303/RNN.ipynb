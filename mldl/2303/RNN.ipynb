{
 "cells": [
  {
   "cell_type": "code",
   "execution_count": 1,
   "metadata": {},
   "outputs": [],
   "source": [
    "import torch\n",
    "import torch.nn as nn\n",
    "import torch.nn.functional as F\n",
    "import os\n",
    "import numpy as np"
   ]
  },
  {
   "cell_type": "markdown",
   "metadata": {},
   "source": [
    "## Links:\n",
    "* [Colah blog (LSTM/GRU)](http://colah.github.io/posts/2015-08-Understanding-LSTMs/)\n",
    "* [PyTorch tutorial - RNN for name classification](https://pytorch.org/tutorials/intermediate/char_rnn_classification_tutorial.html)\n",
    "* [MNIST classification with RNN tutorial](https://medium.com/dair-ai/building-rnns-is-fun-with-pytorch-and-google-colab-3903ea9a3a79)\n",
    "* [Good tutorials about Torch sentiment](https://github.com/bentrevett/pytorch-sentiment-analysis)"
   ]
  },
  {
   "cell_type": "markdown",
   "metadata": {},
   "source": [
    "## Vanilla RNN"
   ]
  },
  {
   "cell_type": "markdown",
   "metadata": {},
   "source": [
    "<img src=\"http://colah.github.io/posts/2015-08-Understanding-LSTMs/img/LSTM3-SimpleRNN.png\" width=\"600\">"
   ]
  },
  {
   "cell_type": "markdown",
   "metadata": {},
   "source": [
    "$$\\Large h_{i+1} = tanh(W_x \\cdot X_{i+1} + W_y \\cdot h_{i})$$"
   ]
  },
  {
   "cell_type": "markdown",
   "metadata": {},
   "source": [
    "# RNN intro\n",
    "\n",
    "\n",
    "Давайте разберемся что из себя вообще представляют рекуррентные нейронные сети в самом простом виде.\n",
    "\n",
    "В самом простом виде для одного входного вектора $x_{(t)}$ и одного слоя рекуррентной сети справедливо такое соотношение:\n",
    "\n",
    "$$y_{(t)} = \\phi (x_{(t)}^T \\cdot w_x + y_{(t-1)}^T \\cdot w_y + b)$$\n",
    "\n",
    "где \n",
    "* $x(t)$ -- входной вектор на текущем шаге\n",
    "* $y(t)$ -- выходной вектор на текущем шаге\n",
    "* $w_x$ -- вектор весов нейронов для входа\n",
    "* $w_y$ -- вектор весов нейронов для выхода\n",
    "* $y(t-1)$ -- выходной вектор с прошлого шага. Для шага 0 этот вектор нулевой\n",
    "* $b$ -- байес (bias)\n",
    "* $\\phi$ -- обозначение для функции активации, например ReLU\n",
    "\n",
    "\n",
    "<img src=\"http://colah.github.io/posts/2015-08-Understanding-LSTMs/img/RNN-unrolled.png\" width=\"600\">\n",
    "\n",
    "Есть понятие **hidden_state** ( $h(t)$ ) -- это \"память\" рекуррентной ячейки.\n",
    "\n",
    "В общем случае $h_{(t)} = f(h_{(t-1)}, x_{(t)})$, на выход также $y{(t)} = f(h{(t-1)}, x{(t)})$.\n",
    "\n",
    "\n",
    "### Упрощение формулы\n",
    "\n",
    "Снова немножко математики чтобы привести формулу выше к более удобному виду.\n",
    "\n",
    "Представим, что на вход подается не один вектор $x_{(t)}$, а целый мини-батч размера $m$ таких векторов $X_{(t)}$, соответственно все дальнейшие размышления мы уже производим в матричном виде:\n",
    "\n",
    "$$ Y_{(t)} = \\phi(X_{(t)}^T \\cdot W_x + Y_{(t-1)}^T \\cdot W_y + b) = \\phi([X_{(t)} Y_{(t-1)}] \\cdot W + b) $$\n",
    "где\n",
    "$$ W = [W_x W_y]^T $$\n",
    "\n",
    "*Операция в скобках квадратных -- конкатенация матриц\n",
    "\n",
    "По размерностям:\n",
    "* $Y_{(t)}$ -- матрица [$m$ x n_neurons]\n",
    "* $X_{(t)}$ -- матрица [$m$ x n_features]\n",
    "* $b$ -- вектор длины n_neurons\n",
    "* $W_x$ -- веса между входами и нейронами размерностью [n_features x n_neurons]\n",
    "* $W_y$ -- веса связей с прошлым выходом размерностью [n_neurons x n_neurons]"
   ]
  },
  {
   "cell_type": "markdown",
   "metadata": {},
   "source": [
    "# RNN from scratch"
   ]
  },
  {
   "cell_type": "markdown",
   "metadata": {},
   "source": [
    "### Задание\n",
    "\n",
    "Напишите класс RNN реализующий vanilla RNN"
   ]
  },
  {
   "cell_type": "code",
   "execution_count": 2,
   "metadata": {},
   "outputs": [],
   "source": [
    "import torch.nn as nn\n",
    "\n",
    "class RNN(nn.Module):\n",
    "    def __init__(self, input_size, hidden_size):\n",
    "        super(RNN, self).__init__()\n",
    "\n",
    "        self.hidden_size = hidden_size\n",
    "        self.W = nn.Linear(input_size + hidden_size, hidden_size)\n",
    "        self.T = nn.Tanh()\n",
    "        # batch_size * (input_size + hidden_size)\n",
    "        #              (input_size + hidden_size) * hidden_size\n",
    "\n",
    "    def forward(self, input_data, hidden):\n",
    "#         print(input_data.shape, hidden.shape)\n",
    "#         print(torch.cat([input_data, hidden], 1).shape)\n",
    "        A = self.W.forward(torch.cat([input_data, hidden], 1))\n",
    "        hidden = self.T(A)\n",
    "        return hidden\n",
    "\n",
    "    def initHidden(self, batch_size):\n",
    "        return torch.zeros(batch_size, self.hidden_size)"
   ]
  },
  {
   "cell_type": "code",
   "execution_count": 3,
   "metadata": {},
   "outputs": [],
   "source": [
    "input_feature_size = 6\n",
    "hidden_size=5\n",
    "batch_size=1"
   ]
  },
  {
   "cell_type": "code",
   "execution_count": 4,
   "metadata": {},
   "outputs": [],
   "source": [
    "rnn = RNN(input_size=input_feature_size, hidden_size=hidden_size)\n",
    "initial_hidden = rnn.initHidden(batch_size)"
   ]
  },
  {
   "cell_type": "code",
   "execution_count": 5,
   "metadata": {},
   "outputs": [],
   "source": [
    "input_example = torch.rand([batch_size, input_feature_size])\n",
    "new_hidden = rnn(input_example, initial_hidden)"
   ]
  },
  {
   "cell_type": "code",
   "execution_count": 6,
   "metadata": {},
   "outputs": [
    {
     "name": "stdout",
     "output_type": "stream",
     "text": [
      "torch.Size([1, 5])\n"
     ]
    }
   ],
   "source": [
    "print(new_hidden.shape)"
   ]
  },
  {
   "cell_type": "code",
   "execution_count": 7,
   "metadata": {},
   "outputs": [
    {
     "name": "stdout",
     "output_type": "stream",
     "text": [
      "initial_hidden:  [[0. 0. 0. 0. 0.]]\n",
      "new_hidden:  [[ 0.19985835  0.16307105 -0.00350405 -0.05697255  0.2615539 ]]\n"
     ]
    }
   ],
   "source": [
    "print(\"initial_hidden: \", initial_hidden.numpy())\n",
    "print(\"new_hidden: \", new_hidden.detach().numpy())"
   ]
  },
  {
   "cell_type": "code",
   "execution_count": 8,
   "metadata": {},
   "outputs": [
    {
     "name": "stdout",
     "output_type": "stream",
     "text": [
      "new_hidden:  [[0.18390346 0.20857358 0.08123346 0.04525935 0.2951674 ]]\n"
     ]
    }
   ],
   "source": [
    "new_hidden = rnn(input_example, new_hidden)\n",
    "print(\"new_hidden: \", new_hidden.detach().numpy())"
   ]
  },
  {
   "cell_type": "markdown",
   "metadata": {},
   "source": [
    "### Задание\n",
    "\n",
    "Модифицировать код так, чтобы на входе можно было подавать батчи размером больше 1."
   ]
  },
  {
   "cell_type": "markdown",
   "metadata": {},
   "source": [
    "# Классификация картинок с RNN"
   ]
  },
  {
   "cell_type": "markdown",
   "metadata": {},
   "source": [
    "<img src=\"https://cdn-images-1.medium.com/max/2000/1*wFYZpxTTiXVqncOLQd_CIQ.jpeg\" width=\"800\">"
   ]
  },
  {
   "cell_type": "code",
   "execution_count": 9,
   "metadata": {},
   "outputs": [
    {
     "name": "stdout",
     "output_type": "stream",
     "text": [
      "mkdir: cannot create directory ‘data’: File exists\r\n"
     ]
    }
   ],
   "source": [
    "!mkdir data"
   ]
  },
  {
   "cell_type": "markdown",
   "metadata": {},
   "source": [
    "Загружаем данные"
   ]
  },
  {
   "cell_type": "code",
   "execution_count": 10,
   "metadata": {},
   "outputs": [],
   "source": [
    "import torchvision\n",
    "import torchvision.transforms as transforms\n",
    "\n",
    "BATCH_SIZE = 64\n",
    "\n",
    "# переводим все в тензоры\n",
    "transform = transforms.Compose(\n",
    "    [transforms.ToTensor()])\n",
    "\n",
    "trainset = torchvision.datasets.MNIST(root='./data', train=True,\n",
    "                                        download=True, transform=transform)\n",
    "trainloader = torch.utils.data.DataLoader(trainset, batch_size=BATCH_SIZE,\n",
    "                                          shuffle=True, num_workers=2)\n",
    "\n",
    "testset = torchvision.datasets.MNIST(root='./data', train=False,\n",
    "                                       download=True, transform=transform)\n",
    "testloader = torch.utils.data.DataLoader(testset, batch_size=BATCH_SIZE,\n",
    "                                         shuffle=False, num_workers=2)"
   ]
  },
  {
   "cell_type": "code",
   "execution_count": 11,
   "metadata": {},
   "outputs": [
    {
     "name": "stdout",
     "output_type": "stream",
     "text": [
      "total 8,0K\r\n",
      "drwxr-xr-x 3 kikos kikos 4,0K мар 23 14:22 imdb\r\n",
      "drwxr-xr-x 4 kikos kikos 4,0K мар 23 13:57 MNIST\r\n"
     ]
    }
   ],
   "source": [
    "!ls -lh data/"
   ]
  },
  {
   "cell_type": "code",
   "execution_count": 12,
   "metadata": {},
   "outputs": [
    {
     "name": "stdout",
     "output_type": "stream",
     "text": [
      "Populating the interactive namespace from numpy and matplotlib\n"
     ]
    },
    {
     "data": {
      "image/png": "[encoded data removed]",
      "text/plain": [
       "<Figure size 432x288 with 1 Axes>"
      ]
     },
     "metadata": {},
     "output_type": "display_data"
    }
   ],
   "source": [
    "%pylab inline\n",
    "import numpy as np\n",
    "\n",
    "# functions to show an image\n",
    "def imshow(img):\n",
    "    #img = img / 2 + 0.5     # unnormalize\n",
    "    npimg = img.numpy()\n",
    "    plt.imshow(np.transpose(npimg, (1, 2, 0)))\n",
    "\n",
    "# get some random training images\n",
    "dataiter = iter(trainloader)\n",
    "images, labels = dataiter.next()\n",
    "\n",
    "# show images\n",
    "imshow(torchvision.utils.make_grid(images))"
   ]
  },
  {
   "cell_type": "markdown",
   "metadata": {},
   "source": [
    "## Как выглядит классификация с RNN в общем виде "
   ]
  },
  {
   "cell_type": "markdown",
   "metadata": {},
   "source": [
    "<img src=\"https://cdn-images-1.medium.com/max/1600/1*vhAfRLlaeOXZ-bruv7Ostg.png\" width=\"400\">"
   ]
  },
  {
   "cell_type": "code",
   "execution_count": 13,
   "metadata": {},
   "outputs": [],
   "source": [
    "class ImageRNN(nn.Module):\n",
    "    def __init__(self, batch_size, n_steps, n_inputs, n_neurons, n_outputs):\n",
    "        super(ImageRNN, self).__init__()\n",
    "        \n",
    "        self.n_neurons = n_neurons\n",
    "        self.batch_size = batch_size\n",
    "        self.n_steps = n_steps\n",
    "        self.n_inputs = n_inputs\n",
    "        self.n_outputs = n_outputs\n",
    "        \n",
    "        self.basic_rnn = nn.RNN(self.n_inputs, self.n_neurons) \n",
    "        \n",
    "        self.FC = nn.Linear(self.n_neurons, self.n_outputs)\n",
    "        \n",
    "    def init_hidden(self,):\n",
    "        # (num_layers, batch_size, n_neurons)\n",
    "        return (torch.zeros(1, self.batch_size, self.n_neurons))\n",
    "        \n",
    "    def forward(self, X):\n",
    "        # transforms X to dimensions: n_steps X batch_size X n_inputs\n",
    "        X = X.permute(1, 0, 2) \n",
    "        \n",
    "        self.batch_size = X.size(1)\n",
    "        self.hidden = self.init_hidden()\n",
    "        \n",
    "        lstm_out, self.hidden = self.basic_rnn(X, self.hidden)      \n",
    "        out = self.FC(self.hidden)\n",
    "        \n",
    "        return out.view(-1, self.n_outputs) # batch_size X n_output"
   ]
  },
  {
   "cell_type": "code",
   "execution_count": 14,
   "metadata": {},
   "outputs": [],
   "source": [
    "N_STEPS = 28\n",
    "N_INPUTS = 28\n",
    "N_NEURONS = 150\n",
    "N_OUTPUTS = 10\n",
    "N_EPHOCS = 10"
   ]
  },
  {
   "cell_type": "code",
   "execution_count": 15,
   "metadata": {},
   "outputs": [
    {
     "name": "stdout",
     "output_type": "stream",
     "text": [
      "tensor([[-0.0574, -0.0166, -0.0395,  0.0174,  0.0266,  0.0328, -0.0649, -0.0342,\n",
      "         -0.1731, -0.0519],\n",
      "        [-0.0555, -0.0030, -0.0335,  0.0162,  0.0292,  0.0346, -0.0583, -0.0344,\n",
      "         -0.1745, -0.0510],\n",
      "        [-0.0593,  0.0093, -0.0469,  0.0195,  0.0267,  0.0306, -0.0611, -0.0300,\n",
      "         -0.1875, -0.0602],\n",
      "        [-0.0579, -0.0103, -0.0470,  0.0060,  0.0229,  0.0339, -0.0607, -0.0399,\n",
      "         -0.1641, -0.0461],\n",
      "        [-0.0554, -0.0242, -0.0373,  0.0188,  0.0265,  0.0182, -0.0567, -0.0562,\n",
      "         -0.1696, -0.0460],\n",
      "        [-0.0576, -0.0136, -0.0335,  0.0175,  0.0242,  0.0273, -0.0586, -0.0358,\n",
      "         -0.1790, -0.0541],\n",
      "        [-0.0651, -0.0011, -0.0397, -0.0044,  0.0365,  0.0351, -0.0601, -0.0618,\n",
      "         -0.1657, -0.0448],\n",
      "        [-0.0560, -0.0068, -0.0366,  0.0236,  0.0300,  0.0302, -0.0684, -0.0346,\n",
      "         -0.1731, -0.0622],\n",
      "        [-0.0633, -0.0127, -0.0455,  0.0163,  0.0369,  0.0166, -0.0641, -0.0418,\n",
      "         -0.1604, -0.0608],\n",
      "        [-0.0675, -0.0079, -0.0415, -0.0102,  0.0389,  0.0338, -0.0660, -0.0469,\n",
      "         -0.1452, -0.0469]], grad_fn=<SliceBackward>)\n"
     ]
    }
   ],
   "source": [
    "dataiter = iter(trainloader)\n",
    "images, labels = dataiter.next()\n",
    "model = ImageRNN(BATCH_SIZE, N_STEPS, N_INPUTS, N_NEURONS, N_OUTPUTS)\n",
    "logits = model(images.view(-1, 28,28))\n",
    "print(logits[0:10])"
   ]
  },
  {
   "cell_type": "markdown",
   "metadata": {},
   "source": [
    "## Обучаем"
   ]
  },
  {
   "cell_type": "code",
   "execution_count": 16,
   "metadata": {},
   "outputs": [],
   "source": [
    "import torch.optim as optim\n",
    "\n",
    "# Device\n",
    "device = torch.device(\"cuda:0\" if torch.cuda.is_available() else \"cpu\")\n",
    "\n",
    "# Model instance\n",
    "model = ImageRNN(BATCH_SIZE, N_STEPS, N_INPUTS, N_NEURONS, N_OUTPUTS)\n",
    "criterion = nn.CrossEntropyLoss()\n",
    "optimizer = optim.Adam(model.parameters(), lr=0.001)\n",
    "\n",
    "def get_accuracy(logit, target, batch_size):\n",
    "    ''' Obtain accuracy for training round '''\n",
    "    corrects = (torch.max(logit, 1)[1].view(target.size()).data == target.data).sum()\n",
    "    accuracy = 100.0 * corrects/batch_size\n",
    "    return accuracy.item()"
   ]
  },
  {
   "cell_type": "code",
   "execution_count": 17,
   "metadata": {},
   "outputs": [
    {
     "name": "stdout",
     "output_type": "stream",
     "text": [
      "Epoch:  0 | Loss: 0.8794 | Train Accuracy: 70.11\n",
      "Epoch:  1 | Loss: 0.3838 | Train Accuracy: 88.18\n",
      "Epoch:  2 | Loss: 0.2722 | Train Accuracy: 91.62\n",
      "Epoch:  3 | Loss: 0.2240 | Train Accuracy: 93.15\n",
      "Epoch:  4 | Loss: 0.1907 | Train Accuracy: 94.06\n",
      "Epoch:  5 | Loss: 0.1692 | Train Accuracy: 94.78\n",
      "Epoch:  6 | Loss: 0.1528 | Train Accuracy: 95.13\n",
      "Epoch:  7 | Loss: 0.1466 | Train Accuracy: 95.35\n",
      "Epoch:  8 | Loss: 0.1314 | Train Accuracy: 95.75\n",
      "Epoch:  9 | Loss: 0.1235 | Train Accuracy: 95.96\n"
     ]
    }
   ],
   "source": [
    "for epoch in range(N_EPHOCS):  # loop over the dataset multiple times\n",
    "    train_running_loss = 0.0\n",
    "    train_acc = 0.0\n",
    "    model.train()\n",
    "    \n",
    "    # TRAINING ROUND\n",
    "    for i, data in enumerate(trainloader):\n",
    "         # zero the parameter gradients\n",
    "        optimizer.zero_grad()\n",
    "        \n",
    "        # reset hidden states\n",
    "        model.hidden = model.init_hidden() \n",
    "        \n",
    "        # get the inputs\n",
    "        inputs, labels = data\n",
    "        inputs = inputs.view(-1, 28,28) \n",
    "\n",
    "        # forward + backward + optimize\n",
    "        outputs = model(inputs)\n",
    "\n",
    "        loss = criterion(outputs, labels)\n",
    "        loss.backward()\n",
    "        optimizer.step()\n",
    "\n",
    "        train_running_loss += loss.detach().item()\n",
    "        train_acc += get_accuracy(outputs, labels, BATCH_SIZE)\n",
    "         \n",
    "    model.eval()\n",
    "    print('Epoch:  %d | Loss: %.4f | Train Accuracy: %.2f' \n",
    "          %(epoch, train_running_loss / i, train_acc/i))"
   ]
  },
  {
   "cell_type": "markdown",
   "metadata": {},
   "source": [
    "### Смотрим что на тесте"
   ]
  },
  {
   "cell_type": "code",
   "execution_count": 17,
   "metadata": {},
   "outputs": [
    {
     "name": "stdout",
     "output_type": "stream",
     "text": [
      "Test Accuracy: 9.13\n"
     ]
    }
   ],
   "source": [
    "test_acc = 0.0\n",
    "for i, data in enumerate(testloader, 0):\n",
    "    inputs, labels = data\n",
    "    inputs = inputs.view(-1, 28, 28)\n",
    "\n",
    "    outputs = model(inputs)\n",
    "\n",
    "    test_acc += get_accuracy(outputs, labels, BATCH_SIZE)\n",
    "        \n",
    "print('Test Accuracy: %.2f'%( test_acc/i))"
   ]
  },
  {
   "cell_type": "markdown",
   "metadata": {},
   "source": [
    "# Сентимент анализ по аналогии\n",
    "\n",
    "пишем сами с нуля\n",
    "\n",
    "<img src=\"https://github.com/bentrevett/pytorch-sentiment-analysis/raw/bf8cc46e4823ebf9af721b595501ad6231c73632/assets/sentiment1.png\">"
   ]
  },
  {
   "cell_type": "markdown",
   "metadata": {},
   "source": [
    "$~ pip install torchtext\n",
    "\n",
    "$~ python -m spacy download en\n"
   ]
  },
  {
   "cell_type": "code",
   "execution_count": 18,
   "metadata": {},
   "outputs": [],
   "source": [
    "import torch\n",
    "from torchtext import data\n",
    "\n",
    "SEED = 1234\n",
    "\n",
    "torch.manual_seed(SEED)\n",
    "torch.cuda.manual_seed(SEED)\n",
    "torch.backends.cudnn.deterministic = True\n",
    "\n",
    "TEXT = data.Field(tokenize='spacy')\n",
    "LABEL = data.LabelField(dtype=torch.float)"
   ]
  },
  {
   "cell_type": "code",
   "execution_count": 19,
   "metadata": {},
   "outputs": [],
   "source": [
    "from torchtext import datasets\n",
    "train_data, test_data = datasets.IMDB.splits(TEXT, LABEL, root=\"./data\")"
   ]
  },
  {
   "cell_type": "code",
   "execution_count": 20,
   "metadata": {},
   "outputs": [
    {
     "name": "stdout",
     "output_type": "stream",
     "text": [
      "total 1,7M\r\n",
      "-rw-r--r-- 1 kikos kikos 882K июн 12  2011 imdbEr.txt\r\n",
      "-rw-r--r-- 1 kikos kikos 827K апр 12  2011 imdb.vocab\r\n",
      "-rw-r--r-- 1 kikos kikos 4,0K июн 26  2011 README\r\n",
      "drwxr-xr-x 4 kikos kikos 4,0K апр 12  2011 \u001b[0m\u001b[01;34mtest\u001b[0m/\r\n",
      "drwxr-xr-x 5 kikos kikos 4,0K июн 26  2011 \u001b[01;34mtrain\u001b[0m/\r\n"
     ]
    }
   ],
   "source": [
    "ls -lh data/imdb/aclImdb/"
   ]
  },
  {
   "cell_type": "code",
   "execution_count": 21,
   "metadata": {},
   "outputs": [
    {
     "name": "stdout",
     "output_type": "stream",
     "text": [
      "25000\n",
      "25000\n"
     ]
    }
   ],
   "source": [
    "print(len(train_data))\n",
    "print(len(test_data))"
   ]
  },
  {
   "cell_type": "code",
   "execution_count": 22,
   "metadata": {},
   "outputs": [
    {
     "name": "stdout",
     "output_type": "stream",
     "text": [
      "{'text': ['It', \"'s\", 'a', 'shame', 'that', 'Deliverance', 'is', 'mainly', 'known', 'as', 'the', 'redneck', 'rape', 'movie', 'and', 'for', 'Dueling', 'Banjos', '.', 'Even', 'people', 'that', 'have', 'seen', 'the', 'film', 'ca', \"n't\", 'get', 'their', 'mind', 'off', 'of', 'that', 'rape', 'scene', '.', 'It', \"'s\", 'not', 'as', 'bad', 'as', 'the', 'rape', 'scene', 'in', 'Pulp', 'Fiction', '.', 'It', \"'s\", 'certainly', 'not', 'as', 'bad', 'as', 'any', 'female', 'rape', 'scene', 'in', 'just', 'about', 'any', 'movie', '.', 'People', 'tend', 'to', 'miss', 'the', 'power', 'of', 'the', 'film', 'that', 'contains', 'the', 'infamous', 'buggery', 'scene.<br', '/><br', '/>The', 'acting', ',', 'plot', ',', 'cinematography', ',', 'and', 'soundtrack', 'of', 'Deliverance', 'all', 'lend', 'a', 'hand', 'to', 'it', \"'s\", 'brooding', 'charisma', '.', 'The', 'backcountry', 'it', 'was', 'shot', 'in', 'is', 'beautiful', 'and', 'is', 'quite', 'in', 'contrast', 'to', 'the', 'dark', 'subject', 'matter', '.', 'The', 'actors', 'both', 'major', 'and', 'minor', 'make', 'you', 'feel', 'like', 'you', 'are', 'rafting', 'down', 'that', 'river', 'right', 'along', 'with', 'them', '.', '<', 'br', '/><br', '/>The', 'thing', 'that', 'separates', 'this', 'film', 'from', 'others', 'is', 'the', 'tangible', 'sense', 'of', 'dread', 'that', 'it', 'inspires', '.', 'Not', 'many', 'films', 'can', 'make', 'you', 'feel', 'this', 'creeped', 'out', '.', 'Bottom', 'Line', ':', 'This', 'movie', 'is', 'a', 'classic', '.', 'I', 'ca', \"n't\", 'really', 'say', 'much', 'more', 'than', 'that', '.'], 'label': 'pos'}\n"
     ]
    }
   ],
   "source": [
    "print(vars(train_data.examples[0]))"
   ]
  },
  {
   "cell_type": "code",
   "execution_count": 23,
   "metadata": {},
   "outputs": [],
   "source": [
    "# Сделаем еще eval\n",
    "import random\n",
    "\n",
    "train_data, valid_data = train_data.split(random_state=random.seed(SEED))"
   ]
  },
  {
   "cell_type": "code",
   "execution_count": 24,
   "metadata": {},
   "outputs": [],
   "source": [
    "# Сделаем словарь\n",
    "TEXT.build_vocab(train_data, max_size=25000)\n",
    "LABEL.build_vocab(train_data)"
   ]
  },
  {
   "cell_type": "code",
   "execution_count": 25,
   "metadata": {},
   "outputs": [
    {
     "name": "stdout",
     "output_type": "stream",
     "text": [
      "25002\n",
      "2\n"
     ]
    }
   ],
   "source": [
    "print(len(TEXT.vocab))\n",
    "print(len(LABEL.vocab))"
   ]
  },
  {
   "cell_type": "code",
   "execution_count": 26,
   "metadata": {},
   "outputs": [
    {
     "data": {
      "text/plain": [
       "{'freqs': Counter({'neg': 8810, 'pos': 8690}),\n",
       " 'itos': ['neg', 'pos'],\n",
       " 'stoi': defaultdict(<function torchtext.vocab._default_unk_index()>,\n",
       "             {'neg': 0, 'pos': 1}),\n",
       " 'vectors': None}"
      ]
     },
     "execution_count": 26,
     "metadata": {},
     "output_type": "execute_result"
    }
   ],
   "source": [
    "vars(LABEL.vocab)"
   ]
  },
  {
   "cell_type": "markdown",
   "metadata": {},
   "source": [
    "Почему 25002, а не 25000?\n",
    "Потому что $<unk>$ и $<pad>$\n",
    "\n",
    "<img src=\"https://github.com/bentrevett/pytorch-sentiment-analysis/raw/bf8cc46e4823ebf9af721b595501ad6231c73632/assets/sentiment6.png\" width=\"160\">"
   ]
  },
  {
   "cell_type": "code",
   "execution_count": 27,
   "metadata": {},
   "outputs": [
    {
     "name": "stdout",
     "output_type": "stream",
     "text": [
      "[('the', 202165), (',', 191769), ('.', 165291), ('and', 109267), ('a', 109187), ('of', 100767), ('to', 93592), ('is', 76329), ('in', 61186), ('I', 54838), ('it', 53748), ('that', 49252), ('\"', 44622), (\"'s\", 43189), ('this', 42497), ('-', 36931), ('/><br', 35279), ('was', 35271), ('as', 30667), ('movie', 29983)]\n"
     ]
    }
   ],
   "source": [
    "print(TEXT.vocab.freqs.most_common(20))"
   ]
  },
  {
   "cell_type": "markdown",
   "metadata": {},
   "source": [
    "* stoi (string to int)\n",
    "* itos (int to string)"
   ]
  },
  {
   "cell_type": "code",
   "execution_count": 28,
   "metadata": {},
   "outputs": [
    {
     "name": "stdout",
     "output_type": "stream",
     "text": [
      "['<unk>', '<pad>', 'the', ',', '.', 'and', 'a', 'of', 'to', 'is']\n"
     ]
    }
   ],
   "source": [
    "print(TEXT.vocab.itos[:10])"
   ]
  },
  {
   "cell_type": "code",
   "execution_count": 29,
   "metadata": {},
   "outputs": [
    {
     "name": "stdout",
     "output_type": "stream",
     "text": [
      "defaultdict(<function _default_unk_index at 0x7fad30bafd08>, {'pos': 1, 'neg': 0})\n"
     ]
    }
   ],
   "source": [
    "print(LABEL.vocab.stoi)"
   ]
  },
  {
   "cell_type": "code",
   "execution_count": 74,
   "metadata": {},
   "outputs": [],
   "source": [
    "BATCH_SIZE = 64\n",
    "\n",
    "device = torch.device('cuda' if torch.cuda.is_available() else 'cpu')\n",
    "\n",
    "# собираем батчи так, чтобы в каждом батче были примеры наиболее похожей длины\n",
    "train_iterator, valid_iterator, test_iterator = data.BucketIterator.splits(\n",
    "    (train_data, valid_data, test_data), \n",
    "    batch_size=BATCH_SIZE,\n",
    "    device=device)"
   ]
  },
  {
   "cell_type": "markdown",
   "metadata": {},
   "source": [
    "## Делаем модель"
   ]
  },
  {
   "cell_type": "markdown",
   "metadata": {},
   "source": [
    "<img src=\"https://github.com/bentrevett/pytorch-sentiment-analysis/raw/bf8cc46e4823ebf9af721b595501ad6231c73632/assets/sentiment7.png\" width=\"450\">"
   ]
  },
  {
   "cell_type": "markdown",
   "metadata": {},
   "source": [
    "* В эмбеддер (emb = [torch.nn.Embedding(num_embeddings, embedding_dim)](https://pytorch.org/docs/stable/nn.html?highlight=embedding#torch.nn.Embedding)) запихиваем тензор размерностью **[sentence length, batch size]**\n",
    "* Эмбеддер возвращает тензор размерностью **[sentence length, batch size, embedding dim]**\n",
    "* RNN (torch.nn.RNN(embedding_dim, hidden_dim)) возвращает 2 тензора, *output* размера [sentence length, batch size, hidden dim] и *hidden* размера [1, batch size, hidden dim]"
   ]
  },
  {
   "cell_type": "code",
   "execution_count": 78,
   "metadata": {},
   "outputs": [],
   "source": [
    "def out(t):\n",
    "    for x in t:\n",
    "        print(TEXT.vocab.itos[x], end=' ')\n",
    "    print()\n",
    "\n",
    "class RNN(nn.Module):\n",
    "    def __init__(self, input_dim, embedding_dim, hidden_dim, output_dim):\n",
    "        super().__init__()\n",
    "        self.input_dim = input_dim\n",
    "        self.embedding_dim = embedding_dim\n",
    "        self.hidden_dim = hidden_dim\n",
    "        self.output_dim = output_dim\n",
    "        self.embedding = nn.Embedding(len(TEXT.vocab), embedding_dim)\n",
    "        self.rnn = nn.RNN(embedding_dim, hidden_dim, dropout=0.6)\n",
    "        self.fc = nn.Linear(hidden_dim, output_dim)\n",
    "        \n",
    "        # можно добавить линейный слой, который делает проекцию в 2 класса\n",
    "    def forward(self, text):\n",
    "\n",
    "        #text = [sent len, batch size]\n",
    "#         print(text.shape)\n",
    "        text = text.permute(1, 0)\n",
    "#         print(text.shape)\n",
    "#         out(text[0]);\n",
    "#         out(text[1]);\n",
    "        embedded = self.embedding(text)\n",
    "        embedded = embedded.permute(1, 0, 2)\n",
    "        #embedded = [sent len, batch size, emb dim]\n",
    "        hidden = torch.zeros(1, BATCH_SIZE, self.hidden_dim)\n",
    "#         print(embedded.shape)\n",
    "#         print(hidden.shape)\n",
    "        output, hidden = self.rnn(embedded, hidden)\n",
    "        \n",
    "        #output = [sent len, batch size, hid dim]\n",
    "        #hidden = [1, batch size, hid dim]\n",
    "        \n",
    "#         assert torch.equal(output[-1,:,:], hidden.squeeze(0))\n",
    "        \n",
    "        return self.fc(hidden.squeeze(0))"
   ]
  },
  {
   "cell_type": "code",
   "execution_count": 79,
   "metadata": {},
   "outputs": [
    {
     "name": "stderr",
     "output_type": "stream",
     "text": [
      "/home/kikos/anaconda3/lib/python3.5/site-packages/torch/nn/modules/rnn.py:46: UserWarning: dropout option adds dropout after all but last recurrent layer, so non-zero dropout expects num_layers greater than 1, but got dropout=0.6 and num_layers=1\n",
      "  \"num_layers={}\".format(dropout, num_layers))\n"
     ]
    }
   ],
   "source": [
    "device = torch.device(\"cuda:0\" if torch.cuda.is_available() else \"cpu\")\n",
    "\n",
    "N_EPHOCS = 25\n",
    "N_WORDS = 40\n",
    "N_EMBEDDED = 42\n",
    "N_HIDDEN = 20\n",
    "N_OUTPUT = 2\n",
    "model = RNN(N_WORDS, N_EMBEDDED, N_HIDDEN, N_OUTPUT)\n",
    "criterion = nn.CrossEntropyLoss()\n",
    "optimizer = optim.Adam(model.parameters(), lr=0.001)\n",
    "def get_accuracy(logit, target, batch_size):    \n",
    "    corrects = np.isclose(np.argmax(logit.detach().numpy(), axis=1), target.data.detach().numpy())\n",
    "#     print(corrects)\n",
    "    accuracy = 100.0 * corrects.sum()/batch_size\n",
    "    return accuracy.item()"
   ]
  },
  {
   "cell_type": "code",
   "execution_count": 80,
   "metadata": {},
   "outputs": [
    {
     "name": "stdout",
     "output_type": "stream",
     "text": [
      "Epoch:  0 | Loss: 0.7067 | Train Accuracy: 50.44\n",
      "Epoch:  1 | Loss: 0.6905 | Train Accuracy: 52.98\n",
      "Epoch:  2 | Loss: 0.6840 | Train Accuracy: 55.31\n",
      "Epoch:  3 | Loss: 0.6723 | Train Accuracy: 58.41\n",
      "Epoch:  4 | Loss: 0.6455 | Train Accuracy: 62.63\n",
      "Epoch:  5 | Loss: 0.5923 | Train Accuracy: 68.74\n",
      "Epoch:  6 | Loss: 0.5226 | Train Accuracy: 74.66\n",
      "Epoch:  7 | Loss: 0.4593 | Train Accuracy: 79.12\n",
      "Epoch:  8 | Loss: 0.4063 | Train Accuracy: 82.39\n",
      "Epoch:  9 | Loss: 0.3531 | Train Accuracy: 85.45\n",
      "Epoch:  10 | Loss: 0.3039 | Train Accuracy: 88.18\n",
      "Epoch:  11 | Loss: 0.2600 | Train Accuracy: 90.32\n",
      "Epoch:  12 | Loss: 0.2262 | Train Accuracy: 91.88\n",
      "Epoch:  13 | Loss: 0.1981 | Train Accuracy: 92.95\n",
      "Epoch:  14 | Loss: 0.1738 | Train Accuracy: 93.92\n",
      "Epoch:  15 | Loss: 0.1519 | Train Accuracy: 94.95\n",
      "Epoch:  16 | Loss: 0.1278 | Train Accuracy: 95.96\n"
     ]
    },
    {
     "ename": "KeyboardInterrupt",
     "evalue": "",
     "output_type": "error",
     "traceback": [
      "\u001b[0;31m---------------------------------------------------------------------------\u001b[0m",
      "\u001b[0;31mKeyboardInterrupt\u001b[0m                         Traceback (most recent call last)",
      "\u001b[0;32m<ipython-input-80-06eae8faf2fe>\u001b[0m in \u001b[0;36m<module>\u001b[0;34m()\u001b[0m\n\u001b[1;32m     33\u001b[0m \u001b[0;34m\u001b[0m\u001b[0m\n\u001b[1;32m     34\u001b[0m         \u001b[0mloss\u001b[0m \u001b[0;34m=\u001b[0m \u001b[0mcriterion\u001b[0m\u001b[0;34m(\u001b[0m\u001b[0moutputs\u001b[0m\u001b[0;34m,\u001b[0m \u001b[0mlabel\u001b[0m\u001b[0;34m)\u001b[0m\u001b[0;34m\u001b[0m\u001b[0m\n\u001b[0;32m---> 35\u001b[0;31m         \u001b[0mloss\u001b[0m\u001b[0;34m.\u001b[0m\u001b[0mbackward\u001b[0m\u001b[0;34m(\u001b[0m\u001b[0;34m)\u001b[0m\u001b[0;34m\u001b[0m\u001b[0m\n\u001b[0m\u001b[1;32m     36\u001b[0m         \u001b[0moptimizer\u001b[0m\u001b[0;34m.\u001b[0m\u001b[0mstep\u001b[0m\u001b[0;34m(\u001b[0m\u001b[0;34m)\u001b[0m\u001b[0;34m\u001b[0m\u001b[0m\n\u001b[1;32m     37\u001b[0m \u001b[0;34m\u001b[0m\u001b[0m\n",
      "\u001b[0;32m~/anaconda3/lib/python3.5/site-packages/torch/tensor.py\u001b[0m in \u001b[0;36mbackward\u001b[0;34m(self, gradient, retain_graph, create_graph)\u001b[0m\n\u001b[1;32m    100\u001b[0m                 \u001b[0mproducts\u001b[0m\u001b[0;34m.\u001b[0m \u001b[0mDefaults\u001b[0m \u001b[0mto\u001b[0m\u001b[0;31m \u001b[0m\u001b[0;31m`\u001b[0m\u001b[0;31m`\u001b[0m\u001b[0;32mFalse\u001b[0m\u001b[0;31m`\u001b[0m\u001b[0;31m`\u001b[0m\u001b[0;34m.\u001b[0m\u001b[0;34m\u001b[0m\u001b[0m\n\u001b[1;32m    101\u001b[0m         \"\"\"\n\u001b[0;32m--> 102\u001b[0;31m         \u001b[0mtorch\u001b[0m\u001b[0;34m.\u001b[0m\u001b[0mautograd\u001b[0m\u001b[0;34m.\u001b[0m\u001b[0mbackward\u001b[0m\u001b[0;34m(\u001b[0m\u001b[0mself\u001b[0m\u001b[0;34m,\u001b[0m \u001b[0mgradient\u001b[0m\u001b[0;34m,\u001b[0m \u001b[0mretain_graph\u001b[0m\u001b[0;34m,\u001b[0m \u001b[0mcreate_graph\u001b[0m\u001b[0;34m)\u001b[0m\u001b[0;34m\u001b[0m\u001b[0m\n\u001b[0m\u001b[1;32m    103\u001b[0m \u001b[0;34m\u001b[0m\u001b[0m\n\u001b[1;32m    104\u001b[0m     \u001b[0;32mdef\u001b[0m \u001b[0mregister_hook\u001b[0m\u001b[0;34m(\u001b[0m\u001b[0mself\u001b[0m\u001b[0;34m,\u001b[0m \u001b[0mhook\u001b[0m\u001b[0;34m)\u001b[0m\u001b[0;34m:\u001b[0m\u001b[0;34m\u001b[0m\u001b[0m\n",
      "\u001b[0;32m~/anaconda3/lib/python3.5/site-packages/torch/autograd/__init__.py\u001b[0m in \u001b[0;36mbackward\u001b[0;34m(tensors, grad_tensors, retain_graph, create_graph, grad_variables)\u001b[0m\n\u001b[1;32m     88\u001b[0m     Variable._execution_engine.run_backward(\n\u001b[1;32m     89\u001b[0m         \u001b[0mtensors\u001b[0m\u001b[0;34m,\u001b[0m \u001b[0mgrad_tensors\u001b[0m\u001b[0;34m,\u001b[0m \u001b[0mretain_graph\u001b[0m\u001b[0;34m,\u001b[0m \u001b[0mcreate_graph\u001b[0m\u001b[0;34m,\u001b[0m\u001b[0;34m\u001b[0m\u001b[0m\n\u001b[0;32m---> 90\u001b[0;31m         allow_unreachable=True)  # allow_unreachable flag\n\u001b[0m\u001b[1;32m     91\u001b[0m \u001b[0;34m\u001b[0m\u001b[0m\n\u001b[1;32m     92\u001b[0m \u001b[0;34m\u001b[0m\u001b[0m\n",
      "\u001b[0;31mKeyboardInterrupt\u001b[0m: "
     ]
    }
   ],
   "source": [
    "for epoch in range(N_EPHOCS):  # loop over the dataset multiple times\n",
    "    train_running_loss = 0.0\n",
    "    train_acc = 0.0\n",
    "    model.train()\n",
    "    \n",
    "    # TRAINING ROUND\n",
    "    rounds = 0\n",
    "    for i, _data in enumerate(train_iterator):\n",
    "        if len(_data) != BATCH_SIZE:\n",
    "            continue\n",
    "        rounds += 1\n",
    "        text = _data.text.clone()\n",
    "#         print(text.shape)\n",
    "        label = _data.label\n",
    "        text = text.permute(1, 0)\n",
    "#         print(text.shape)\n",
    "        for x in text:\n",
    "            while len(x) < N_WORDS:\n",
    "                x.append(1)\n",
    "        text = text[:,:N_WORDS]\n",
    "        text = text.permute(1, 0)\n",
    "         # zero the parameter gradients\n",
    "        optimizer.zero_grad()\n",
    "        \n",
    "        # forward + backward + optimize\n",
    "        outputs = model(text)\n",
    "        res_label = torch.zeros(label.shape, dtype=torch.int64)\n",
    "        for i in range(len(res_label)):\n",
    "            if label[i] > 0.5:\n",
    "                res_label[i] = 1\n",
    "        label = res_label\n",
    "        \n",
    "        \n",
    "        loss = criterion(outputs, label)\n",
    "        loss.backward()\n",
    "        optimizer.step()\n",
    "\n",
    "        train_running_loss += loss.detach().item()\n",
    "        train_acc += get_accuracy(outputs, label, BATCH_SIZE)\n",
    "        \n",
    "    model.eval()\n",
    "    print('Epoch:  %d | Loss: %.4f | Train Accuracy: %.2f' \n",
    "          %(epoch, train_running_loss / rounds, train_acc/rounds))"
   ]
  },
  {
   "cell_type": "code",
   "execution_count": 81,
   "metadata": {},
   "outputs": [
    {
     "name": "stdout",
     "output_type": "stream",
     "text": [
      "Epoch:  17 | Loss: 1.0789 | Train Accuracy: 69.07\n"
     ]
    }
   ],
   "source": [
    "model.eval()\n",
    "rounds = 0\n",
    "running_loss = 0.0\n",
    "running_accuracy = 0.0\n",
    "for _data in valid_iterator:\n",
    "    if len(_data) != BATCH_SIZE:\n",
    "            continue\n",
    "    rounds += 1\n",
    "    text = _data.text.clone()\n",
    "#         print(text.shape)\n",
    "    label = _data.label\n",
    "    text = text.permute(1, 0)\n",
    "#         print(text.shape)\n",
    "    for x in text:\n",
    "        while len(x) < N_WORDS:\n",
    "            x.append(1)\n",
    "    text = text[:,:N_WORDS]\n",
    "    text = text.permute(1, 0)\n",
    "     # zero the parameter gradients\n",
    "    # forward + backward + optimize\n",
    "    outputs = model(text)\n",
    "    res_label = torch.zeros(label.shape, dtype=torch.int64)\n",
    "    for i in range(len(res_label)):\n",
    "        if label[i] > 0.5:\n",
    "            res_label[i] = 1\n",
    "    label = res_label\n",
    "    loss = criterion(outputs, label)\n",
    "    \n",
    "    running_loss += loss.detach().item()\n",
    "    running_accuracy += get_accuracy(outputs, label, BATCH_SIZE)\n",
    "print('Epoch:  %d | Loss: %.4f | Train Accuracy: %.2f' \n",
    "          %(epoch, running_loss / rounds, running_accuracy/rounds))"
   ]
  }
 ],
 "metadata": {
  "kernelspec": {
   "display_name": "Python 3",
   "language": "python",
   "name": "python3"
  },
  "language_info": {
   "codemirror_mode": {
    "name": "ipython",
    "version": 3
   },
   "file_extension": ".py",
   "mimetype": "text/x-python",
   "name": "python",
   "nbconvert_exporter": "python",
   "pygments_lexer": "ipython3",
   "version": "3.5.5"
  }
 },
 "nbformat": 4,
 "nbformat_minor": 2
}
