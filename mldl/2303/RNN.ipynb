{
 "cells": [
  {
   "cell_type": "code",
   "execution_count": 1,
   "metadata": {},
   "outputs": [],
   "source": [
    "import torch\n",
    "import torch.nn as nn\n",
    "import torch.nn.functional as F\n",
    "import os\n",
    "import numpy as np"
   ]
  },
  {
   "cell_type": "markdown",
   "metadata": {},
   "source": [
    "## Links:\n",
    "* [Colah blog (LSTM/GRU)](http://colah.github.io/posts/2015-08-Understanding-LSTMs/)\n",
    "* [PyTorch tutorial - RNN for name classification](https://pytorch.org/tutorials/intermediate/char_rnn_classification_tutorial.html)\n",
    "* [MNIST classification with RNN tutorial](https://medium.com/dair-ai/building-rnns-is-fun-with-pytorch-and-google-colab-3903ea9a3a79)\n",
    "* [Good tutorials about Torch sentiment](https://github.com/bentrevett/pytorch-sentiment-analysis)"
   ]
  },
  {
   "cell_type": "markdown",
   "metadata": {},
   "source": [
    "## Vanilla RNN"
   ]
  },
  {
   "cell_type": "markdown",
   "metadata": {},
   "source": [
    "<img src=\"http://colah.github.io/posts/2015-08-Understanding-LSTMs/img/LSTM3-SimpleRNN.png\" width=\"600\">"
   ]
  },
  {
   "cell_type": "markdown",
   "metadata": {},
   "source": [
    "$$\\Large h_{i+1} = tanh(W_x \\cdot X_{i+1} + W_y \\cdot h_{i})$$"
   ]
  },
  {
   "cell_type": "markdown",
   "metadata": {},
   "source": [
    "# RNN intro\n",
    "\n",
    "\n",
    "Давайте разберемся что из себя вообще представляют рекуррентные нейронные сети в самом простом виде.\n",
    "\n",
    "В самом простом виде для одного входного вектора $x_{(t)}$ и одного слоя рекуррентной сети справедливо такое соотношение:\n",
    "\n",
    "$$y_{(t)} = \\phi (x_{(t)}^T \\cdot w_x + y_{(t-1)}^T \\cdot w_y + b)$$\n",
    "\n",
    "где \n",
    "* $x(t)$ -- входной вектор на текущем шаге\n",
    "* $y(t)$ -- выходной вектор на текущем шаге\n",
    "* $w_x$ -- вектор весов нейронов для входа\n",
    "* $w_y$ -- вектор весов нейронов для выхода\n",
    "* $y(t-1)$ -- выходной вектор с прошлого шага. Для шага 0 этот вектор нулевой\n",
    "* $b$ -- байес (bias)\n",
    "* $\\phi$ -- обозначение для функции активации, например ReLU\n",
    "\n",
    "\n",
    "<img src=\"http://colah.github.io/posts/2015-08-Understanding-LSTMs/img/RNN-unrolled.png\" width=\"600\">\n",
    "\n",
    "Есть понятие **hidden_state** ( $h(t)$ ) -- это \"память\" рекуррентной ячейки.\n",
    "\n",
    "В общем случае $h_{(t)} = f(h_{(t-1)}, x_{(t)})$, на выход также $y{(t)} = f(h{(t-1)}, x{(t)})$.\n",
    "\n",
    "\n",
    "### Упрощение формулы\n",
    "\n",
    "Снова немножко математики чтобы привести формулу выше к более удобному виду.\n",
    "\n",
    "Представим, что на вход подается не один вектор $x_{(t)}$, а целый мини-батч размера $m$ таких векторов $X_{(t)}$, соответственно все дальнейшие размышления мы уже производим в матричном виде:\n",
    "\n",
    "$$ Y_{(t)} = \\phi(X_{(t)}^T \\cdot W_x + Y_{(t-1)}^T \\cdot W_y + b) = \\phi([X_{(t)} Y_{(t-1)}] \\cdot W + b) $$\n",
    "где\n",
    "$$ W = [W_x W_y]^T $$\n",
    "\n",
    "*Операция в скобках квадратных -- конкатенация матриц\n",
    "\n",
    "По размерностям:\n",
    "* $Y_{(t)}$ -- матрица [$m$ x n_neurons]\n",
    "* $X_{(t)}$ -- матрица [$m$ x n_features]\n",
    "* $b$ -- вектор длины n_neurons\n",
    "* $W_x$ -- веса между входами и нейронами размерностью [n_features x n_neurons]\n",
    "* $W_y$ -- веса связей с прошлым выходом размерностью [n_neurons x n_neurons]"
   ]
  },
  {
   "cell_type": "markdown",
   "metadata": {},
   "source": [
    "# RNN from scratch"
   ]
  },
  {
   "cell_type": "markdown",
   "metadata": {},
   "source": [
    "### Задание\n",
    "\n",
    "Напишите класс RNN реализующий vanilla RNN"
   ]
  },
  {
   "cell_type": "code",
   "execution_count": 2,
   "metadata": {},
   "outputs": [],
   "source": [
    "import torch.nn as nn\n",
    "\n",
    "class RNN(nn.Module):\n",
    "    def __init__(self, input_size, hidden_size):\n",
    "        super(RNN, self).__init__()\n",
    "\n",
    "        self.hidden_size = hidden_size\n",
    "        self.W = nn.Linear(input_size + hidden_size, hidden_size)\n",
    "        self.T = nn.Tanh()\n",
    "        # batch_size * (input_size + hidden_size)\n",
    "        #              (input_size + hidden_size) * hidden_size\n",
    "\n",
    "    def forward(self, input_data, hidden):\n",
    "#         print(input_data.shape, hidden.shape)\n",
    "#         print(torch.cat([input_data, hidden], 1).shape)\n",
    "        A = self.W.forward(torch.cat([input_data, hidden], 1))\n",
    "        hidden = self.T(A)\n",
    "        return hidden\n",
    "\n",
    "    def initHidden(self, batch_size):\n",
    "        return torch.zeros(batch_size, self.hidden_size)"
   ]
  },
  {
   "cell_type": "code",
   "execution_count": 3,
   "metadata": {},
   "outputs": [],
   "source": [
    "input_feature_size = 6\n",
    "hidden_size=5\n",
    "batch_size=1"
   ]
  },
  {
   "cell_type": "code",
   "execution_count": 4,
   "metadata": {},
   "outputs": [],
   "source": [
    "rnn = RNN(input_size=input_feature_size, hidden_size=hidden_size)\n",
    "initial_hidden = rnn.initHidden(batch_size)"
   ]
  },
  {
   "cell_type": "code",
   "execution_count": 5,
   "metadata": {},
   "outputs": [],
   "source": [
    "input_example = torch.rand([batch_size, input_feature_size])\n",
    "new_hidden = rnn(input_example, initial_hidden)"
   ]
  },
  {
   "cell_type": "code",
   "execution_count": 6,
   "metadata": {},
   "outputs": [
    {
     "name": "stdout",
     "output_type": "stream",
     "text": [
      "torch.Size([1, 5])\n"
     ]
    }
   ],
   "source": [
    "print(new_hidden.shape)"
   ]
  },
  {
   "cell_type": "code",
   "execution_count": 7,
   "metadata": {},
   "outputs": [
    {
     "name": "stdout",
     "output_type": "stream",
     "text": [
      "initial_hidden:  [[0. 0. 0. 0. 0.]]\n",
      "new_hidden:  [[-0.22668496 -0.2983983  -0.38757908  0.47094002 -0.01113384]]\n"
     ]
    }
   ],
   "source": [
    "print(\"initial_hidden: \", initial_hidden.numpy())\n",
    "print(\"new_hidden: \", new_hidden.detach().numpy())"
   ]
  },
  {
   "cell_type": "code",
   "execution_count": 8,
   "metadata": {},
   "outputs": [
    {
     "name": "stdout",
     "output_type": "stream",
     "text": [
      "new_hidden:  [[-0.12985314 -0.29445714 -0.27994812  0.5226642   0.22020102]]\n"
     ]
    }
   ],
   "source": [
    "new_hidden = rnn(input_example, new_hidden)\n",
    "print(\"new_hidden: \", new_hidden.detach().numpy())"
   ]
  },
  {
   "cell_type": "markdown",
   "metadata": {},
   "source": [
    "### Задание\n",
    "\n",
    "Модифицировать код так, чтобы на входе можно было подавать батчи размером больше 1."
   ]
  },
  {
   "cell_type": "markdown",
   "metadata": {},
   "source": [
    "# Классификация картинок с RNN"
   ]
  },
  {
   "cell_type": "markdown",
   "metadata": {},
   "source": [
    "<img src=\"https://cdn-images-1.medium.com/max/2000/1*wFYZpxTTiXVqncOLQd_CIQ.jpeg\" width=\"800\">"
   ]
  },
  {
   "cell_type": "code",
   "execution_count": 9,
   "metadata": {},
   "outputs": [
    {
     "name": "stdout",
     "output_type": "stream",
     "text": [
      "mkdir: cannot create directory ‘data’: File exists\r\n"
     ]
    }
   ],
   "source": [
    "!mkdir data"
   ]
  },
  {
   "cell_type": "markdown",
   "metadata": {},
   "source": [
    "Загружаем данные"
   ]
  },
  {
   "cell_type": "code",
   "execution_count": 10,
   "metadata": {},
   "outputs": [],
   "source": [
    "import torchvision\n",
    "import torchvision.transforms as transforms\n",
    "\n",
    "BATCH_SIZE = 64\n",
    "\n",
    "# переводим все в тензоры\n",
    "transform = transforms.Compose(\n",
    "    [transforms.ToTensor()])\n",
    "\n",
    "trainset = torchvision.datasets.MNIST(root='./data', train=True,\n",
    "                                        download=True, transform=transform)\n",
    "trainloader = torch.utils.data.DataLoader(trainset, batch_size=BATCH_SIZE,\n",
    "                                          shuffle=True, num_workers=2)\n",
    "\n",
    "testset = torchvision.datasets.MNIST(root='./data', train=False,\n",
    "                                       download=True, transform=transform)\n",
    "testloader = torch.utils.data.DataLoader(testset, batch_size=BATCH_SIZE,\n",
    "                                         shuffle=False, num_workers=2)"
   ]
  },
  {
   "cell_type": "code",
   "execution_count": 11,
   "metadata": {},
   "outputs": [
    {
     "name": "stdout",
     "output_type": "stream",
     "text": [
      "total 8,0K\r\n",
      "drwxr-xr-x 3 kikos kikos 4,0K мар 23 14:22 imdb\r\n",
      "drwxr-xr-x 4 kikos kikos 4,0K мар 23 13:57 MNIST\r\n"
     ]
    }
   ],
   "source": [
    "!ls -lh data/"
   ]
  },
  {
   "cell_type": "code",
   "execution_count": 12,
   "metadata": {},
   "outputs": [
    {
     "name": "stdout",
     "output_type": "stream",
     "text": [
      "Populating the interactive namespace from numpy and matplotlib\n"
     ]
    },
    {
     "data": {
      "image/png": "[encoded data removed]",
      "text/plain": [
       "<Figure size 432x288 with 1 Axes>"
      ]
     },
     "metadata": {},
     "output_type": "display_data"
    }
   ],
   "source": [
    "%pylab inline\n",
    "import numpy as np\n",
    "\n",
    "# functions to show an image\n",
    "def imshow(img):\n",
    "    #img = img / 2 + 0.5     # unnormalize\n",
    "    npimg = img.numpy()\n",
    "    plt.imshow(np.transpose(npimg, (1, 2, 0)))\n",
    "\n",
    "# get some random training images\n",
    "dataiter = iter(trainloader)\n",
    "images, labels = dataiter.next()\n",
    "\n",
    "# show images\n",
    "imshow(torchvision.utils.make_grid(images))"
   ]
  },
  {
   "cell_type": "markdown",
   "metadata": {},
   "source": [
    "## Как выглядит классификация с RNN в общем виде "
   ]
  },
  {
   "cell_type": "markdown",
   "metadata": {},
   "source": [
    "<img src=\"https://cdn-images-1.medium.com/max/1600/1*vhAfRLlaeOXZ-bruv7Ostg.png\" width=\"400\">"
   ]
  },
  {
   "cell_type": "code",
   "execution_count": 13,
   "metadata": {},
   "outputs": [],
   "source": [
    "class ImageRNN(nn.Module):\n",
    "    def __init__(self, batch_size, n_steps, n_inputs, n_neurons, n_outputs):\n",
    "        super(ImageRNN, self).__init__()\n",
    "        \n",
    "        self.n_neurons = n_neurons\n",
    "        self.batch_size = batch_size\n",
    "        self.n_steps = n_steps\n",
    "        self.n_inputs = n_inputs\n",
    "        self.n_outputs = n_outputs\n",
    "        \n",
    "        self.basic_rnn = nn.RNN(self.n_inputs, self.n_neurons) \n",
    "        \n",
    "        self.FC = nn.Linear(self.n_neurons, self.n_outputs)\n",
    "        \n",
    "    def init_hidden(self,):\n",
    "        # (num_layers, batch_size, n_neurons)\n",
    "        return (torch.zeros(1, self.batch_size, self.n_neurons))\n",
    "        \n",
    "    def forward(self, X):\n",
    "        # transforms X to dimensions: n_steps X batch_size X n_inputs\n",
    "        X = X.permute(1, 0, 2) \n",
    "        \n",
    "        self.batch_size = X.size(1)\n",
    "        self.hidden = self.init_hidden()\n",
    "        \n",
    "        lstm_out, self.hidden = self.basic_rnn(X, self.hidden)      \n",
    "        out = self.FC(self.hidden)\n",
    "        \n",
    "        return out.view(-1, self.n_outputs) # batch_size X n_output"
   ]
  },
  {
   "cell_type": "code",
   "execution_count": 14,
   "metadata": {},
   "outputs": [],
   "source": [
    "N_STEPS = 28\n",
    "N_INPUTS = 28\n",
    "N_NEURONS = 150\n",
    "N_OUTPUTS = 10\n",
    "N_EPHOCS = 10"
   ]
  },
  {
   "cell_type": "code",
   "execution_count": 15,
   "metadata": {},
   "outputs": [
    {
     "name": "stdout",
     "output_type": "stream",
     "text": [
      "tensor([[-0.0679,  0.1129, -0.0239,  0.0534,  0.0407,  0.0040, -0.1212, -0.0512,\n",
      "         -0.0245, -0.0634],\n",
      "        [-0.0745,  0.1015, -0.0143,  0.0182,  0.0464,  0.0035, -0.1164, -0.0656,\n",
      "         -0.0362, -0.0490],\n",
      "        [-0.0761,  0.1010, -0.0123,  0.0221,  0.0470, -0.0017, -0.1247, -0.0659,\n",
      "         -0.0312, -0.0553],\n",
      "        [-0.0827,  0.1019, -0.0138,  0.0241,  0.0397, -0.0251, -0.1333, -0.0714,\n",
      "         -0.0243, -0.0370],\n",
      "        [-0.0801,  0.1010, -0.0082,  0.0250,  0.0481, -0.0008, -0.1204, -0.0641,\n",
      "         -0.0329, -0.0553],\n",
      "        [-0.0640,  0.0892, -0.0176,  0.0320,  0.0593, -0.0003, -0.1166, -0.0769,\n",
      "         -0.0125, -0.0563],\n",
      "        [-0.0807,  0.1000, -0.0070,  0.0268,  0.0465,  0.0014, -0.1176, -0.0619,\n",
      "         -0.0309, -0.0517],\n",
      "        [-0.0668,  0.1200, -0.0021,  0.0227,  0.0432,  0.0293, -0.1177, -0.0564,\n",
      "         -0.0373, -0.0360],\n",
      "        [-0.0712,  0.0807, -0.0233,  0.0275,  0.0581,  0.0072, -0.1259, -0.0602,\n",
      "         -0.0216, -0.0665],\n",
      "        [-0.0770,  0.1018, -0.0151,  0.0245,  0.0469, -0.0021, -0.1273, -0.0613,\n",
      "         -0.0328, -0.0569]], grad_fn=<SliceBackward>)\n"
     ]
    }
   ],
   "source": [
    "dataiter = iter(trainloader)\n",
    "images, labels = dataiter.next()\n",
    "model = ImageRNN(BATCH_SIZE, N_STEPS, N_INPUTS, N_NEURONS, N_OUTPUTS)\n",
    "logits = model(images.view(-1, 28,28))\n",
    "print(logits[0:10])"
   ]
  },
  {
   "cell_type": "markdown",
   "metadata": {},
   "source": [
    "## Обучаем"
   ]
  },
  {
   "cell_type": "code",
   "execution_count": 16,
   "metadata": {},
   "outputs": [],
   "source": [
    "import torch.optim as optim\n",
    "\n",
    "# Device\n",
    "device = torch.device(\"cuda:0\" if torch.cuda.is_available() else \"cpu\")\n",
    "\n",
    "# Model instance\n",
    "model = ImageRNN(BATCH_SIZE, N_STEPS, N_INPUTS, N_NEURONS, N_OUTPUTS)\n",
    "criterion = nn.CrossEntropyLoss()\n",
    "optimizer = optim.Adam(model.parameters(), lr=0.001)\n",
    "\n",
    "def get_accuracy(logit, target, batch_size):\n",
    "    ''' Obtain accuracy for training round '''\n",
    "    corrects = (torch.max(logit, 1)[1].view(target.size()).data == target.data).sum()\n",
    "    accuracy = 100.0 * corrects/batch_size\n",
    "    return accuracy.item()"
   ]
  },
  {
   "cell_type": "code",
   "execution_count": 17,
   "metadata": {},
   "outputs": [
    {
     "name": "stdout",
     "output_type": "stream",
     "text": [
      "Epoch:  0 | Loss: 0.8794 | Train Accuracy: 70.11\n",
      "Epoch:  1 | Loss: 0.3838 | Train Accuracy: 88.18\n",
      "Epoch:  2 | Loss: 0.2722 | Train Accuracy: 91.62\n",
      "Epoch:  3 | Loss: 0.2240 | Train Accuracy: 93.15\n",
      "Epoch:  4 | Loss: 0.1907 | Train Accuracy: 94.06\n",
      "Epoch:  5 | Loss: 0.1692 | Train Accuracy: 94.78\n",
      "Epoch:  6 | Loss: 0.1528 | Train Accuracy: 95.13\n",
      "Epoch:  7 | Loss: 0.1466 | Train Accuracy: 95.35\n",
      "Epoch:  8 | Loss: 0.1314 | Train Accuracy: 95.75\n",
      "Epoch:  9 | Loss: 0.1235 | Train Accuracy: 95.96\n"
     ]
    }
   ],
   "source": [
    "for epoch in range(N_EPHOCS):  # loop over the dataset multiple times\n",
    "    train_running_loss = 0.0\n",
    "    train_acc = 0.0\n",
    "    model.train()\n",
    "    \n",
    "    # TRAINING ROUND\n",
    "    for i, data in enumerate(trainloader):\n",
    "         # zero the parameter gradients\n",
    "        optimizer.zero_grad()\n",
    "        \n",
    "        # reset hidden states\n",
    "        model.hidden = model.init_hidden() \n",
    "        \n",
    "        # get the inputs\n",
    "        inputs, labels = data\n",
    "        inputs = inputs.view(-1, 28,28) \n",
    "\n",
    "        # forward + backward + optimize\n",
    "        outputs = model(inputs)\n",
    "\n",
    "        loss = criterion(outputs, labels)\n",
    "        loss.backward()\n",
    "        optimizer.step()\n",
    "\n",
    "        train_running_loss += loss.detach().item()\n",
    "        train_acc += get_accuracy(outputs, labels, BATCH_SIZE)\n",
    "         \n",
    "    model.eval()\n",
    "    print('Epoch:  %d | Loss: %.4f | Train Accuracy: %.2f' \n",
    "          %(epoch, train_running_loss / i, train_acc/i))"
   ]
  },
  {
   "cell_type": "markdown",
   "metadata": {},
   "source": [
    "### Смотрим что на тесте"
   ]
  },
  {
   "cell_type": "code",
   "execution_count": 17,
   "metadata": {},
   "outputs": [
    {
     "name": "stdout",
     "output_type": "stream",
     "text": [
      "Test Accuracy: 9.13\n"
     ]
    }
   ],
   "source": [
    "test_acc = 0.0\n",
    "for i, data in enumerate(testloader, 0):\n",
    "    inputs, labels = data\n",
    "    inputs = inputs.view(-1, 28, 28)\n",
    "\n",
    "    outputs = model(inputs)\n",
    "\n",
    "    test_acc += get_accuracy(outputs, labels, BATCH_SIZE)\n",
    "        \n",
    "print('Test Accuracy: %.2f'%( test_acc/i))"
   ]
  },
  {
   "cell_type": "markdown",
   "metadata": {},
   "source": [
    "# Сентимент анализ по аналогии\n",
    "\n",
    "пишем сами с нуля\n",
    "\n",
    "<img src=\"https://github.com/bentrevett/pytorch-sentiment-analysis/raw/bf8cc46e4823ebf9af721b595501ad6231c73632/assets/sentiment1.png\">"
   ]
  },
  {
   "cell_type": "markdown",
   "metadata": {},
   "source": [
    "$~ pip install torchtext\n",
    "\n",
    "$~ python -m spacy download en\n"
   ]
  },
  {
   "cell_type": "code",
   "execution_count": 16,
   "metadata": {},
   "outputs": [],
   "source": [
    "import torch\n",
    "from torchtext import data\n",
    "\n",
    "SEED = 1234\n",
    "\n",
    "torch.manual_seed(SEED)\n",
    "torch.cuda.manual_seed(SEED)\n",
    "torch.backends.cudnn.deterministic = True\n",
    "\n",
    "TEXT = data.Field(tokenize='spacy')\n",
    "LABEL = data.LabelField(dtype=torch.float)"
   ]
  },
  {
   "cell_type": "code",
   "execution_count": 17,
   "metadata": {},
   "outputs": [],
   "source": [
    "from torchtext import datasets\n",
    "train_data, test_data = datasets.IMDB.splits(TEXT, LABEL, root=\"./data\")"
   ]
  },
  {
   "cell_type": "code",
   "execution_count": 18,
   "metadata": {},
   "outputs": [
    {
     "name": "stdout",
     "output_type": "stream",
     "text": [
      "total 1,7M\r\n",
      "-rw-r--r-- 1 kikos kikos 882K июн 12  2011 imdbEr.txt\r\n",
      "-rw-r--r-- 1 kikos kikos 827K апр 12  2011 imdb.vocab\r\n",
      "-rw-r--r-- 1 kikos kikos 4,0K июн 26  2011 README\r\n",
      "drwxr-xr-x 4 kikos kikos 4,0K апр 12  2011 \u001b[0m\u001b[01;34mtest\u001b[0m/\r\n",
      "drwxr-xr-x 5 kikos kikos 4,0K июн 26  2011 \u001b[01;34mtrain\u001b[0m/\r\n"
     ]
    }
   ],
   "source": [
    "ls -lh data/imdb/aclImdb/"
   ]
  },
  {
   "cell_type": "code",
   "execution_count": 19,
   "metadata": {},
   "outputs": [
    {
     "name": "stdout",
     "output_type": "stream",
     "text": [
      "25000\n",
      "25000\n"
     ]
    }
   ],
   "source": [
    "print(len(train_data))\n",
    "print(len(test_data))"
   ]
  },
  {
   "cell_type": "code",
   "execution_count": 20,
   "metadata": {},
   "outputs": [
    {
     "name": "stdout",
     "output_type": "stream",
     "text": [
      "{'label': 'pos', 'text': ['It', \"'s\", 'a', 'shame', 'that', 'Deliverance', 'is', 'mainly', 'known', 'as', 'the', 'redneck', 'rape', 'movie', 'and', 'for', 'Dueling', 'Banjos', '.', 'Even', 'people', 'that', 'have', 'seen', 'the', 'film', 'ca', \"n't\", 'get', 'their', 'mind', 'off', 'of', 'that', 'rape', 'scene', '.', 'It', \"'s\", 'not', 'as', 'bad', 'as', 'the', 'rape', 'scene', 'in', 'Pulp', 'Fiction', '.', 'It', \"'s\", 'certainly', 'not', 'as', 'bad', 'as', 'any', 'female', 'rape', 'scene', 'in', 'just', 'about', 'any', 'movie', '.', 'People', 'tend', 'to', 'miss', 'the', 'power', 'of', 'the', 'film', 'that', 'contains', 'the', 'infamous', 'buggery', 'scene.<br', '/><br', '/>The', 'acting', ',', 'plot', ',', 'cinematography', ',', 'and', 'soundtrack', 'of', 'Deliverance', 'all', 'lend', 'a', 'hand', 'to', 'it', \"'s\", 'brooding', 'charisma', '.', 'The', 'backcountry', 'it', 'was', 'shot', 'in', 'is', 'beautiful', 'and', 'is', 'quite', 'in', 'contrast', 'to', 'the', 'dark', 'subject', 'matter', '.', 'The', 'actors', 'both', 'major', 'and', 'minor', 'make', 'you', 'feel', 'like', 'you', 'are', 'rafting', 'down', 'that', 'river', 'right', 'along', 'with', 'them', '.', '<', 'br', '/><br', '/>The', 'thing', 'that', 'separates', 'this', 'film', 'from', 'others', 'is', 'the', 'tangible', 'sense', 'of', 'dread', 'that', 'it', 'inspires', '.', 'Not', 'many', 'films', 'can', 'make', 'you', 'feel', 'this', 'creeped', 'out', '.', 'Bottom', 'Line', ':', 'This', 'movie', 'is', 'a', 'classic', '.', 'I', 'ca', \"n't\", 'really', 'say', 'much', 'more', 'than', 'that', '.']}\n"
     ]
    }
   ],
   "source": [
    "print(vars(train_data.examples[0]))"
   ]
  },
  {
   "cell_type": "code",
   "execution_count": 21,
   "metadata": {},
   "outputs": [],
   "source": [
    "# Сделаем еще eval\n",
    "import random\n",
    "\n",
    "train_data, valid_data = train_data.split(random_state=random.seed(SEED))"
   ]
  },
  {
   "cell_type": "code",
   "execution_count": 22,
   "metadata": {},
   "outputs": [],
   "source": [
    "# Сделаем словарь\n",
    "TEXT.build_vocab(train_data, max_size=25000)\n",
    "LABEL.build_vocab(train_data)"
   ]
  },
  {
   "cell_type": "code",
   "execution_count": 23,
   "metadata": {},
   "outputs": [
    {
     "name": "stdout",
     "output_type": "stream",
     "text": [
      "25002\n",
      "2\n"
     ]
    }
   ],
   "source": [
    "print(len(TEXT.vocab))\n",
    "print(len(LABEL.vocab))"
   ]
  },
  {
   "cell_type": "code",
   "execution_count": 24,
   "metadata": {},
   "outputs": [
    {
     "data": {
      "text/plain": [
       "{'freqs': Counter({'neg': 8810, 'pos': 8690}),\n",
       " 'itos': ['neg', 'pos'],\n",
       " 'stoi': defaultdict(<function torchtext.vocab._default_unk_index()>,\n",
       "             {'neg': 0, 'pos': 1}),\n",
       " 'vectors': None}"
      ]
     },
     "execution_count": 24,
     "metadata": {},
     "output_type": "execute_result"
    }
   ],
   "source": [
    "vars(LABEL.vocab)"
   ]
  },
  {
   "cell_type": "markdown",
   "metadata": {},
   "source": [
    "Почему 25002, а не 25000?\n",
    "Потому что $<unk>$ и $<pad>$\n",
    "\n",
    "<img src=\"https://github.com/bentrevett/pytorch-sentiment-analysis/raw/bf8cc46e4823ebf9af721b595501ad6231c73632/assets/sentiment6.png\" width=\"160\">"
   ]
  },
  {
   "cell_type": "code",
   "execution_count": 25,
   "metadata": {},
   "outputs": [
    {
     "name": "stdout",
     "output_type": "stream",
     "text": [
      "[('the', 202165), (',', 191769), ('.', 165291), ('and', 109267), ('a', 109187), ('of', 100767), ('to', 93592), ('is', 76329), ('in', 61186), ('I', 54838), ('it', 53748), ('that', 49252), ('\"', 44622), (\"'s\", 43189), ('this', 42497), ('-', 36931), ('/><br', 35279), ('was', 35271), ('as', 30667), ('movie', 29983)]\n"
     ]
    }
   ],
   "source": [
    "print(TEXT.vocab.freqs.most_common(20))"
   ]
  },
  {
   "cell_type": "markdown",
   "metadata": {},
   "source": [
    "* stoi (string to int)\n",
    "* itos (int to string)"
   ]
  },
  {
   "cell_type": "code",
   "execution_count": 26,
   "metadata": {},
   "outputs": [
    {
     "name": "stdout",
     "output_type": "stream",
     "text": [
      "['<unk>', '<pad>', 'the', ',', '.', 'and', 'a', 'of', 'to', 'is']\n"
     ]
    }
   ],
   "source": [
    "print(TEXT.vocab.itos[:10])"
   ]
  },
  {
   "cell_type": "code",
   "execution_count": 27,
   "metadata": {},
   "outputs": [
    {
     "name": "stdout",
     "output_type": "stream",
     "text": [
      "defaultdict(<function _default_unk_index at 0x7fd21c7a7ea0>, {'neg': 0, 'pos': 1})\n"
     ]
    }
   ],
   "source": [
    "print(LABEL.vocab.stoi)"
   ]
  },
  {
   "cell_type": "code",
   "execution_count": 61,
   "metadata": {},
   "outputs": [],
   "source": [
    "BATCH_SIZE = 64\n",
    "\n",
    "device = torch.device('cuda' if torch.cuda.is_available() else 'cpu')\n",
    "\n",
    "# собираем батчи так, чтобы в каждом батче были примеры наиболее похожей длины\n",
    "train_iterator, valid_iterator, test_iterator = data.BucketIterator.splits(\n",
    "    (train_data, valid_data, test_data), \n",
    "    batch_size=BATCH_SIZE,\n",
    "    device=device)"
   ]
  },
  {
   "cell_type": "markdown",
   "metadata": {},
   "source": [
    "## Делаем модель"
   ]
  },
  {
   "cell_type": "markdown",
   "metadata": {},
   "source": [
    "<img src=\"https://github.com/bentrevett/pytorch-sentiment-analysis/raw/bf8cc46e4823ebf9af721b595501ad6231c73632/assets/sentiment7.png\" width=\"450\">"
   ]
  },
  {
   "cell_type": "markdown",
   "metadata": {},
   "source": [
    "* В эмбеддер (emb = [torch.nn.Embedding(num_embeddings, embedding_dim)](https://pytorch.org/docs/stable/nn.html?highlight=embedding#torch.nn.Embedding)) запихиваем тензор размерностью **[sentence length, batch size]**\n",
    "* Эмбеддер возвращает тензор размерностью **[sentence length, batch size, embedding dim]**\n",
    "* RNN (torch.nn.RNN(embedding_dim, hidden_dim)) возвращает 2 тензора, *output* размера [sentence length, batch size, hidden dim] и *hidden* размера [1, batch size, hidden dim]"
   ]
  },
  {
   "cell_type": "code",
   "execution_count": 70,
   "metadata": {},
   "outputs": [],
   "source": [
    "import torch.optim as optim\n",
    "\n",
    "def out(t):\n",
    "    for x in t:\n",
    "        print(TEXT.vocab.itos[x], end=' ')\n",
    "    print()\n",
    "\n",
    "class RNN(nn.Module):\n",
    "    def __init__(self, input_dim, embedding_dim, hidden_dim, output_dim):\n",
    "        super().__init__()\n",
    "        self.input_dim = input_dim\n",
    "        self.embedding_dim = embedding_dim\n",
    "        self.hidden_dim = hidden_dim\n",
    "        self.output_dim = output_dim\n",
    "        self.embedding = nn.Embedding(len(TEXT.vocab), embedding_dim)\n",
    "        self.rnn = nn.RNN(embedding_dim, hidden_dim)\n",
    "        self.fc = nn.Linear(hidden_dim, output_dim)\n",
    "        \n",
    "        # можно добавить линейный слой, который делает проекцию в 2 класса\n",
    "    def forward(self, text):\n",
    "\n",
    "        #text = [sent len, batch size]\n",
    "#         print(text.shape)\n",
    "        text = text.permute(1, 0)\n",
    "#         print(text.shape)\n",
    "#         out(text[0]);\n",
    "#         out(text[1]);\n",
    "        embedded = self.embedding(text)\n",
    "        embedded = embedded.permute(1, 0, 2)\n",
    "        #embedded = [sent len, batch size, emb dim]\n",
    "        hidden = torch.zeros(1, BATCH_SIZE, self.hidden_dim)\n",
    "#         print(embedded.shape)\n",
    "#         print(hidden.shape)\n",
    "        output, hidden = self.rnn(embedded, hidden)\n",
    "        \n",
    "        #output = [sent len, batch size, hid dim]\n",
    "        #hidden = [1, batch size, hid dim]\n",
    "        \n",
    "#         assert torch.equal(output[-1,:,:], hidden.squeeze(0))\n",
    "        \n",
    "        return self.fc(hidden.squeeze(0))"
   ]
  },
  {
   "cell_type": "code",
   "execution_count": 71,
   "metadata": {},
   "outputs": [],
   "source": [
    "device = torch.device(\"cuda:0\" if torch.cuda.is_available() else \"cpu\")\n",
    "\n",
    "N_EPHOCS = 25\n",
    "N_WORDS = 30\n",
    "N_EMBEDDED = 15\n",
    "N_HIDDEN = 50\n",
    "N_OUTPUT = 2\n",
    "model = RNN(N_WORDS, N_EMBEDDED, N_HIDDEN, N_OUTPUT)\n",
    "criterion = nn.CrossEntropyLoss()\n",
    "optimizer = optim.Adam(model.parameters(), lr=0.001)\n",
    "def get_accuracy(logit, target, batch_size):    \n",
    "    corrects = np.isclose(np.argmax(logit.detach().numpy(), axis=1), target.data.detach().numpy())\n",
    "#     print(corrects)\n",
    "    accuracy = 100.0 * corrects.sum()/batch_size\n",
    "    return accuracy.item()"
   ]
  },
  {
   "cell_type": "code",
   "execution_count": 72,
   "metadata": {},
   "outputs": [
    {
     "name": "stdout",
     "output_type": "stream",
     "text": [
      "Epoch:  0 | Loss: 0.6960 | Train Accuracy: 50.07\n",
      "Epoch:  1 | Loss: 0.6924 | Train Accuracy: 52.45\n",
      "Epoch:  2 | Loss: 0.6838 | Train Accuracy: 55.83\n",
      "Epoch:  3 | Loss: 0.6652 | Train Accuracy: 60.40\n",
      "Epoch:  4 | Loss: 0.6400 | Train Accuracy: 64.19\n",
      "Epoch:  5 | Loss: 0.6151 | Train Accuracy: 67.42\n",
      "Epoch:  6 | Loss: 0.5886 | Train Accuracy: 70.14\n",
      "Epoch:  7 | Loss: 0.5544 | Train Accuracy: 73.16\n",
      "Epoch:  8 | Loss: 0.5227 | Train Accuracy: 75.56\n",
      "Epoch:  9 | Loss: 0.4928 | Train Accuracy: 77.60\n",
      "Epoch:  10 | Loss: 0.4587 | Train Accuracy: 80.01\n",
      "Epoch:  11 | Loss: 0.4284 | Train Accuracy: 81.99\n",
      "Epoch:  12 | Loss: 0.4009 | Train Accuracy: 83.40\n",
      "Epoch:  13 | Loss: 0.3752 | Train Accuracy: 84.83\n",
      "Epoch:  14 | Loss: 0.3456 | Train Accuracy: 86.53\n",
      "Epoch:  15 | Loss: 0.3226 | Train Accuracy: 87.61\n",
      "Epoch:  16 | Loss: 0.2971 | Train Accuracy: 89.02\n",
      "Epoch:  17 | Loss: 0.2763 | Train Accuracy: 89.96\n",
      "Epoch:  18 | Loss: 0.2576 | Train Accuracy: 90.75\n",
      "Epoch:  19 | Loss: 0.2356 | Train Accuracy: 91.74\n",
      "Epoch:  20 | Loss: 0.2224 | Train Accuracy: 92.32\n",
      "Epoch:  21 | Loss: 0.2028 | Train Accuracy: 93.19\n",
      "Epoch:  22 | Loss: 0.1877 | Train Accuracy: 93.79\n",
      "Epoch:  23 | Loss: 0.1748 | Train Accuracy: 94.21\n",
      "Epoch:  24 | Loss: 0.1595 | Train Accuracy: 94.87\n"
     ]
    }
   ],
   "source": [
    "for epoch in range(N_EPHOCS):  # loop over the dataset multiple times\n",
    "    train_running_loss = 0.0\n",
    "    train_acc = 0.0\n",
    "    model.train()\n",
    "    \n",
    "    # TRAINING ROUND\n",
    "    rounds = 0\n",
    "    for i, _data in enumerate(train_iterator):\n",
    "        if len(_data) != BATCH_SIZE:\n",
    "            continue\n",
    "        rounds += 1\n",
    "        text = _data.text.clone()\n",
    "#         print(text.shape)\n",
    "        label = _data.label\n",
    "        text = text.permute(1, 0)\n",
    "#         print(text.shape)\n",
    "        for x in text:\n",
    "            while len(x) < N_WORDS:\n",
    "                x.append(1)\n",
    "        text = text[:,:N_WORDS]\n",
    "        text = text.permute(1, 0)\n",
    "         # zero the parameter gradients\n",
    "        optimizer.zero_grad()\n",
    "        \n",
    "        # forward + backward + optimize\n",
    "        outputs = model(text)\n",
    "        res_label = torch.zeros(label.shape, dtype=torch.int64)\n",
    "        for i in range(len(res_label)):\n",
    "            if label[i] > 0.5:\n",
    "                res_label[i] = 1\n",
    "        label = res_label\n",
    "        \n",
    "        \n",
    "        loss = criterion(outputs, label)\n",
    "        loss.backward()\n",
    "        optimizer.step()\n",
    "\n",
    "        train_running_loss += loss.detach().item()\n",
    "        train_acc += get_accuracy(outputs, label, BATCH_SIZE)\n",
    "        \n",
    "    model.eval()\n",
    "    print('Epoch:  %d | Loss: %.4f | Train Accuracy: %.2f' \n",
    "          %(epoch, train_running_loss / rounds, train_acc/rounds))"
   ]
  },
  {
   "cell_type": "code",
   "execution_count": 73,
   "metadata": {},
   "outputs": [
    {
     "name": "stdout",
     "output_type": "stream",
     "text": [
      "Epoch:  24 | Loss: 0.9945 | Train Accuracy: 68.30\n"
     ]
    }
   ],
   "source": [
    "model.eval()\n",
    "rounds = 0\n",
    "running_loss = 0.0\n",
    "running_accuracy = 0.0\n",
    "for _data in valid_iterator:\n",
    "    if len(_data) != BATCH_SIZE:\n",
    "            continue\n",
    "    rounds += 1\n",
    "    text = _data.text.clone()\n",
    "#         print(text.shape)\n",
    "    label = _data.label\n",
    "    text = text.permute(1, 0)\n",
    "#         print(text.shape)\n",
    "    for x in text:\n",
    "        while len(x) < N_WORDS:\n",
    "            x.append(1)\n",
    "    text = text[:,:N_WORDS]\n",
    "    text = text.permute(1, 0)\n",
    "     # zero the parameter gradients\n",
    "    # forward + backward + optimize\n",
    "    outputs = model(text)\n",
    "    res_label = torch.zeros(label.shape, dtype=torch.int64)\n",
    "    for i in range(len(res_label)):\n",
    "        if label[i] > 0.5:\n",
    "            res_label[i] = 1\n",
    "    label = res_label\n",
    "    loss = criterion(outputs, label)\n",
    "    \n",
    "    running_loss += loss.detach().item()\n",
    "    running_accuracy += get_accuracy(outputs, label, BATCH_SIZE)\n",
    "print('Epoch:  %d | Loss: %.4f | Train Accuracy: %.2f' \n",
    "          %(epoch, running_loss / rounds, running_accuracy/rounds))"
   ]
  }
 ],
 "metadata": {
  "kernelspec": {
   "display_name": "Python 3",
   "language": "python",
   "name": "python3"
  },
  "language_info": {
   "codemirror_mode": {
    "name": "ipython",
    "version": 3
   },
   "file_extension": ".py",
   "mimetype": "text/x-python",
   "name": "python",
   "nbconvert_exporter": "python",
   "pygments_lexer": "ipython3",
   "version": "3.5.5"
  }
 },
 "nbformat": 4,
 "nbformat_minor": 2
}
