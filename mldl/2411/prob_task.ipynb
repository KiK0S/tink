{
 "cells": [
  {
   "cell_type": "markdown",
   "metadata": {},
   "source": [
    "Задание заключается в том, чтобы написать код, который требуется в ячейках ###ваш код здесь"
   ]
  },
  {
   "cell_type": "code",
   "execution_count": 1,
   "metadata": {},
   "outputs": [],
   "source": [
    "import numpy as np\n",
    "import pandas as pd\n",
    "import matplotlib.pyplot as plt\n",
    "\n",
    "%matplotlib inline"
   ]
  },
  {
   "cell_type": "markdown",
   "metadata": {},
   "source": [
    "### Вероятности"
   ]
  },
  {
   "cell_type": "markdown",
   "metadata": {},
   "source": [
    "Напоминаем формулу для вероятности события A: $$P(A) = \\frac{N_A}{N}$$\n",
    "Сгенерируем с помощью numpy.random.randint генератор подброса монетки. Функция randint генерирует случайное целое число в заданных пределах. Подробнее о том, как задать пределы можете почитать документацию."
   ]
  },
  {
   "cell_type": "code",
   "execution_count": 2,
   "metadata": {},
   "outputs": [
    {
     "data": {
      "text/plain": [
       "array([0, 1, 0, 0, 1, 1, 0, 0, 0, 0])"
      ]
     },
     "execution_count": 2,
     "metadata": {},
     "output_type": "execute_result"
    }
   ],
   "source": [
    "np.random.randint(2, size=10)"
   ]
  },
  {
   "cell_type": "code",
   "execution_count": 3,
   "metadata": {},
   "outputs": [],
   "source": [
    "def coin_flip():\n",
    "    names = {0: \"орёл\", 1: \"решка\"}\n",
    "    return names[np.random.randint(2)]"
   ]
  },
  {
   "cell_type": "code",
   "execution_count": 4,
   "metadata": {},
   "outputs": [
    {
     "name": "stdout",
     "output_type": "stream",
     "text": [
      "решка\n",
      "орёл\n",
      "орёл\n",
      "решка\n",
      "решка\n"
     ]
    }
   ],
   "source": [
    "for _ in range(5):\n",
    "    print(coin_flip())"
   ]
  },
  {
   "cell_type": "markdown",
   "metadata": {},
   "source": [
    "Можно также попробовать сделать вариант для игральных костей."
   ]
  },
  {
   "cell_type": "code",
   "execution_count": 5,
   "metadata": {},
   "outputs": [],
   "source": [
    "def dice():\n",
    "    return np.random.randint(6) + 1"
   ]
  },
  {
   "cell_type": "code",
   "execution_count": 6,
   "metadata": {},
   "outputs": [
    {
     "name": "stdout",
     "output_type": "stream",
     "text": [
      "4\n",
      "2\n",
      "5\n",
      "3\n",
      "5\n"
     ]
    }
   ],
   "source": [
    "for _ in range(5):\n",
    "    print(dice())"
   ]
  },
  {
   "cell_type": "markdown",
   "metadata": {},
   "source": [
    "Математическое ожидание в дискретном случае: $$E(\\xi) = \\sum_{x}xP(\\xi=x)$$\n",
    "Здесь $x$ - это значения которые может принимать случайная величина $\\xi$. В случае игральных костей - это 1,2,3,4,5,6. Для честных игральных костей вероятность выпадения каждого числа одинакова и равна $1/6$. Поэтому мат. ожидание равно: $$1/6 * 1 + 1/6 * 2 + ... 1/6 * 6 = 3.5$$"
   ]
  },
  {
   "cell_type": "markdown",
   "metadata": {},
   "source": [
    "Если запустить кость много раз, то можно убедиться, что в среднем будет получаться мат. ожидание:"
   ]
  },
  {
   "cell_type": "code",
   "execution_count": 14,
   "metadata": {
    "scrolled": true
   },
   "outputs": [
    {
     "data": {
      "text/plain": [
       "[3, 6, 4, 5, 2, 5, 3, 1, 5, 5, 2, 2, 2, 2, 4, 4, 6, 2, 6, 1]"
      ]
     },
     "execution_count": 14,
     "metadata": {},
     "output_type": "execute_result"
    }
   ],
   "source": [
    "results = [dice() for _ in range(20)]\n",
    "results"
   ]
  },
  {
   "cell_type": "code",
   "execution_count": 15,
   "metadata": {},
   "outputs": [
    {
     "data": {
      "text/plain": [
       "3.5"
      ]
     },
     "execution_count": 15,
     "metadata": {},
     "output_type": "execute_result"
    }
   ],
   "source": [
    "np.average(results)"
   ]
  },
  {
   "cell_type": "markdown",
   "metadata": {},
   "source": [
    "Можно сделать нечестную кость, которая будет показывть какую-то грань чаще. Например, пусть выбрасывает грань \"6\" в два раза чаще чем остальные. Т.е. вероятность получения грани \"6\" равна $2/7$, а остальных $1/7$. Легче все это сделать с функцией np.random.choice, которая выбирает случайную выборку из переданного массива. Дополнительно с массивом туда можно передать массив вероятностей/весов."
   ]
  },
  {
   "cell_type": "code",
   "execution_count": 16,
   "metadata": {},
   "outputs": [],
   "source": [
    "def unfair_sample(p):\n",
    "    results = [1,2,3,4,5,6]\n",
    "    return np.random.choice(results, p=p)"
   ]
  },
  {
   "cell_type": "code",
   "execution_count": 17,
   "metadata": {},
   "outputs": [
    {
     "name": "stdout",
     "output_type": "stream",
     "text": [
      "0 - 154\n",
      "1 - 146\n",
      "2 - 133\n",
      "3 - 156\n",
      "4 - 114\n",
      "5 - 297\n"
     ]
    }
   ],
   "source": [
    "p = [1 / 7] * 5 + [2 / 7]\n",
    "results = []\n",
    "for _ in range(1000):\n",
    "    results.append(unfair_sample(p))\n",
    "for i, val in enumerate(np.bincount(results)[1:]):\n",
    "    print(str(i) + ' - ' + str(val))"
   ]
  },
  {
   "cell_type": "markdown",
   "metadata": {},
   "source": [
    "Её математическое ожидание равно:"
   ]
  },
  {
   "cell_type": "code",
   "execution_count": 18,
   "metadata": {},
   "outputs": [
    {
     "data": {
      "text/plain": [
       "3.8571428571428568"
      ]
     },
     "execution_count": 18,
     "metadata": {},
     "output_type": "execute_result"
    }
   ],
   "source": [
    "sum((i + 1) * p[i] for i in range(6))"
   ]
  },
  {
   "cell_type": "markdown",
   "metadata": {},
   "source": [
    "А среднее значение выборки равно:"
   ]
  },
  {
   "cell_type": "code",
   "execution_count": 19,
   "metadata": {},
   "outputs": [
    {
     "data": {
      "text/plain": [
       "3.821"
      ]
     },
     "execution_count": 19,
     "metadata": {},
     "output_type": "execute_result"
    }
   ],
   "source": [
    "np.average(results)"
   ]
  },
  {
   "cell_type": "markdown",
   "metadata": {},
   "source": [
    "### Метод максимального правдоподобия\n",
    "А теперь допустим, что мы не знаем какая из граней утяжелённая. Всё, что у нас есть - это 1000 бросков этой кости. Как понять, какую грань утяжелили? Можно применить метод максимального правдоподобия (далее ММП). В данном случае, это стрелять из пушки по воробьям, ведь можно просто посмотреть, какая грань чаще всего выпала. Но зато очень наглядно."
   ]
  },
  {
   "cell_type": "markdown",
   "metadata": {},
   "source": [
    "У нашего замысловатого распределения $p$ есть два параметра: та грань, которую утяжелили, и кол-во граней. Кол-во граней известно заранее, поэтому его трогать не будем. Назовём грань, которую утяжелили - $\\theta$. По формуле получаем оценку максимального правдоподобия для этого параметра $\\theta_{ОМП}$:\n",
    "$$\\theta_{ОМП}=argmax_\\theta P(X|\\theta)$$"
   ]
  },
  {
   "cell_type": "markdown",
   "metadata": {},
   "source": [
    "$P(X|\\theta)$ - вероятность нашей выборки при конкретном параметре $\\theta$. Учитывая то, что все эксперименты были независимыми, то можно её расписать как произведение вероятностей: $$P(X|\\theta)=\\prod_{i=0}^{N-1}P(\\xi=x_i|\\theta)$$\n",
    "$\\xi$ - это случайная величина броска игральной кости, а $x_i$ - результаты i-го броска (в нашем случае это элементы массива results)."
   ]
  },
  {
   "cell_type": "markdown",
   "metadata": {},
   "source": [
    "$P(\\xi=x_i|\\theta) = 2/7$, если $x_i=\\theta$, и $1/7$ в других случаях. Переберите всевозможные параметры $\\theta$, выведите все вероятности и найдите самую большую. "
   ]
  },
  {
   "cell_type": "markdown",
   "metadata": {},
   "source": [
    "Совет: используйте не $P(X|\\theta)$, а возьмите логарифм: $$log(P(X|\\theta))=\\sum_{i=0}^{N-1}log(P(\\xi=x_i|\\theta))$$ Т.к. при умножении большого кол-ва чисел меньше 1 результат будет очень маленьким, и компьютер выставит просто 0."
   ]
  },
  {
   "cell_type": "code",
   "execution_count": 20,
   "metadata": {},
   "outputs": [
    {
     "name": "stdout",
     "output_type": "stream",
     "text": [
      "1 -1839.1654832491058\n",
      "2 -1844.7106606935859\n",
      "3 -1853.7215740408678\n",
      "4 -1837.7791888879851\n",
      "5 -1866.8913704715078\n",
      "6 -1740.045436429025\n"
     ]
    }
   ],
   "source": [
    "thetas = [1,2,3,4,5,6]\n",
    "for theta in thetas:\n",
    "    summ = 0.\n",
    "    for val in results:\n",
    "        summ += np.log(2 / 7 if val == theta else 1 / 7)\n",
    "    print(theta, summ)"
   ]
  },
  {
   "cell_type": "markdown",
   "metadata": {},
   "source": [
    "### Распределения"
   ]
  },
  {
   "cell_type": "markdown",
   "metadata": {},
   "source": [
    "Рассмотрим более серьёзные примеры. Для начала рассмотрим непрерывные распределения: нормальное и пуассоновское."
   ]
  },
  {
   "cell_type": "markdown",
   "metadata": {},
   "source": [
    "Нормальное распределение можно сгенерировать с помощью функции np.random.normal(). loc - матожидание, scale - дисперсия. Нормальное распределение обычно описывает какие-то физические величины, которые подвержены большому числу случайных помех."
   ]
  },
  {
   "cell_type": "code",
   "execution_count": 21,
   "metadata": {},
   "outputs": [
    {
     "data": {
      "image/png": "[encoded data removed]",
      "text/plain": [
       "<Figure size 432x288 with 1 Axes>"
      ]
     },
     "metadata": {},
     "output_type": "display_data"
    }
   ],
   "source": [
    "from scipy.stats import norm\n",
    "\n",
    "num = 10000\n",
    "loc = 0.\n",
    "scale = 2.\n",
    "\n",
    "# Выборка\n",
    "data = np.random.normal(loc=loc, scale=scale, size=num)\n",
    "\n",
    "# Рисуем гистограмму выборки\n",
    "plt.hist(data, bins=25, density=True)\n",
    "title = str(loc) + ' ' + str(scale)\n",
    "plt.title(title)\n",
    "\n",
    "plt.show()"
   ]
  },
  {
   "cell_type": "markdown",
   "metadata": {},
   "source": [
    "Распределение Пуассона, в отличие от нормального - дискретное, т.е. принимает только целые значения. Если какое-то событие происходит с определённой частотой и независимо друг от друга, то кол-во событий произошедших за определённый период подчиняется этому распределнию."
   ]
  },
  {
   "cell_type": "code",
   "execution_count": 22,
   "metadata": {},
   "outputs": [
    {
     "data": {
      "image/png": "[encoded data removed]",
      "text/plain": [
       "<Figure size 432x288 with 1 Axes>"
      ]
     },
     "metadata": {},
     "output_type": "display_data"
    }
   ],
   "source": [
    "from scipy.stats import poisson\n",
    "\n",
    "num = 10000\n",
    "lam = 4.\n",
    "\n",
    "# Выборка\n",
    "data = np.random.poisson(lam=lam, size=num)\n",
    "\n",
    "# Рисуем гистограмму выборки\n",
    "plt.hist(data, bins=28)\n",
    "title = str(lam)\n",
    "plt.title(title)\n",
    "\n",
    "plt.show()"
   ]
  },
  {
   "cell_type": "markdown",
   "metadata": {},
   "source": [
    "Давайте загрузим реальные данные и попробуем с помощью этих ММП описать распределения."
   ]
  },
  {
   "cell_type": "markdown",
   "metadata": {},
   "source": [
    "Датасет описывает, сколько важных научных открытий было произведено в каждый год. Скорее всего, эти данные подходят для распределения Пуассона"
   ]
  },
  {
   "cell_type": "code",
   "execution_count": 23,
   "metadata": {},
   "outputs": [
    {
     "data": {
      "text/html": [
       "<div>\n",
       "<style scoped>\n",
       "    .dataframe tbody tr th:only-of-type {\n",
       "        vertical-align: middle;\n",
       "    }\n",
       "\n",
       "    .dataframe tbody tr th {\n",
       "        vertical-align: top;\n",
       "    }\n",
       "\n",
       "    .dataframe thead th {\n",
       "        text-align: right;\n",
       "    }\n",
       "</style>\n",
       "<table border=\"1\" class=\"dataframe\">\n",
       "  <thead>\n",
       "    <tr style=\"text-align: right;\">\n",
       "      <th></th>\n",
       "      <th>time</th>\n",
       "      <th>value</th>\n",
       "    </tr>\n",
       "  </thead>\n",
       "  <tbody>\n",
       "    <tr>\n",
       "      <th>1</th>\n",
       "      <td>1860</td>\n",
       "      <td>5</td>\n",
       "    </tr>\n",
       "    <tr>\n",
       "      <th>2</th>\n",
       "      <td>1861</td>\n",
       "      <td>3</td>\n",
       "    </tr>\n",
       "    <tr>\n",
       "      <th>3</th>\n",
       "      <td>1862</td>\n",
       "      <td>0</td>\n",
       "    </tr>\n",
       "    <tr>\n",
       "      <th>4</th>\n",
       "      <td>1863</td>\n",
       "      <td>2</td>\n",
       "    </tr>\n",
       "    <tr>\n",
       "      <th>5</th>\n",
       "      <td>1864</td>\n",
       "      <td>0</td>\n",
       "    </tr>\n",
       "  </tbody>\n",
       "</table>\n",
       "</div>"
      ],
      "text/plain": [
       "   time  value\n",
       "1  1860      5\n",
       "2  1861      3\n",
       "3  1862      0\n",
       "4  1863      2\n",
       "5  1864      0"
      ]
     },
     "execution_count": 23,
     "metadata": {},
     "output_type": "execute_result"
    }
   ],
   "source": [
    "disc = pd.read_csv(\"https://vincentarelbundock.github.io/Rdatasets/csv/datasets/discoveries.csv\", index_col=0)\n",
    "disc.head()"
   ]
  },
  {
   "cell_type": "code",
   "execution_count": 24,
   "metadata": {},
   "outputs": [
    {
     "data": {
      "image/png": "[encoded data removed]",
      "text/plain": [
       "<Figure size 432x288 with 1 Axes>"
      ]
     },
     "metadata": {},
     "output_type": "display_data"
    }
   ],
   "source": [
    "# Пакет для работы со статистикой\n",
    "from scipy.stats import poisson\n",
    "\n",
    "y = disc[\"value\"]\n",
    "\n",
    "# Строим гистограмму по нашим данным\n",
    "hist, x = np.histogram(y, bins=y.max())\n",
    "x = x[:-1]\n",
    "\n",
    "# Нормализуем её\n",
    "hist = hist / sum(hist)\n",
    "\n",
    "# Ширина столбцов\n",
    "width = 0.35\n",
    "# Параметр распределения Пуассона\n",
    "lam = 2.7\n",
    "\n",
    "fig, ax = plt.subplots()\n",
    "a1 = ax.bar(x, hist, width, color='r')\n",
    "a2 = ax.bar(x + width, poisson.pmf(x, lam), width, color='y')\n",
    "plt.show()"
   ]
  },
  {
   "cell_type": "markdown",
   "metadata": {},
   "source": [
    "Напишите код, как подобрать оптимальный параметр l с помощью ММП. Функция вероятность распределения Пауссона равна: \n",
    "$$ P(\\xi=k|\\lambda)=\\frac{e^{-\\lambda}\\lambda^k}{k!}$$"
   ]
  },
  {
   "cell_type": "code",
   "execution_count": 36,
   "metadata": {
    "scrolled": true
   },
   "outputs": [
    {
     "name": "stderr",
     "output_type": "stream",
     "text": [
      "/home/kikos/anaconda3/lib/python3.5/site-packages/ipykernel_launcher.py:10: RuntimeWarning: divide by zero encountered in log\n",
      "  # Remove the CWD from sys.path while we load stuff.\n"
     ]
    },
    {
     "data": {
      "text/plain": [
       "(-216.84565984841453, 3.1)"
      ]
     },
     "execution_count": 36,
     "metadata": {},
     "output_type": "execute_result"
    }
   ],
   "source": [
    "from math import factorial\n",
    "from sklearn.metrics import mean_squared_error\n",
    "\n",
    "def my_poisson(k, lam):\n",
    "    return np.exp(-lam) * lam ** k / factorial(k)\n",
    "\n",
    "lams = np.arange(0., 10., 0.1)\n",
    "lst = []\n",
    "for lam in lams:\n",
    "    vals = np.array([np.log(my_poisson(x, lam)) for x in y]).sum()\n",
    "    lst.append((vals, lam))\n",
    "lst.sort()\n",
    "lst = lst[::-1]\n",
    "lst[0]"
   ]
  },
  {
   "cell_type": "code",
   "execution_count": 37,
   "metadata": {},
   "outputs": [
    {
     "data": {
      "image/png": "[encoded data removed]",
      "text/plain": [
       "<Figure size 432x288 with 1 Axes>"
      ]
     },
     "metadata": {},
     "output_type": "display_data"
    }
   ],
   "source": [
    "fig, ax = plt.subplots()\n",
    "a1 = ax.bar(x, hist, width, color='r')\n",
    "a2 = ax.bar(x + width, poisson.pmf(x, lst[0][1]), width, color='y')\n",
    "plt.show()"
   ]
  },
  {
   "cell_type": "code",
   "execution_count": 38,
   "metadata": {},
   "outputs": [
    {
     "data": {
      "text/plain": [
       "(-217.0035633708946, 3.2)"
      ]
     },
     "execution_count": 38,
     "metadata": {},
     "output_type": "execute_result"
    }
   ],
   "source": [
    "lst[1]"
   ]
  },
  {
   "cell_type": "code",
   "execution_count": 39,
   "metadata": {},
   "outputs": [
    {
     "data": {
      "image/png": "[encoded data removed]",
      "text/plain": [
       "<Figure size 432x288 with 1 Axes>"
      ]
     },
     "metadata": {},
     "output_type": "display_data"
    }
   ],
   "source": [
    "fig, ax = plt.subplots()\n",
    "a1 = ax.bar(x, hist, width, color='r')\n",
    "a2 = ax.bar(x + width, poisson.pmf(x, lst[1][1]), width, color='y')\n",
    "plt.show()"
   ]
  },
  {
   "cell_type": "code",
   "execution_count": 40,
   "metadata": {},
   "outputs": [
    {
     "data": {
      "text/plain": [
       "(-233.15853269773194, 2.2)"
      ]
     },
     "execution_count": 40,
     "metadata": {},
     "output_type": "execute_result"
    }
   ],
   "source": [
    "lst[20]"
   ]
  },
  {
   "cell_type": "code",
   "execution_count": 41,
   "metadata": {},
   "outputs": [
    {
     "data": {
      "image/png": "[encoded data removed]",
      "text/plain": [
       "<Figure size 432x288 with 1 Axes>"
      ]
     },
     "metadata": {},
     "output_type": "display_data"
    }
   ],
   "source": [
    "fig, ax = plt.subplots()\n",
    "a1 = ax.bar(x, hist, width, color='r')\n",
    "a2 = ax.bar(x + width, poisson.pmf(x, lst[20][1]), width, color='y')\n",
    "plt.show()"
   ]
  },
  {
   "cell_type": "markdown",
   "metadata": {},
   "source": [
    "Если решать задачу аналитически, то оптимальная $\\lambda$ равна среднему значению выборки."
   ]
  },
  {
   "cell_type": "code",
   "execution_count": 47,
   "metadata": {},
   "outputs": [
    {
     "data": {
      "text/plain": [
       "3.1"
      ]
     },
     "execution_count": 47,
     "metadata": {},
     "output_type": "execute_result"
    }
   ],
   "source": [
    "np.array(y).mean()"
   ]
  },
  {
   "cell_type": "markdown",
   "metadata": {},
   "source": [
    "### Теорема Байеса. Условные вероятности.\n",
    "Теорема Байеса в простом случае: $$P(A|B)=\\frac{P(B|A)P(A)}{P(B)}$$\n",
    "В случае нескольких событий: $$P(A_j|B)=\\frac{P(A_j)P(B|A_j)}{\\sum_{i=1}^{N}P(A_i)P(B|A_i)}$$"
   ]
  },
  {
   "cell_type": "markdown",
   "metadata": {},
   "source": [
    "Давайте посмотрим на условные распределения на реальных данных. Датасет для этой задачи будет из игры World of Warcraft. В ней есть \"Поля боя\" (Battlegrounds), на которой сражаются две фракции: Альянс(Alliance) и Орда(Horde). Каждую фракцию представляют игроки, которые могут быть различными классами (колонка Class). Битвы происходили несколько раз на разных полях боя, идентификатор одного боя - это колонка \"Code\".  В колонках Win, Lose показано, кто победил."
   ]
  },
  {
   "cell_type": "code",
   "execution_count": 49,
   "metadata": {
    "scrolled": true
   },
   "outputs": [
    {
     "data": {
      "text/html": [
       "<div>\n",
       "<style scoped>\n",
       "    .dataframe tbody tr th:only-of-type {\n",
       "        vertical-align: middle;\n",
       "    }\n",
       "\n",
       "    .dataframe tbody tr th {\n",
       "        vertical-align: top;\n",
       "    }\n",
       "\n",
       "    .dataframe thead th {\n",
       "        text-align: right;\n",
       "    }\n",
       "</style>\n",
       "<table border=\"1\" class=\"dataframe\">\n",
       "  <thead>\n",
       "    <tr style=\"text-align: right;\">\n",
       "      <th></th>\n",
       "      <th>Battleground</th>\n",
       "      <th>Code</th>\n",
       "      <th>Faction</th>\n",
       "      <th>Class</th>\n",
       "      <th>KB</th>\n",
       "      <th>D</th>\n",
       "      <th>HK</th>\n",
       "      <th>DD</th>\n",
       "      <th>HD</th>\n",
       "      <th>Honor</th>\n",
       "      <th>Win</th>\n",
       "      <th>Lose</th>\n",
       "      <th>Rol</th>\n",
       "      <th>BE</th>\n",
       "    </tr>\n",
       "  </thead>\n",
       "  <tbody>\n",
       "    <tr>\n",
       "      <th>0</th>\n",
       "      <td>WG</td>\n",
       "      <td>WG1</td>\n",
       "      <td>Horde</td>\n",
       "      <td>Hunter</td>\n",
       "      <td>1</td>\n",
       "      <td>3</td>\n",
       "      <td>14</td>\n",
       "      <td>48155</td>\n",
       "      <td>6641</td>\n",
       "      <td>532</td>\n",
       "      <td>1.0</td>\n",
       "      <td>NaN</td>\n",
       "      <td>dps</td>\n",
       "      <td>NaN</td>\n",
       "    </tr>\n",
       "    <tr>\n",
       "      <th>1</th>\n",
       "      <td>WG</td>\n",
       "      <td>WG1</td>\n",
       "      <td>Horde</td>\n",
       "      <td>Death Knight</td>\n",
       "      <td>1</td>\n",
       "      <td>3</td>\n",
       "      <td>12</td>\n",
       "      <td>27025</td>\n",
       "      <td>7106</td>\n",
       "      <td>377</td>\n",
       "      <td>1.0</td>\n",
       "      <td>NaN</td>\n",
       "      <td>dps</td>\n",
       "      <td>NaN</td>\n",
       "    </tr>\n",
       "    <tr>\n",
       "      <th>2</th>\n",
       "      <td>WG</td>\n",
       "      <td>WG1</td>\n",
       "      <td>Alliance</td>\n",
       "      <td>Paladin</td>\n",
       "      <td>0</td>\n",
       "      <td>1</td>\n",
       "      <td>19</td>\n",
       "      <td>824</td>\n",
       "      <td>93879</td>\n",
       "      <td>252</td>\n",
       "      <td>NaN</td>\n",
       "      <td>1.0</td>\n",
       "      <td>heal</td>\n",
       "      <td>NaN</td>\n",
       "    </tr>\n",
       "    <tr>\n",
       "      <th>3</th>\n",
       "      <td>WG</td>\n",
       "      <td>WG1</td>\n",
       "      <td>Alliance</td>\n",
       "      <td>Paladin</td>\n",
       "      <td>1</td>\n",
       "      <td>2</td>\n",
       "      <td>25</td>\n",
       "      <td>7046</td>\n",
       "      <td>98599</td>\n",
       "      <td>274</td>\n",
       "      <td>NaN</td>\n",
       "      <td>1.0</td>\n",
       "      <td>heal</td>\n",
       "      <td>NaN</td>\n",
       "    </tr>\n",
       "    <tr>\n",
       "      <th>4</th>\n",
       "      <td>WG</td>\n",
       "      <td>WG1</td>\n",
       "      <td>Alliance</td>\n",
       "      <td>Rogue</td>\n",
       "      <td>2</td>\n",
       "      <td>3</td>\n",
       "      <td>23</td>\n",
       "      <td>65483</td>\n",
       "      <td>19629</td>\n",
       "      <td>268</td>\n",
       "      <td>NaN</td>\n",
       "      <td>1.0</td>\n",
       "      <td>dps</td>\n",
       "      <td>NaN</td>\n",
       "    </tr>\n",
       "  </tbody>\n",
       "</table>\n",
       "</div>"
      ],
      "text/plain": [
       "  Battleground Code   Faction         Class  KB  D  HK     DD     HD  Honor  \\\n",
       "0           WG  WG1     Horde        Hunter   1  3  14  48155   6641    532   \n",
       "1           WG  WG1     Horde  Death Knight   1  3  12  27025   7106    377   \n",
       "2           WG  WG1  Alliance       Paladin   0  1  19    824  93879    252   \n",
       "3           WG  WG1  Alliance       Paladin   1  2  25   7046  98599    274   \n",
       "4           WG  WG1  Alliance         Rogue   2  3  23  65483  19629    268   \n",
       "\n",
       "   Win  Lose   Rol  BE  \n",
       "0  1.0   NaN   dps NaN  \n",
       "1  1.0   NaN   dps NaN  \n",
       "2  NaN   1.0  heal NaN  \n",
       "3  NaN   1.0  heal NaN  \n",
       "4  NaN   1.0   dps NaN  "
      ]
     },
     "execution_count": 49,
     "metadata": {},
     "output_type": "execute_result"
    }
   ],
   "source": [
    "data = pd.read_csv('wowbgs2.csv')\n",
    "data.head()"
   ]
  },
  {
   "cell_type": "markdown",
   "metadata": {},
   "source": [
    "Колонка DD показывает, сколько персонаж нанёс урона. Колонка HD - сколько персонаж вылечил здоровья. "
   ]
  },
  {
   "cell_type": "code",
   "execution_count": 50,
   "metadata": {
    "scrolled": true
   },
   "outputs": [
    {
     "data": {
      "image/png": "[encoded data removed]",
      "text/plain": [
       "<Figure size 432x288 with 1 Axes>"
      ]
     },
     "metadata": {},
     "output_type": "display_data"
    }
   ],
   "source": [
    "plt.hist(data[\"DD\"], bins=40)\n",
    "plt.show()"
   ]
  },
  {
   "cell_type": "markdown",
   "metadata": {},
   "source": [
    "Посмотрим, сколько урона наносит победившая команда, а сколько проигравшая. Т.е. насколько важен урон для победы."
   ]
  },
  {
   "cell_type": "code",
   "execution_count": 51,
   "metadata": {},
   "outputs": [
    {
     "data": {
      "text/plain": [
       "<matplotlib.legend.Legend at 0x7f6d77d68320>"
      ]
     },
     "execution_count": 51,
     "metadata": {},
     "output_type": "execute_result"
    },
    {
     "data": {
      "image/png": "[encoded data removed]",
      "text/plain": [
       "<Figure size 432x288 with 1 Axes>"
      ]
     },
     "metadata": {},
     "output_type": "display_data"
    }
   ],
   "source": [
    "hist1, x = np.histogram(data[data.Win == 1.0][\"DD\"], bins=20)\n",
    "hist2, x = np.histogram(data[data.Win != 1.0][\"DD\"], bins=20)\n",
    "x = x[:-1]\n",
    "\n",
    "width=0.35\n",
    "\n",
    "plt.hist(data[data.Win == 1.0][\"DD\"], alpha=0.5, color='b', bins=40, label=\"Win\")\n",
    "plt.hist(data[data.Win != 1.0][\"DD\"], alpha=0.5, color='r', bins=40, label=\"Lose\")\n",
    "plt.legend()"
   ]
  },
  {
   "cell_type": "markdown",
   "metadata": {},
   "source": [
    "То же самое для лечения."
   ]
  },
  {
   "cell_type": "code",
   "execution_count": 52,
   "metadata": {},
   "outputs": [
    {
     "data": {
      "text/plain": [
       "<matplotlib.legend.Legend at 0x7f6d78ae1cc0>"
      ]
     },
     "execution_count": 52,
     "metadata": {},
     "output_type": "execute_result"
    },
    {
     "data": {
      "image/png": "[encoded data removed]",
      "text/plain": [
       "<Figure size 432x288 with 1 Axes>"
      ]
     },
     "metadata": {},
     "output_type": "display_data"
    }
   ],
   "source": [
    "plt.hist(data[data.Win == 1.0][\"HD\"], alpha=0.5, color='b', bins=40, label=\"Win\")\n",
    "plt.hist(data[data.Win != 1.0][\"HD\"], alpha=0.5, color='r', bins=40, label=\"Lose\")\n",
    "plt.legend()"
   ]
  },
  {
   "cell_type": "markdown",
   "metadata": {},
   "source": [
    "Можно определить разброс по урону у каждого класса. Выберем только классы у которых роль - нанесение урона (колонка Rol, значение dps)."
   ]
  },
  {
   "cell_type": "code",
   "execution_count": 53,
   "metadata": {
    "scrolled": true
   },
   "outputs": [
    {
     "data": {
      "text/plain": [
       "<matplotlib.legend.Legend at 0x7f6d7abf4b38>"
      ]
     },
     "execution_count": 53,
     "metadata": {},
     "output_type": "execute_result"
    },
    {
     "data": {
      "image/png": "[encoded data removed]",
      "text/plain": [
       "<Figure size 432x288 with 1 Axes>"
      ]
     },
     "metadata": {},
     "output_type": "display_data"
    }
   ],
   "source": [
    "dps = data[data.Rol == 'dps']\n",
    "plt.hist(dps[dps.Class == \"Death Knight\"][\"DD\"], alpha=0.5, color='red', bins=40, label=\"Warrior\", density=True)\n",
    "plt.hist(dps[dps.Class == \"Paladin\"][\"DD\"], alpha=0.5, color='pink', bins=40, label=\"Paladin\", density=True)\n",
    "plt.hist(dps[dps.Class == \"Rogue\"][\"DD\"], alpha=0.5, color='yellow', bins=40, label=\"Rogue\", density=True)\n",
    "plt.legend()"
   ]
  },
  {
   "cell_type": "markdown",
   "metadata": {},
   "source": [
    "#### Задание:\n",
    "На вход подаётся несколько значений урона для какого-то персонажа. Ваша задача с помощью теорема Байеса определить, к кому, скорее всего, принадлежат данные цифры.\n",
    "1. В данном случае $A_j$ - это класс игрока, а $B$ - его урон. Вам нужно найти $P(A_j|B)$\n",
    "2. Когда будете считать $P(B|A_j)$ можете просто пройтись по датасету и найти кол-во всех значений, которые лежат на интервале (B - 1000, B + 1000)"
   ]
  },
  {
   "cell_type": "code",
   "execution_count": 60,
   "metadata": {},
   "outputs": [
    {
     "name": "stdout",
     "output_type": "stream",
     "text": [
      "Druid\n",
      "Shaman\n",
      "Shaman\n",
      "Rogue\n",
      "Hunter\n",
      "Demon Hunter\n",
      "Warrior\n",
      "Hunter\n",
      "Mage\n",
      "Priest\n",
      "Paladin\n",
      "Warlock\n",
      "Druid\n",
      "Warlock\n",
      "Mage\n",
      "Priest\n",
      "Warrior\n",
      "Hunter\n",
      "Warrior\n",
      "Hunter\n"
     ]
    }
   ],
   "source": [
    "p_a = {name : data[data.Class == name].shape[0] / data.shape[0] for name in data.Class.unique()}\n",
    "def get_class(damage):\n",
    "    lst = []\n",
    "    for name in data.Class.unique():\n",
    "        lst.append((data[(data.Class == name) & (damage - 1000 < data.DD) & (data.DD < damage + 1000)].shape[0] / data[data.Class == name].shape[0], name))\n",
    "    prob_full = 0.0001\n",
    "    for x in lst:\n",
    "        prob_full += x[0] * p_a[x[1]]\n",
    "    res = []\n",
    "    for x in lst:\n",
    "        res.append((p_a[x[1]] * x[0] / prob_full, x[1])) # понятно, что на prob_full можно и не делить\n",
    "                                                         # она константа для всех  и на ммп не влияет\n",
    "    res.sort()\n",
    "    res = res[::-1]\n",
    "    return res[0][1]\n",
    "\n",
    "for x in np.linspace(0, 2 * 10 ** 5, 20):\n",
    "    print(get_class(x))"
   ]
  },
  {
   "cell_type": "markdown",
   "metadata": {},
   "source": [
    "### Наивный Байес"
   ]
  },
  {
   "cell_type": "markdown",
   "metadata": {},
   "source": [
    "Пусть у нас есть обучающая выборка $X=(x_1,...x_N)$, каждый объект имеет $m$ признаков $w_1,...w_m$. И пусть мы решаем задачу классификации, т.е. в качестве ответа у нас есть $c$ классов. Наивный байесовский классификатор решает задачу следующим образом:\n",
    "$$classify(w_1,...,w_n) = argmax_c\\{P(c)\\prod_{i=1}^{m}P(w_i|c)\\}$$"
   ]
  },
  {
   "cell_type": "markdown",
   "metadata": {},
   "source": [
    "Датасет для этой задачи будет из игры World of Warcraft. В ней есть \"Поля боя\" (Battlegrounds), на которой сражаются две фракции: Альянс(Alliance) и Орда(Horde). Каждую фракцию представляют игроки, которые могут быть различными классами (колонка Class). Битвы происходили несколько раз на разных полях боя, идентификатор одного боя - это колонка \"Code\".  В колонках Win, Lose показано, кто победил."
   ]
  },
  {
   "cell_type": "markdown",
   "metadata": {},
   "source": [
    "Допустим, начинается битва. Мы знаем, кто в нашей команде. Наша цель, понять, кто победит. В качестве признаков мы будем использовать кол-во каждого класса в каждой из команд. Я модифицировал датасет для этой задачи. Каждая строка - это отдельная битва. Колонки - это кол-во классов за каждую из фракций. target: 1 - победила Орда, 0 - победил Альянс"
   ]
  },
  {
   "cell_type": "code",
   "execution_count": 43,
   "metadata": {},
   "outputs": [
    {
     "data": {
      "text/html": [
       "<div>\n",
       "<style scoped>\n",
       "    .dataframe tbody tr th:only-of-type {\n",
       "        vertical-align: middle;\n",
       "    }\n",
       "\n",
       "    .dataframe tbody tr th {\n",
       "        vertical-align: top;\n",
       "    }\n",
       "\n",
       "    .dataframe thead th {\n",
       "        text-align: right;\n",
       "    }\n",
       "</style>\n",
       "<table border=\"1\" class=\"dataframe\">\n",
       "  <thead>\n",
       "    <tr style=\"text-align: right;\">\n",
       "      <th></th>\n",
       "      <th>Hunter_Horde</th>\n",
       "      <th>Hunter_Alliance</th>\n",
       "      <th>Death Knight_Horde</th>\n",
       "      <th>Death Knight_Alliance</th>\n",
       "      <th>Paladin_Horde</th>\n",
       "      <th>Paladin_Alliance</th>\n",
       "      <th>Rogue_Horde</th>\n",
       "      <th>Rogue_Alliance</th>\n",
       "      <th>Druid_Horde</th>\n",
       "      <th>Druid_Alliance</th>\n",
       "      <th>...</th>\n",
       "      <th>Demon Hunter_Alliance</th>\n",
       "      <th>Warlock_Horde</th>\n",
       "      <th>Warlock_Alliance</th>\n",
       "      <th>Warrior_Horde</th>\n",
       "      <th>Warrior_Alliance</th>\n",
       "      <th>Monk_Horde</th>\n",
       "      <th>Monk_Alliance</th>\n",
       "      <th>Mage_Horde</th>\n",
       "      <th>Mage_Alliance</th>\n",
       "      <th>target</th>\n",
       "    </tr>\n",
       "    <tr>\n",
       "      <th>index</th>\n",
       "      <th></th>\n",
       "      <th></th>\n",
       "      <th></th>\n",
       "      <th></th>\n",
       "      <th></th>\n",
       "      <th></th>\n",
       "      <th></th>\n",
       "      <th></th>\n",
       "      <th></th>\n",
       "      <th></th>\n",
       "      <th></th>\n",
       "      <th></th>\n",
       "      <th></th>\n",
       "      <th></th>\n",
       "      <th></th>\n",
       "      <th></th>\n",
       "      <th></th>\n",
       "      <th></th>\n",
       "      <th></th>\n",
       "      <th></th>\n",
       "      <th></th>\n",
       "    </tr>\n",
       "  </thead>\n",
       "  <tbody>\n",
       "    <tr>\n",
       "      <th>WG1</th>\n",
       "      <td>1</td>\n",
       "      <td>0</td>\n",
       "      <td>1</td>\n",
       "      <td>0</td>\n",
       "      <td>1</td>\n",
       "      <td>2</td>\n",
       "      <td>0</td>\n",
       "      <td>2</td>\n",
       "      <td>2</td>\n",
       "      <td>1</td>\n",
       "      <td>...</td>\n",
       "      <td>1</td>\n",
       "      <td>0</td>\n",
       "      <td>2</td>\n",
       "      <td>1</td>\n",
       "      <td>0</td>\n",
       "      <td>0</td>\n",
       "      <td>0</td>\n",
       "      <td>0</td>\n",
       "      <td>0</td>\n",
       "      <td>1</td>\n",
       "    </tr>\n",
       "    <tr>\n",
       "      <th>WG2</th>\n",
       "      <td>0</td>\n",
       "      <td>0</td>\n",
       "      <td>2</td>\n",
       "      <td>2</td>\n",
       "      <td>1</td>\n",
       "      <td>0</td>\n",
       "      <td>0</td>\n",
       "      <td>1</td>\n",
       "      <td>1</td>\n",
       "      <td>0</td>\n",
       "      <td>...</td>\n",
       "      <td>1</td>\n",
       "      <td>1</td>\n",
       "      <td>1</td>\n",
       "      <td>1</td>\n",
       "      <td>2</td>\n",
       "      <td>0</td>\n",
       "      <td>2</td>\n",
       "      <td>0</td>\n",
       "      <td>0</td>\n",
       "      <td>0</td>\n",
       "    </tr>\n",
       "    <tr>\n",
       "      <th>WG3</th>\n",
       "      <td>0</td>\n",
       "      <td>3</td>\n",
       "      <td>0</td>\n",
       "      <td>0</td>\n",
       "      <td>1</td>\n",
       "      <td>1</td>\n",
       "      <td>1</td>\n",
       "      <td>1</td>\n",
       "      <td>2</td>\n",
       "      <td>1</td>\n",
       "      <td>...</td>\n",
       "      <td>1</td>\n",
       "      <td>0</td>\n",
       "      <td>0</td>\n",
       "      <td>0</td>\n",
       "      <td>0</td>\n",
       "      <td>0</td>\n",
       "      <td>0</td>\n",
       "      <td>1</td>\n",
       "      <td>0</td>\n",
       "      <td>0</td>\n",
       "    </tr>\n",
       "    <tr>\n",
       "      <th>WG4</th>\n",
       "      <td>0</td>\n",
       "      <td>1</td>\n",
       "      <td>0</td>\n",
       "      <td>0</td>\n",
       "      <td>0</td>\n",
       "      <td>0</td>\n",
       "      <td>1</td>\n",
       "      <td>1</td>\n",
       "      <td>0</td>\n",
       "      <td>0</td>\n",
       "      <td>...</td>\n",
       "      <td>2</td>\n",
       "      <td>2</td>\n",
       "      <td>0</td>\n",
       "      <td>2</td>\n",
       "      <td>2</td>\n",
       "      <td>1</td>\n",
       "      <td>2</td>\n",
       "      <td>1</td>\n",
       "      <td>1</td>\n",
       "      <td>0</td>\n",
       "    </tr>\n",
       "    <tr>\n",
       "      <th>WG5</th>\n",
       "      <td>2</td>\n",
       "      <td>0</td>\n",
       "      <td>0</td>\n",
       "      <td>0</td>\n",
       "      <td>0</td>\n",
       "      <td>2</td>\n",
       "      <td>1</td>\n",
       "      <td>3</td>\n",
       "      <td>0</td>\n",
       "      <td>1</td>\n",
       "      <td>...</td>\n",
       "      <td>1</td>\n",
       "      <td>2</td>\n",
       "      <td>0</td>\n",
       "      <td>0</td>\n",
       "      <td>1</td>\n",
       "      <td>2</td>\n",
       "      <td>0</td>\n",
       "      <td>0</td>\n",
       "      <td>1</td>\n",
       "      <td>0</td>\n",
       "    </tr>\n",
       "  </tbody>\n",
       "</table>\n",
       "<p>5 rows × 25 columns</p>\n",
       "</div>"
      ],
      "text/plain": [
       "       Hunter_Horde  Hunter_Alliance  Death Knight_Horde  \\\n",
       "index                                                      \n",
       "WG1               1                0                   1   \n",
       "WG2               0                0                   2   \n",
       "WG3               0                3                   0   \n",
       "WG4               0                1                   0   \n",
       "WG5               2                0                   0   \n",
       "\n",
       "       Death Knight_Alliance  Paladin_Horde  Paladin_Alliance  Rogue_Horde  \\\n",
       "index                                                                        \n",
       "WG1                        0              1                 2            0   \n",
       "WG2                        2              1                 0            0   \n",
       "WG3                        0              1                 1            1   \n",
       "WG4                        0              0                 0            1   \n",
       "WG5                        0              0                 2            1   \n",
       "\n",
       "       Rogue_Alliance  Druid_Horde  Druid_Alliance   ...    \\\n",
       "index                                                ...     \n",
       "WG1                 2            2               1   ...     \n",
       "WG2                 1            1               0   ...     \n",
       "WG3                 1            2               1   ...     \n",
       "WG4                 1            0               0   ...     \n",
       "WG5                 3            0               1   ...     \n",
       "\n",
       "       Demon Hunter_Alliance  Warlock_Horde  Warlock_Alliance  Warrior_Horde  \\\n",
       "index                                                                          \n",
       "WG1                        1              0                 2              1   \n",
       "WG2                        1              1                 1              1   \n",
       "WG3                        1              0                 0              0   \n",
       "WG4                        2              2                 0              2   \n",
       "WG5                        1              2                 0              0   \n",
       "\n",
       "       Warrior_Alliance  Monk_Horde  Monk_Alliance  Mage_Horde  Mage_Alliance  \\\n",
       "index                                                                           \n",
       "WG1                   0           0              0           0              0   \n",
       "WG2                   2           0              2           0              0   \n",
       "WG3                   0           0              0           1              0   \n",
       "WG4                   2           1              2           1              1   \n",
       "WG5                   1           2              0           0              1   \n",
       "\n",
       "       target  \n",
       "index          \n",
       "WG1         1  \n",
       "WG2         0  \n",
       "WG3         0  \n",
       "WG4         0  \n",
       "WG5         0  \n",
       "\n",
       "[5 rows x 25 columns]"
      ]
     },
     "execution_count": 43,
     "metadata": {},
     "output_type": "execute_result"
    }
   ],
   "source": [
    "df = pd.read_csv(\"wow_win_lose.csv\", index_col=0)\n",
    "df.head()"
   ]
  },
  {
   "cell_type": "code",
   "execution_count": 44,
   "metadata": {
    "scrolled": true
   },
   "outputs": [
    {
     "data": {
      "text/plain": [
       "1    155\n",
       "0     94\n",
       "Name: target, dtype: int64"
      ]
     },
     "execution_count": 44,
     "metadata": {},
     "output_type": "execute_result"
    }
   ],
   "source": [
    "df[\"target\"].value_counts()"
   ]
  },
  {
   "cell_type": "markdown",
   "metadata": {},
   "source": [
    "Большая часть классификатора написана. Нужно написать функцию predict."
   ]
  },
  {
   "cell_type": "code",
   "execution_count": 59,
   "metadata": {},
   "outputs": [],
   "source": [
    "from random import random\n",
    "class NaiveBaies():    \n",
    "    def fit(self, X, y):\n",
    "        # Список классов\n",
    "        self.classes = np.unique(y)\n",
    "        # Сохраним кол-во классов\n",
    "        self.cls_counts = np.bincount(y)\n",
    "        \n",
    "        # Сохраним для каждого значения признака кол-во таких объектов (P(w_i|c)), чтобы потом было легче обучаться\n",
    "        # self.feature_counts[cls][column_idx][i] - 1+ кол-во элементов в обучающей выборке, с классом cls, у которых\n",
    "        # признак под номером column_idx равен i\n",
    "        self.feature_counts = {}\n",
    "        for cls in self.classes:\n",
    "            cur_feature_counts = {}\n",
    "            for j in range(X.shape[1]):\n",
    "                # Добавим ко всем значениям единицу, чтобы не было нулей в вероятностях\n",
    "                cur_feature_counts[j] = np.bincount(X[y == cls][:,j], minlength=10) + 1\n",
    "            self.feature_counts[cls] = cur_feature_counts\n",
    "        return self\n",
    "        \n",
    "    def predict(self, X_test, mmp=False):\n",
    "        preds = []\n",
    "        for x in X_test:\n",
    "            p0 = self.cls_counts[0] / self.cls_counts.sum()\n",
    "            for w in range(x.shape[0]):\n",
    "                p0 *= self.feature_counts[0][w][x[w]] / self.feature_counts[0][w].sum()\n",
    "            p1 = self.cls_counts[1] / self.cls_counts.sum()\n",
    "            for w in range(x.shape[0]):\n",
    "                p1 *= self.feature_counts[1][w][x[w]] / self.feature_counts[1][w].sum()\n",
    "            real_p_0 = p0 / (p1 + p0)\n",
    "            if not mmp and random() > real_p_0 or mmp and p1 >= p0:\n",
    "                preds.append(1)\n",
    "            else:\n",
    "                preds.append(0)\n",
    "        return preds"
   ]
  },
  {
   "cell_type": "code",
   "execution_count": 74,
   "metadata": {
    "scrolled": true
   },
   "outputs": [
    {
     "name": "stdout",
     "output_type": "stream",
     "text": [
      "0.5238095238095238\n",
      "0.5806451612903226\n",
      "0.5806451612903226\n",
      "0.5645161290322581\n"
     ]
    }
   ],
   "source": [
    "from sklearn.model_selection import KFold\n",
    "from sklearn.metrics import accuracy_score\n",
    "\n",
    "kf = KFold(n_splits=4, random_state=42, shuffle=True)\n",
    "\n",
    "for train, test in kf.split(df):\n",
    "    df_train = df.iloc[train]\n",
    "    df_test = df.iloc[test]\n",
    "    \n",
    "    X_train, y_train = df_train.drop(\"target\", axis=1).values, df_train[\"target\"].values\n",
    "    X_test, y_test = df_test.drop(\"target\", axis=1).values, df_test[\"target\"].values\n",
    "\n",
    "    clf = NaiveBaies()\n",
    "    clf.fit(X_train, y_train)\n",
    "#     print(clf.feature_counts[0])\n",
    "    preds = clf.predict(X_test)\n",
    "    print(accuracy_score(preds, y_test))\n"
   ]
  },
  {
   "cell_type": "markdown",
   "metadata": {},
   "source": [
    "Результаты без метода максимального правдоподобия(просто находим вероятности одного и другого, а потом сами кидаем кубик)"
   ]
  },
  {
   "cell_type": "code",
   "execution_count": 75,
   "metadata": {},
   "outputs": [
    {
     "name": "stdout",
     "output_type": "stream",
     "text": [
      "0.5238095238095238\n",
      "0.6290322580645161\n",
      "0.6290322580645161\n",
      "0.532258064516129\n"
     ]
    }
   ],
   "source": [
    "for train, test in kf.split(df):\n",
    "    df_train = df.iloc[train]\n",
    "    df_test = df.iloc[test]\n",
    "    \n",
    "    X_train, y_train = df_train.drop(\"target\", axis=1).values, df_train[\"target\"].values\n",
    "    X_test, y_test = df_test.drop(\"target\", axis=1).values, df_test[\"target\"].values\n",
    "\n",
    "    clf = NaiveBaies()\n",
    "    clf.fit(X_train, y_train)\n",
    "#     print(clf.feature_counts[0])\n",
    "    preds = clf.predict(X_test, mmp=True)\n",
    "    print(accuracy_score(preds, y_test))\n"
   ]
  },
  {
   "cell_type": "markdown",
   "metadata": {},
   "source": [
    "Результаты с ммп (просто берем argmax)"
   ]
  },
  {
   "cell_type": "markdown",
   "metadata": {},
   "source": [
    "Заметно, кстати, что результаты в первом случае разные, а во втором всегда одинаковые. И качество первого очень прыгает(ну это неудивительно, потому что у нас рандом и небольшая выборка)"
   ]
  },
  {
   "cell_type": "markdown",
   "metadata": {},
   "source": [
    "Можно попробовать и логистическую регрессию."
   ]
  },
  {
   "cell_type": "code",
   "execution_count": 47,
   "metadata": {},
   "outputs": [
    {
     "data": {
      "text/plain": [
       "array([0.61904762, 0.68253968, 0.61290323, 0.62295082])"
      ]
     },
     "execution_count": 47,
     "metadata": {},
     "output_type": "execute_result"
    }
   ],
   "source": [
    "from sklearn.model_selection import cross_val_score\n",
    "from sklearn.linear_model import LogisticRegression\n",
    "\n",
    "cross_val_score(LogisticRegression(), df.drop(\"target\", axis=1).values, df[\"target\"].values, scoring=\"accuracy\", cv=4)"
   ]
  }
 ],
 "metadata": {
  "kernelspec": {
   "display_name": "Python 3",
   "language": "python",
   "name": "python3"
  },
  "language_info": {
   "codemirror_mode": {
    "name": "ipython",
    "version": 3
   },
   "file_extension": ".py",
   "mimetype": "text/x-python",
   "name": "python",
   "nbconvert_exporter": "python",
   "pygments_lexer": "ipython3",
   "version": "3.5.5"
  }
 },
 "nbformat": 4,
 "nbformat_minor": 2
}
