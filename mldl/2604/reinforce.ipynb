{
 "cells": [
  {
   "cell_type": "markdown",
   "metadata": {},
   "source": [
    "# REINFORCE\n",
    "\n",
    "Пусть $X$ это какая-то случайная величина с известным распределением $p_\\theta(X)$, где $\\theta$ — это параметры модели. Определим функцию награды $J(\\theta)$ как\n",
    "\n",
    "$$ J(\\theta) = E[f(X)] = \\int_x f(x) p(x) \\; dx $$\n",
    "\n",
    "для произвольной функции $f$, не зависящей от $\\theta$.\n",
    "\n",
    "*Policy gradient* (дословно, градиент стратегии) — это, интуитивно, то направление, куда нужно двигать параметры модели, чтобы функция награды увеличивалась. Алгоритм REINFORCE (почему его всегда пишут капсом автор не знает) на каждом шаге просто определяет policy gradient $\\nabla_\\theta J(\\theta)$ и изменяет параметры в его сторону с каким-то learning rate-ом.\n",
    "\n",
    "**Зачем это надо**, если есть обычный градиентный спуск? Через policy gradient и reinforcement learning вообще можно оптимизировать более общий класс функций — хоть дискретные (например, можно BLEU для перевода напрямую максимизировать) и даже невычислимые (какие-нибудь субъективные оценки асессоров).\n",
    "\n",
    "В частности, в таком ключе можно описать игры (для простоты, однопользовательские): есть какие-то награды за совершение каких-то действий (для шахмат: +1 за победу, 0 за ничью, -1 за поражение; для тетриса: +0.1 за «выживание» ещё одну секунду, 1 за удаление слоя, 0 за проигрыш) и нам нужно подобрать такие параметры модели, чтобы максимизировать ожидаемую сумму наград за действия, которые мы совершили, то есть в точности $J(\\theta)$.\n",
    "\n",
    "Теперь немного математики: как нам найти этот $\\nabla_\\theta J(\\theta)$? Оказывается, мы можем выразить его ожидание, а тогда приблизительный градиент можно будет находить сэмплированием и усреднением градиентов — так же, как мы обычно обучаем нейросети на батчах.\n",
    "\n",
    "$$ J(\\theta) = E[f(X)] = \\int_x f(x) p(x) \\; dx = \\int_x f(x) p(x) \\nabla_\\theta \\log p(x) \\; dx = E[f(x) \\nabla_\\theta \\log p(x)] $$\n",
    "\n",
    "Переход между 2 и 3 верен, потому что $\\nabla \\log p(x) = \\frac{\\nabla p(x)}{p(x)}$ (просто подставьте и $p(x)$ сократится). Это называют log-derivative trick.\n",
    "\n",
    "Мы научились получить приблизительный градиент через сэмплирование. Давайте теперь что-нибудь обучим."
   ]
  },
  {
   "cell_type": "markdown",
   "metadata": {},
   "source": [
    "## `CartPole-v0`"
   ]
  },
  {
   "cell_type": "markdown",
   "metadata": {},
   "source": [
    "Про задачу можно почитать тут: https://gym.openai.com/envs/CartPole-v0/. Tl;dr: есть вертикально стоящая палка на подвижной платформе; нужно двигать платформу так, чтобы палка не упала.\n",
    "\n",
    "<img width='500px' src='https://preview.redd.it/sqjzj2cgnpt21.gif?overlay-align=bottom,left&overlay-pad=8,16&crop=1200:628.272251309,smart&overlay-height=0.10&overlay=%2Fv9vyirk6hl221.png%3Fs%3Db466421949eb723078743745ce6421609d7a9c66&width=1200&height=628.272251309&s=ba84ac5a9c14946456808c15f2754cb7369b8de9'>\n",
    "\n",
    "OpenAI в 2016-м году выпустили `gym` — библиотечку для абстрагирования RL-ных сред от алгоритма. Есть абстрактная *среда* (`env`), в ней есть какие-то *состояния* (`state`), из каждого состояния есть какой-то фиксированный набо *действий* (`action`), ведущих (возможно, с какими-то вероятностями) в другие состояния, и за разные действия в разных состояниях дается какая-то *награда* (`reward`). Как конкретно устроена игра, нам думать не нужно."
   ]
  },
  {
   "cell_type": "code",
   "execution_count": 46,
   "metadata": {},
   "outputs": [],
   "source": [
    "import os\n",
    "if type(os.environ.get(\"DISPLAY\")) is not str or len(os.environ.get(\"DISPLAY\"))==0:\n",
    "    !bash ../xvfb start\n",
    "    %env DISPLAY=:1"
   ]
  },
  {
   "cell_type": "code",
   "execution_count": 47,
   "metadata": {},
   "outputs": [],
   "source": [
    "import gym\n",
    "import numpy as np, pandas as pd\n",
    "import matplotlib.pyplot as plt\n",
    "%matplotlib inline"
   ]
  },
  {
   "cell_type": "code",
   "execution_count": 48,
   "metadata": {},
   "outputs": [],
   "source": [
    "env = gym.make(\"CartPole-v0\").env\n",
    "env.reset()\n",
    "n_actions = env.action_space.n\n",
    "state_dim = env.observation_space.shape"
   ]
  },
  {
   "cell_type": "code",
   "execution_count": 49,
   "metadata": {},
   "outputs": [
    {
     "data": {
      "image/png": "[encoded data removed]",
      "text/plain": [
       "<Figure size 432x288 with 1 Axes>"
      ]
     },
     "metadata": {},
     "output_type": "display_data"
    }
   ],
   "source": [
    "plt.imshow(env.render(\"rgb_array\"))\n",
    "env.close()"
   ]
  },
  {
   "cell_type": "markdown",
   "metadata": {},
   "source": [
    "## Сеть\n",
    "\n",
    "Для REINFORCE вам нужна модель, которая берёт на вход состояние (каким-то образом закодированное) и возвращает вероятностное распределение действий в нём.\n",
    "\n",
    "Старайтесь не перемудрить — в общем случае сети для RL могут быть [довольно сложными](https://d4mucfpksywv.cloudfront.net/research-covers/openai-five/network-architecture.pdf), но CartPole не стоит того, чтобы писать глубокие архитектуры."
   ]
  },
  {
   "cell_type": "code",
   "execution_count": 50,
   "metadata": {},
   "outputs": [],
   "source": [
    "import torch\n",
    "import torch.nn as nn"
   ]
  },
  {
   "cell_type": "code",
   "execution_count": 51,
   "metadata": {},
   "outputs": [],
   "source": [
    "agent = nn.Sequential(\n",
    "    nn.Linear(4, 10),\n",
    "    nn.ReLU(),\n",
    "    nn.Linear(10, 5),\n",
    "    nn.ReLU(),\n",
    "    nn.Linear(5, 2),\n",
    "    # ...\n",
    "    # какие-нибудь релушки и линеары\n",
    "    # ...\n",
    "    nn.LogSoftmax(dim=1)  # важно, что на выходе должны быть не вероятности, а логиты\n",
    ")"
   ]
  },
  {
   "cell_type": "markdown",
   "metadata": {},
   "source": [
    "OpenAI Gym работает с numpy, а не напрямую с фреймворками. Для удобства, напишите функцию-обёртку, которая принимает состояния (`numpy array` размера `[batch, state_shape]`) и возвращает вероятности (размера `[batch, n_actions]]`, должны суммироваться в единицу)."
   ]
  },
  {
   "cell_type": "code",
   "execution_count": 52,
   "metadata": {},
   "outputs": [],
   "source": [
    "def predict_proba(states):\n",
    "    x = torch.tensor(states, dtype=torch.float64).float()\n",
    "    x = agent(x)\n",
    "    return x, torch.exp(x)\n",
    "    # сконвертируйте состояния в тензор\n",
    "    # вычислите логиты\n",
    "    # вызовите софтмакс, чтобы получить веряотности"
   ]
  },
  {
   "cell_type": "code",
   "execution_count": 53,
   "metadata": {},
   "outputs": [
    {
     "name": "stdout",
     "output_type": "stream",
     "text": [
      "(tensor([[-1.0189, -0.4478],\n",
      "        [-1.0160, -0.4495],\n",
      "        [-1.0174, -0.4487],\n",
      "        [-1.0181, -0.4483],\n",
      "        [-1.0154, -0.4498]], grad_fn=<LogSoftmaxBackward>), tensor([[0.3610, 0.6390],\n",
      "        [0.3620, 0.6380],\n",
      "        [0.3615, 0.6385],\n",
      "        [0.3613, 0.6387],\n",
      "        [0.3622, 0.6378]], grad_fn=<ExpBackward>))\n"
     ]
    }
   ],
   "source": [
    "test_states = np.array([env.reset() for _ in range(5)])\n",
    "test_probas = predict_proba(test_states)\n",
    "print(test_probas)\n",
    "# assert isinstance(test_probas, np.ndarray), \"you must return np array and not %s\" % type(test_probas)\n",
    "# assert tuple(test_probas.shape) == (test_states.shape[0], n_actions), \"wrong output shape: \" +  str(np.shape(test_probas))\n",
    "# assert np.allclose(np.sum(test_probas, axis = 1), 1), \"probabilities do not sum to 1\""
   ]
  },
  {
   "cell_type": "markdown",
   "metadata": {},
   "source": [
    "## Тестовый прогон\n",
    "\n",
    "Хоть наша модель не обучена, её уже можно использовать, чтобы играть в произвольной среде."
   ]
  },
  {
   "cell_type": "code",
   "execution_count": 54,
   "metadata": {},
   "outputs": [],
   "source": [
    "def generate_session(t_max=1000, draw=False):\n",
    "    \"\"\" \n",
    "    Играет одну сессию REINFORCE-агентом и возвращает последовательность состояний,\n",
    "    действий и наград, которые потом будут использоваться при обучении.\n",
    "    \"\"\"\n",
    "    \n",
    "    # тут будем хранить сессию\n",
    "    states, actions, rewards, log_probas, probas = [],[],[], torch.tensor([]), torch.tensor([])\n",
    "    \n",
    "    s = env.reset()\n",
    "    \n",
    "    for t in range(t_max):\n",
    "#         print(t)\n",
    "        if draw:\n",
    "            env.render(\"rgb-array\")\n",
    "        # вероятности следующих действий, aka p(a|s)\n",
    "        log_action_probas, action_probas = predict_proba(np.array([s]))\n",
    "        log_probas = torch.cat([log_probas, log_action_probas])\n",
    "        probas = torch.cat([probas, action_probas])\n",
    "        # сэмплируйте оттуда действие (посказка: np.random.choice)\n",
    "        a = np.random.choice([0, 1], p=action_probas[0].detach().numpy())\n",
    "        \n",
    "        new_s, r, done, info = env.step(a)\n",
    "        \n",
    "        states.append(s)\n",
    "        actions.append(a)\n",
    "        rewards.append(r)\n",
    "        \n",
    "        s = new_s\n",
    "        if done:\n",
    "            break\n",
    "    return states, actions, rewards, log_probas, probas"
   ]
  },
  {
   "cell_type": "code",
   "execution_count": 55,
   "metadata": {},
   "outputs": [],
   "source": [
    "# протестируйте\n",
    "states, actions, rewards, logprobas, probas = generate_session()"
   ]
  },
  {
   "cell_type": "markdown",
   "metadata": {},
   "source": [
    "### Computing cumulative rewards"
   ]
  },
  {
   "cell_type": "code",
   "execution_count": 56,
   "metadata": {},
   "outputs": [],
   "source": [
    "def get_cumulative_rewards(rewards, gamma=0.99):\n",
    "    \"\"\"\n",
    "    Принимает массив ревардов и возвращает discounted массив по следующей формуле:\n",
    "    \n",
    "        G_t = r_t + gamma*r_{t+1} + gamma^2*r_{t+2} + ...\n",
    "    \n",
    "    Тут нет ничего сложного -- итерируйтесь от последнего до первого\n",
    "    и насчитывайте G_t = r_t + gamma*G_{t+1} рекуррентно.\n",
    "    \"\"\"\n",
    "    G = np.zeros(len(rewards))\n",
    "    G[-1] = rewards[-1]\n",
    "    for i in range(len(rewards) - 2, -1, -1):\n",
    "        G[i] = rewards[i] + gamma * G[i + 1]\n",
    "    return G"
   ]
  },
  {
   "cell_type": "code",
   "execution_count": 57,
   "metadata": {},
   "outputs": [
    {
     "name": "stdout",
     "output_type": "stream",
     "text": [
      "Вроде норм\n"
     ]
    }
   ],
   "source": [
    "get_cumulative_rewards(rewards)\n",
    "assert len(get_cumulative_rewards(list(range(100)))) == 100\n",
    "assert np.allclose(get_cumulative_rewards([0, 0, 1, 0, 0, 1, 0], gamma=0.9),\n",
    "                   [1.40049, 1.5561, 1.729, 0.81, 0.9, 1.0, 0.0])\n",
    "assert np.allclose(get_cumulative_rewards([0, 0, 1, -2, 3, -4, 0], gamma=0.5),\n",
    "                   [0.0625, 0.125, 0.25, -1.5, 1.0, -4.0, 0.0])\n",
    "assert np.allclose(get_cumulative_rewards([0, 0, 1, 2, 3, 4, 0], gamma=0),\n",
    "                   [0, 0, 1, 2, 3, 4, 0])\n",
    "print(\"Вроде норм\")"
   ]
  },
  {
   "cell_type": "markdown",
   "metadata": {},
   "source": [
    "#### Loss function and updates\n",
    "\n",
    "Вспомним, что нам нужно оптимизировать\n",
    "\n",
    "$$ J \\approx  { 1 \\over N } \\sum  _{s_i,a_i} \\pi_\\theta (a_i | s_i) \\cdot G(s_i,a_i) $$\n",
    "\n",
    "\n",
    "Используя REINFORCE, нам в алгоритме по сути нужно максимизировать немного другую функцию:\n",
    "\n",
    "$$ \\hat J \\approx { 1 \\over N } \\sum  _{s_i,a_i} log \\pi_\\theta (a_i | s_i) \\cdot G(s_i,a_i) $$\n",
    "\n",
    "Когда мы будем вычислять её градиент, мы получим в точности policy gradient из REINFORCE."
   ]
  },
  {
   "cell_type": "code",
   "execution_count": 58,
   "metadata": {},
   "outputs": [],
   "source": [
    "def to_one_hot(y_tensor, n_dims=None):\n",
    "    \"\"\" Конвертирует целочисленный вектор в one-hot матрицу. \"\"\"\n",
    "    y_tensor = y_tensor.type(torch.LongTensor).view(-1, 1)\n",
    "    n_dims = n_dims if n_dims is not None else int(torch.max(y_tensor)) + 1\n",
    "    y_one_hot = torch.zeros(y_tensor.size()[0], n_dims).scatter_(1, y_tensor, 1)\n",
    "    return y_one_hot"
   ]
  },
  {
   "cell_type": "code",
   "execution_count": 59,
   "metadata": {},
   "outputs": [],
   "source": [
    "# тут определите оптимизатор для модели\n",
    "# например, Adam с дефолтными параметрами\n",
    "optimiser = torch.optim.Adam(agent.parameters())\n",
    "\n",
    "def train_on_session(states, actions, rewards, logprobas, probas, gamma = 0.99):\n",
    "    \n",
    "    states = torch.tensor(states, dtype=torch.float32)\n",
    "#     logprobas = torch.tensor(logprobas, dtype=torch.float32)\n",
    "#     probas = torch.tensor(probas, dtype=torch.float32)\n",
    "    actions = torch.tensor(actions, dtype=torch.int32)\n",
    "    cumulative_returns = np.array(get_cumulative_rewards(rewards, gamma))\n",
    "    cumulative_returns = torch.tensor(cumulative_returns, dtype=torch.float32)\n",
    "    \n",
    "    # выберем и просуммируем лог-вероятности только для выбранных действий\n",
    "    logprobas_for_actions = torch.sum(logprobas * to_one_hot(actions), dim=1)\n",
    "    \n",
    "    J_hat = 1 / len(states) * torch.dot(logprobas_for_actions, cumulative_returns) # формула для REINFORCE\n",
    "    \n",
    "#     # опционально: энтропийная регуляризация\n",
    "    entropy_reg = -torch.sum(torch.exp(logprobas_for_actions) * logprobas_for_actions) / len(logprobas_for_actions) # вычислите среднюю энтропию вероятностей; не забудьте знак!\n",
    "    \n",
    "    loss = -J_hat + 0.1 * entropy_reg\n",
    "    \n",
    "    loss.backward()\n",
    "    optimiser.step()\n",
    "    agent.zero_grad()\n",
    "#     # шагните в сторону градиента\n",
    "#     # ....\n",
    "    \n",
    "#     # верните ревард сессии, чтобы потом их печатать\n",
    "    return np.sum(rewards)"
   ]
  },
  {
   "cell_type": "markdown",
   "metadata": {},
   "source": [
    "## Само обучение"
   ]
  },
  {
   "cell_type": "code",
   "execution_count": 60,
   "metadata": {},
   "outputs": [
    {
     "name": "stdout",
     "output_type": "stream",
     "text": [
      "mean reward:17.610\n",
      "mean reward:19.100\n",
      "mean reward:22.340\n",
      "mean reward:22.080\n",
      "mean reward:21.720\n",
      "mean reward:27.250\n",
      "mean reward:24.780\n",
      "mean reward:23.190\n",
      "mean reward:29.810\n",
      "mean reward:34.060\n",
      "mean reward:40.530\n",
      "mean reward:48.730\n",
      "mean reward:53.490\n",
      "mean reward:64.080\n",
      "mean reward:93.080\n",
      "mean reward:85.600\n",
      "mean reward:93.200\n",
      "mean reward:198.780\n",
      "mean reward:191.280\n",
      "mean reward:145.420\n",
      "mean reward:200.670\n",
      "mean reward:291.230\n",
      "mean reward:158.160\n",
      "mean reward:187.890\n",
      "mean reward:161.720\n",
      "mean reward:212.590\n",
      "mean reward:279.560\n",
      "mean reward:317.810\n",
      "mean reward:133.900\n",
      "mean reward:360.950\n",
      "mean reward:487.390\n",
      "mean reward:539.630\n",
      "Победа!\n"
     ]
    }
   ],
   "source": [
    "for i in range(100):\n",
    "    rewards = [train_on_session(*generate_session()) for _ in range(100)]\n",
    "    print (\"mean reward:%.3f\"%(np.mean(rewards)))\n",
    "\n",
    "    if np.mean(rewards) > 500:\n",
    "        print (\"Победа!\")\n",
    "        break"
   ]
  },
  {
   "cell_type": "markdown",
   "metadata": {},
   "source": [
    "## Видосик"
   ]
  },
  {
   "cell_type": "code",
   "execution_count": 61,
   "metadata": {},
   "outputs": [],
   "source": [
    "import gym.wrappers\n",
    "env = gym.wrappers.Monitor(gym.make(\"CartPole-v0\"),directory=\"videos\",force=True)\n",
    "sessions = [generate_session(draw=True) for _ in range(1)]\n",
    "env.close()"
   ]
  },
  {
   "cell_type": "code",
   "execution_count": 62,
   "metadata": {},
   "outputs": [
    {
     "data": {
      "text/html": [
       "\n",
       "<video width=\"640\" height=\"480\" controls>\n",
       "  <source src=\"./videos/openaigym.video.0.18573.video000000.mp4\" type=\"video/mp4\">\n",
       "</video>\n"
      ],
      "text/plain": [
       "<IPython.core.display.HTML object>"
      ]
     },
     "execution_count": 62,
     "metadata": {},
     "output_type": "execute_result"
    }
   ],
   "source": [
    "from IPython.display import HTML\n",
    "import os\n",
    "\n",
    "video_names = list(filter(lambda s:s.endswith(\".mp4\"),os.listdir(\"./videos/\")))\n",
    "\n",
    "HTML(\"\"\"\n",
    "<video width=\"640\" height=\"480\" controls>\n",
    "  <source src=\"{}\" type=\"video/mp4\">\n",
    "</video>\n",
    "\"\"\".format(\"./videos/\"+video_names[-1]))"
   ]
  }
 ],
 "metadata": {
  "kernelspec": {
   "display_name": "Python 3",
   "language": "python",
   "name": "python3"
  },
  "language_info": {
   "codemirror_mode": {
    "name": "ipython",
    "version": 3
   },
   "file_extension": ".py",
   "mimetype": "text/x-python",
   "name": "python",
   "nbconvert_exporter": "python",
   "pygments_lexer": "ipython3",
   "version": "3.5.5"
  }
 },
 "nbformat": 4,
 "nbformat_minor": 1
}
