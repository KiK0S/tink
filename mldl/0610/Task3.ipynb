{
 "cells": [
  {
   "cell_type": "markdown",
   "metadata": {},
   "source": [
    "### Чем хороша линейная регрессия?\n",
    "* Быстрая\n",
    "* Простая в осовении\n",
    "* Мало параметров, которые надо подкручивать\n",
    "* Легко интерпретируемая"
   ]
  },
  {
   "cell_type": "markdown",
   "metadata": {},
   "source": [
    "### Библиотеки\n",
    "Основная библиотека, с которой вы будете работать в этом курсе, это [scikit-learn](http://scikit-learn.org). На сайте есть описание всех моделей, а также User Guides к ним. Стоит почитать на досуге."
   ]
  },
  {
   "cell_type": "code",
   "execution_count": 1,
   "metadata": {},
   "outputs": [],
   "source": [
    "import numpy as np\n",
    "import pandas as pd\n",
    "import matplotlib.pyplot as plt\n",
    "\n",
    "%matplotlib inline\n",
    "cv_default = 5"
   ]
  },
  {
   "cell_type": "markdown",
   "metadata": {},
   "source": [
    "### Датасет о рекламной кампании"
   ]
  },
  {
   "cell_type": "code",
   "execution_count": 2,
   "metadata": {},
   "outputs": [
    {
     "data": {
      "text/html": [
       "<div>\n",
       "<style scoped>\n",
       "    .dataframe tbody tr th:only-of-type {\n",
       "        vertical-align: middle;\n",
       "    }\n",
       "\n",
       "    .dataframe tbody tr th {\n",
       "        vertical-align: top;\n",
       "    }\n",
       "\n",
       "    .dataframe thead th {\n",
       "        text-align: right;\n",
       "    }\n",
       "</style>\n",
       "<table border=\"1\" class=\"dataframe\">\n",
       "  <thead>\n",
       "    <tr style=\"text-align: right;\">\n",
       "      <th></th>\n",
       "      <th>TV</th>\n",
       "      <th>radio</th>\n",
       "      <th>newspaper</th>\n",
       "      <th>sales</th>\n",
       "    </tr>\n",
       "  </thead>\n",
       "  <tbody>\n",
       "    <tr>\n",
       "      <th>1</th>\n",
       "      <td>230.1</td>\n",
       "      <td>37.8</td>\n",
       "      <td>69.2</td>\n",
       "      <td>22.1</td>\n",
       "    </tr>\n",
       "    <tr>\n",
       "      <th>2</th>\n",
       "      <td>44.5</td>\n",
       "      <td>39.3</td>\n",
       "      <td>45.1</td>\n",
       "      <td>10.4</td>\n",
       "    </tr>\n",
       "    <tr>\n",
       "      <th>3</th>\n",
       "      <td>17.2</td>\n",
       "      <td>45.9</td>\n",
       "      <td>69.3</td>\n",
       "      <td>9.3</td>\n",
       "    </tr>\n",
       "    <tr>\n",
       "      <th>4</th>\n",
       "      <td>151.5</td>\n",
       "      <td>41.3</td>\n",
       "      <td>58.5</td>\n",
       "      <td>18.5</td>\n",
       "    </tr>\n",
       "    <tr>\n",
       "      <th>5</th>\n",
       "      <td>180.8</td>\n",
       "      <td>10.8</td>\n",
       "      <td>58.4</td>\n",
       "      <td>12.9</td>\n",
       "    </tr>\n",
       "  </tbody>\n",
       "</table>\n",
       "</div>"
      ],
      "text/plain": [
       "      TV  radio  newspaper  sales\n",
       "1  230.1   37.8       69.2   22.1\n",
       "2   44.5   39.3       45.1   10.4\n",
       "3   17.2   45.9       69.3    9.3\n",
       "4  151.5   41.3       58.5   18.5\n",
       "5  180.8   10.8       58.4   12.9"
      ]
     },
     "execution_count": 2,
     "metadata": {},
     "output_type": "execute_result"
    }
   ],
   "source": [
    "data = pd.read_csv('http://www-bcf.usc.edu/~gareth/ISL/Advertising.csv', index_col=0)\n",
    "data.head()"
   ]
  },
  {
   "cell_type": "code",
   "execution_count": 3,
   "metadata": {},
   "outputs": [
    {
     "data": {
      "text/plain": [
       "(200, 4)"
      ]
     },
     "execution_count": 3,
     "metadata": {},
     "output_type": "execute_result"
    }
   ],
   "source": [
    "data.shape"
   ]
  },
  {
   "cell_type": "markdown",
   "metadata": {},
   "source": [
    "В датасете показаны результаты продаж разных товаров в зависимости от ресурсов (тысяч долларов), которые вложили в различные средства распространения информации:\n",
    "* TV - реклама по телевизору\n",
    "* radio - на радио\n",
    "* newspapers - в газетах"
   ]
  },
  {
   "cell_type": "markdown",
   "metadata": {},
   "source": [
    "Целевая переменная:\n",
    "* sales - продажи такого-то товара (тысячи штук)"
   ]
  },
  {
   "cell_type": "code",
   "execution_count": 4,
   "metadata": {},
   "outputs": [
    {
     "data": {
      "text/plain": [
       "(200, 4)"
      ]
     },
     "execution_count": 4,
     "metadata": {},
     "output_type": "execute_result"
    }
   ],
   "source": [
    "# Размеры датасета\n",
    "data.shape"
   ]
  },
  {
   "cell_type": "markdown",
   "metadata": {},
   "source": [
    "Признаков немного, поэтому давайте попробуем визуализиовать зависимость целевой переменной от каждого из признаков."
   ]
  },
  {
   "cell_type": "code",
   "execution_count": 5,
   "metadata": {},
   "outputs": [
    {
     "data": {
      "text/plain": [
       "<matplotlib.axes._subplots.AxesSubplot at 0x7f5412759b00>"
      ]
     },
     "execution_count": 5,
     "metadata": {},
     "output_type": "execute_result"
    },
    {
     "data": {
      "image/png": "[encoded data removed]",
      "text/plain": [
       "<Figure size 1152x576 with 3 Axes>"
      ]
     },
     "metadata": {},
     "output_type": "display_data"
    }
   ],
   "source": [
    "fig, axs = plt.subplots(1, 3, sharey=True)\n",
    "data.plot(kind='scatter', x='TV', y='sales', ax=axs[0], figsize=(16, 8))\n",
    "data.plot(kind='scatter', x='radio', y='sales', ax=axs[1])\n",
    "data.plot(kind='scatter', x='newspaper', y='sales', ax=axs[2])"
   ]
  },
  {
   "cell_type": "markdown",
   "metadata": {},
   "source": [
    "### Простая линейная регрессия"
   ]
  },
  {
   "cell_type": "markdown",
   "metadata": {},
   "source": [
    "Из графиков выше предположим, что только размер рекламы на телевизоре влияет на продажи больше всего. Формула для такого случая выглядит следующим образом:\n",
    "$$y=\\beta_0+\\beta_1x$$\n",
    "Здесь:\n",
    "* $y$ - наше предсказание продаж\n",
    "* $x$ - сколько денег вложили в рекламу по телевидению\n",
    "* $\\beta_0$ - сдвиг\n",
    "* $\\beta_1$ - параметр, отвечающий за важность признака x\n",
    "\n",
    "$\\beta_0$ и $\\beta_1$ - это параметры нашей модели. Чтобы создать хорошую модель, надо \"обучить\" эти значения. Т.е. изменить их так, чтобы они хорошо работали для нашей задачи."
   ]
  },
  {
   "cell_type": "markdown",
   "metadata": {},
   "source": [
    "### Обучение коэффициентов модели"
   ]
  },
  {
   "cell_type": "markdown",
   "metadata": {},
   "source": [
    "Параметры $\\beta_0$ и $\\beta_1$ подбираются таким образом, чтобы минимизировать **сумму наименьших квадратов ошибок**:"
   ]
  },
  {
   "cell_type": "markdown",
   "metadata": {},
   "source": [
    "<img src=\"https://github.com/justmarkham/DAT4/raw/068d887e4be2eedb1b958b345ae097153f762d75/notebooks/08_estimating_coefficients.png\">"
   ]
  },
  {
   "cell_type": "markdown",
   "metadata": {},
   "source": [
    "* Чёрные точки на даграмме - это полученные истинные значения x и y.\n",
    "* Синяя линия - это наша модель: линия, которой мы стараемся приблизить данные.\n",
    "* Красные отрезки - это ошибки нашей модели."
   ]
  },
  {
   "cell_type": "markdown",
   "metadata": {},
   "source": [
    "Как коэффициенты $\\beta_0$ и $\\beta_1$ соотносятся с синей линией:\n",
    "* $\\beta_0$ - это сдвиг нашей прямой, т.е. значение y при x = 0.\n",
    "* $\\beta_1$ - это тангенс угла наклона прямой.\n",
    "<img src=\"https://github.com/justmarkham/DAT4/raw/068d887e4be2eedb1b958b345ae097153f762d75/notebooks/08_slope_intercept.png\">"
   ]
  },
  {
   "cell_type": "markdown",
   "metadata": {},
   "source": [
    "Как искать данные коэффициенты? Есть много техник: аналитическое решение, методы основанные на градиентном спуске. Пока же достаточно знать, что многие библиотеки (в том числе и sklearn) умеют это делать. Зачем кожаному мешку напрягаться :)"
   ]
  },
  {
   "cell_type": "code",
   "execution_count": 6,
   "metadata": {},
   "outputs": [
    {
     "name": "stdout",
     "output_type": "stream",
     "text": [
      "Сдвиг=7.032593549127693\n",
      "Массив коэффициентов=[0.04753664]\n"
     ]
    }
   ],
   "source": [
    "from sklearn.linear_model import LinearRegression\n",
    "\n",
    "# Наша модель\n",
    "reg = LinearRegression()\n",
    "\n",
    "# Подготовим данные для неё\n",
    "# На вход требуется 2D матрица, а у нас только один признак,\n",
    "# и надо превратить его из 1D вектора (n,) в 2D матрицу (n, 1).\n",
    "# Это можно сделать с помощью метода reshape\n",
    "x = data[\"TV\"].values.reshape(-1, 1) \n",
    "y = data[\"sales\"].values\n",
    "\n",
    "# Обучаем нашу модель\n",
    "reg.fit(x, y)\n",
    "\n",
    "# Коэффициенты\n",
    "print(\"Сдвиг={}\".format(reg.intercept_))\n",
    "print(\"Массив коэффициентов={}\".format(reg.coef_))"
   ]
  },
  {
   "cell_type": "markdown",
   "metadata": {},
   "source": [
    "### Интерпретируем коэффициенты\n",
    "Что означает коэффициент, связанный с телевидением ($\\beta_1$)?\n",
    "* Дополнительные 1000$, вложенные на в рекламу на телевидении, позволят продажам товара вырасти где-то на 0.047 * 1000 = 47 тысяч единиц."
   ]
  },
  {
   "cell_type": "markdown",
   "metadata": {},
   "source": [
    "### Используем модель для предсказания"
   ]
  },
  {
   "cell_type": "markdown",
   "metadata": {},
   "source": [
    "Окей, допустим мы выходим на новый рынок, в котором на телевидение мы готовы потратить 50000 долларов. Сколько товара это нам даст?\n",
    "$$y=7.032594+0.047537 * 50$$"
   ]
  },
  {
   "cell_type": "code",
   "execution_count": 7,
   "metadata": {},
   "outputs": [
    {
     "data": {
      "text/plain": [
       "9.409444"
      ]
     },
     "execution_count": 7,
     "metadata": {},
     "output_type": "execute_result"
    }
   ],
   "source": [
    "# Посчитаем ручками\n",
    "7.032594 + 0.047537*50"
   ]
  },
  {
   "cell_type": "markdown",
   "metadata": {},
   "source": [
    "Всего мы продадим 9409 единиц товара. А давате теперь спросим sklearn:"
   ]
  },
  {
   "cell_type": "code",
   "execution_count": 8,
   "metadata": {},
   "outputs": [
    {
     "data": {
      "text/html": [
       "<div>\n",
       "<style scoped>\n",
       "    .dataframe tbody tr th:only-of-type {\n",
       "        vertical-align: middle;\n",
       "    }\n",
       "\n",
       "    .dataframe tbody tr th {\n",
       "        vertical-align: top;\n",
       "    }\n",
       "\n",
       "    .dataframe thead th {\n",
       "        text-align: right;\n",
       "    }\n",
       "</style>\n",
       "<table border=\"1\" class=\"dataframe\">\n",
       "  <thead>\n",
       "    <tr style=\"text-align: right;\">\n",
       "      <th></th>\n",
       "      <th>TV</th>\n",
       "    </tr>\n",
       "  </thead>\n",
       "  <tbody>\n",
       "    <tr>\n",
       "      <th>0</th>\n",
       "      <td>50</td>\n",
       "    </tr>\n",
       "  </tbody>\n",
       "</table>\n",
       "</div>"
      ],
      "text/plain": [
       "   TV\n",
       "0  50"
      ]
     },
     "execution_count": 8,
     "metadata": {},
     "output_type": "execute_result"
    }
   ],
   "source": [
    "X_new = pd.DataFrame({'TV': [50]})\n",
    "X_new.head()"
   ]
  },
  {
   "cell_type": "code",
   "execution_count": 9,
   "metadata": {},
   "outputs": [
    {
     "data": {
      "text/plain": [
       "array([9.40942557])"
      ]
     },
     "execution_count": 9,
     "metadata": {},
     "output_type": "execute_result"
    }
   ],
   "source": [
    "reg.predict(X_new)"
   ]
  },
  {
   "cell_type": "markdown",
   "metadata": {},
   "source": [
    "### Нарисуем нашу прямую"
   ]
  },
  {
   "cell_type": "code",
   "execution_count": 10,
   "metadata": {},
   "outputs": [
    {
     "data": {
      "text/plain": [
       "(200,)"
      ]
     },
     "execution_count": 10,
     "metadata": {},
     "output_type": "execute_result"
    }
   ],
   "source": [
    "# Возьмём предсказания для данных, на которых обучались\n",
    "y_pred = reg.predict(x)\n",
    "y_pred.shape"
   ]
  },
  {
   "cell_type": "code",
   "execution_count": 11,
   "metadata": {},
   "outputs": [
    {
     "data": {
      "text/plain": [
       "[<matplotlib.lines.Line2D at 0x7f541240a978>]"
      ]
     },
     "execution_count": 11,
     "metadata": {},
     "output_type": "execute_result"
    },
    {
     "data": {
      "image/png": "[encoded data removed]",
      "text/plain": [
       "<Figure size 432x288 with 1 Axes>"
      ]
     },
     "metadata": {},
     "output_type": "display_data"
    }
   ],
   "source": [
    "# Сначала выведем истинные данные\n",
    "data.plot(kind='scatter', x='TV', y='sales')\n",
    "\n",
    "# Теперь рисуем нашу линию\n",
    "plt.plot(x, y_pred, c='red', linewidth=2)"
   ]
  },
  {
   "cell_type": "markdown",
   "metadata": {},
   "source": [
    "Посчитаем ошибку MSE на обучающей выборке:"
   ]
  },
  {
   "cell_type": "code",
   "execution_count": 12,
   "metadata": {},
   "outputs": [
    {
     "name": "stdout",
     "output_type": "stream",
     "text": [
      "10.512652915656757\n"
     ]
    }
   ],
   "source": [
    "from sklearn.metrics import mean_squared_error\n",
    "\n",
    "print(mean_squared_error(y_pred, y))"
   ]
  },
  {
   "cell_type": "markdown",
   "metadata": {},
   "source": [
    "### Используем все признаки"
   ]
  },
  {
   "cell_type": "markdown",
   "metadata": {},
   "source": [
    "Простую линейную регрессию с одним признаком можно легко расширить на случай нескольких признаков:\n",
    "$$y=\\beta_0+\\beta_1x_1+...+\\beta_nx_n$$"
   ]
  },
  {
   "cell_type": "markdown",
   "metadata": {},
   "source": [
    "А для нашего датасета это будет выглядеть так:\n",
    "$$Sales=\\beta_0+\\beta_1*TV+\\beta_2*radio+\\beta_3*newspaper$$"
   ]
  },
  {
   "cell_type": "markdown",
   "metadata": {},
   "source": [
    "Давайте опять воспользуемся sklearn, чтобы их оценить:"
   ]
  },
  {
   "cell_type": "code",
   "execution_count": 13,
   "metadata": {},
   "outputs": [
    {
     "name": "stdout",
     "output_type": "stream",
     "text": [
      "Сдвиг=2.9388893694594067\n",
      "Коэффициент для TV=0.04576464545539761\n",
      "Коэффициент для radio=0.18853001691820462\n",
      "Коэффициент для newspaper=-0.0010374930424762972\n"
     ]
    }
   ],
   "source": [
    "reg = LinearRegression()\n",
    "\n",
    "X = data.drop(\"sales\", axis=1)\n",
    "y = data[\"sales\"]\n",
    "\n",
    "# Обучаем нашу модель\n",
    "reg.fit(X, y)\n",
    "\n",
    "# Коэффициенты\n",
    "print(\"Сдвиг={}\".format(reg.intercept_))\n",
    "for column, coef in zip(X.columns, reg.coef_):\n",
    "    print(\"Коэффициент для {}={}\".format(column, coef))"
   ]
  },
  {
   "cell_type": "markdown",
   "metadata": {},
   "source": [
    "Вес признака отвечает также, как и в предыдущем случае за значимость этого признака. Для газет он вообще отрицательный. Вычислим ошибку на обучающей выборке."
   ]
  },
  {
   "cell_type": "code",
   "execution_count": 14,
   "metadata": {},
   "outputs": [
    {
     "name": "stdout",
     "output_type": "stream",
     "text": [
      "2.784126314510936\n"
     ]
    }
   ],
   "source": [
    "y_pred = reg.predict(X)\n",
    "\n",
    "# Ошибка теперь равна:\n",
    "print(mean_squared_error(y_pred, y))"
   ]
  },
  {
   "cell_type": "markdown",
   "metadata": {},
   "source": [
    "Ошибка уже меньше, чем при одном признаке, однако измерять ошибку на обучающей выборке неправильно. Помимо истинной зависимости между признаками и целевой переменной, туда могут затесаться случайности, лишние данные и прочие факторы. Если не ограничивать каким-то образом модель (об этом мы узнаем позднее), то модель легко подстраивается под эти шумы. Она начинает показывать очень хорошее качество на обучающей выборке, но когда мы попробуем посмотреть качество на других выборках, то там модель будет показывать себя плохо. Наглядный пример:\n",
    "<img src=\"https://i.stack.imgur.com/t0zit.png\">"
   ]
  },
  {
   "cell_type": "markdown",
   "metadata": {},
   "source": [
    "Посередине находится правильная модель, которая угадала истинную зависимость. Справа видно переобученную модель, которая на обучающей выборке (красные крестики) показывает очень хорошее качество, но из рисунка видно, что истинную зависимость она точно не нашла."
   ]
  },
  {
   "cell_type": "markdown",
   "metadata": {},
   "source": [
    "Говорят, что такая модель имеет высокую *Variance* (дисперсия). *Variance* - это чувствительность модели к разным выбросам, аномалиям в данных. Если такую модель обучить на немного отличающихся данных, то результаты будут сильно разными."
   ]
  },
  {
   "cell_type": "markdown",
   "metadata": {},
   "source": [
    "Слева изображена противоположная ситуация - недообученная модель. Это происходит из-за того, что прямой линией как ни крути не найти истинную зависимость. Т.е. модель слишком простая для такой задачи. Говорят, что у такой модели высокий *bias*, т.е. средняя величина ошибки. Следующая картинка показывает наглядно, что это такое:\n",
    "<img src=\"https://elitedatascience.com/wp-content/uploads/2017/06/Bias-vs.-Variance-v5-2-darts.png\">"
   ]
  },
  {
   "cell_type": "markdown",
   "metadata": {},
   "source": [
    "Поэтому в таком случае, для начала разбивают имеющиеся данные на обучающую и тестовую выборки."
   ]
  },
  {
   "cell_type": "code",
   "execution_count": 15,
   "metadata": {},
   "outputs": [
    {
     "data": {
      "text/plain": [
       "((100, 3), (100, 3), (100,), (100,))"
      ]
     },
     "execution_count": 15,
     "metadata": {},
     "output_type": "execute_result"
    }
   ],
   "source": [
    "# Возьмём 100 для обучения и 100 для теста\n",
    "threshold = 100\n",
    "X_train = data.drop('sales', axis=1)[:threshold]\n",
    "y_train = data[\"sales\"][:threshold]\n",
    "\n",
    "X_test = data.drop('sales', axis=1)[threshold:]\n",
    "y_test = data[\"sales\"][threshold:]\n",
    "\n",
    "X_train.shape, X_test.shape, y_train.shape, y_test.shape"
   ]
  },
  {
   "cell_type": "markdown",
   "metadata": {},
   "source": [
    "Обучаемся на обучающей выборке и проверяем качество на тестовой."
   ]
  },
  {
   "cell_type": "code",
   "execution_count": 16,
   "metadata": {},
   "outputs": [
    {
     "name": "stdout",
     "output_type": "stream",
     "text": [
      "Ошибка на обучающей выборке=2.32\n",
      "Ошибка на тестовой выборке=3.38\n"
     ]
    }
   ],
   "source": [
    "reg = LinearRegression()\n",
    "reg.fit(X_train, y_train)\n",
    "\n",
    "# Ошибка на тестовой выборке\n",
    "y_pred = reg.predict(X_test)\n",
    "# Вычислим ошибку и на обучающей выборке для проверки\n",
    "y_pred_train = reg.predict(X_train)\n",
    "\n",
    "print(\"Ошибка на обучающей выборке={0:.2f}\".format(mean_squared_error(y_pred_train, y_train)))\n",
    "print(\"Ошибка на тестовой выборке={0:.2f}\".format(mean_squared_error(y_pred, y_test)))"
   ]
  },
  {
   "cell_type": "markdown",
   "metadata": {},
   "source": [
    "Как видно, ошибка на тестовой выборке больше, чем на обучающей. Но вам может повезти и всё будет наоборот (на самом деле, я менял threshold до тех пор, пока ошибка на тестовой выборке не будет больше, чем на обучающей. Только тсс..). Чтобы не было таких случайностей, была придумана кросс-валидация."
   ]
  },
  {
   "cell_type": "markdown",
   "metadata": {},
   "source": [
    "### Кросс-валидация"
   ]
  },
  {
   "cell_type": "markdown",
   "metadata": {},
   "source": [
    "Как она работает? Мы делим все имеющиеся данные на $k$ частей. Затем по очереди каждую часть назначем тестовой. На остальных обучаемся, а ошибку измеряем на выбранной части. А затем из всех ошибок находим среднюю. Так у нас не будет той случайности, когда мы удачно поделим выборку."
   ]
  },
  {
   "cell_type": "code",
   "execution_count": 17,
   "metadata": {
    "scrolled": true
   },
   "outputs": [
    {
     "name": "stdout",
     "output_type": "stream",
     "text": [
      "3.07294659710021\n"
     ]
    }
   ],
   "source": [
    "# Многие выбирают k=5 для начала\n",
    "k = 5\n",
    "errors = []\n",
    "\n",
    "X = data.drop(\"sales\", axis=1)\n",
    "y = data[\"sales\"]\n",
    "\n",
    "# Размер одной части\n",
    "fold_size = len(X) // k\n",
    "\n",
    "# Мб этот код на семинаре написать?\n",
    "for i in range(k):\n",
    "    # Берём все значения, кроме выбранной части\n",
    "    X_train = X[:i * fold_size].append(X[(i + 1) * fold_size:])\n",
    "    y_train = y[:i * fold_size].append(y[(i + 1) * fold_size:])\n",
    "    \n",
    "    # Берём выбранную часть\n",
    "    X_test = X[i * fold_size:(i + 1) * fold_size]\n",
    "    y_test = y[i * fold_size:(i + 1) * fold_size]\n",
    "    \n",
    "    # На каждой итерации обучаемся отдельно и сохраняем ошибку\n",
    "    reg = LinearRegression()\n",
    "    reg.fit(X_train, y_train)\n",
    "    y_pred = reg.predict(X_test)\n",
    "    errors.append(mean_squared_error(y_pred, y_test))\n",
    "    \n",
    "# Выводим ошибку на кросс-валидации\n",
    "print(np.average(errors))"
   ]
  },
  {
   "cell_type": "code",
   "execution_count": 18,
   "metadata": {},
   "outputs": [
    {
     "name": "stdout",
     "output_type": "stream",
     "text": [
      "3.07294659710021\n"
     ]
    }
   ],
   "source": [
    "# А можно не париться и попросить sklearn всё сделать за нас\n",
    "from sklearn.model_selection import cross_val_score\n",
    "\n",
    "# Берём с отрицательным знаком, т.к. обычно туда передаётся не функция потерь, которую надо минимизировать\n",
    "# А что-то вроде \"функции успеха\", которую надо максимизировать\n",
    "errors = -cross_val_score(LinearRegression(), X, y, cv=5, scoring='neg_mean_squared_error')\n",
    "print(np.average(errors))"
   ]
  },
  {
   "cell_type": "markdown",
   "metadata": {},
   "source": [
    "Видно, что ошибка больше, чем тогда на обучающей выборке, поэтому есть показания думать, что это переобучение. Отчего оно обычно происходит? Мы берём слишком много лишних признаков или делаем модель слишком сложной для данной задачи. Для решения этой задачи существует регуляризация."
   ]
  },
  {
   "cell_type": "markdown",
   "metadata": {},
   "source": [
    "### Регуляризация"
   ]
  },
  {
   "cell_type": "markdown",
   "metadata": {},
   "source": [
    "Регуляризация - это искусстенное занижение всех параметров моделей ($\\beta_0,\\beta_1,...$). Это помогает упростить модель, т.к. низкие значения $\\beta_i$ означают, что модель будет выдавать результаты близкие к прямой (или гиперплоскости, если параметров много). А также зануление некоторых коэффициентов может убрать ненужные признаки из обучения. Однако как всё это сделать так, чтобы не убрать нужные признаки?"
   ]
  },
  {
   "cell_type": "markdown",
   "metadata": {},
   "source": [
    "Посмотрим на функцию потерь, которую мы минимизируем:\n",
    "$$L(\\beta)=\\sum_{i=1}^{N}(y^{true}_i-y^{pred}_i)^2$$\n",
    "\n",
    "Добавим туда слагаемое, которое поможет нам понизить значения наших $\\beta_i$:\n",
    "$$L(\\beta)=\\sum_{i=1}^{N}(y^{true}_i-y^{pred}_i)^2 + \\lambda \\sum_{i=1}^m\\beta_i^2$$"
   ]
  },
  {
   "cell_type": "markdown",
   "metadata": {},
   "source": [
    "Действительно, если мы будем понижать нашу функцию потерь $L(\\beta)$, то мы будем минимизировать и второе слагаемое, которое и отвечает за абсолютные величины $\\beta_i$. Осталось указать, что $\\lambda$ это некоторый числовой коэффициент, который позволяет играться между очень сильной и очень слабой регуляризацией. Если он большой, то регуляризация сильная и модель будет более простой, меньше переобучаться, больше недообучаться, и наоброт. "
   ]
  },
  {
   "cell_type": "markdown",
   "metadata": {},
   "source": [
    "Забыл добавить, что это была L2-регуляризация.\n",
    "L1-регуляризация выглядит так:\n",
    "$$L(\\beta)=\\sum_{i=1}^{N}(y^{true}_i-y^{pred}_i)^2 + \\lambda \\sum_{i=1}^m|\\beta_i|$$\n",
    "Она отличается от L2 тем, что она обнуляет некоторые коэффициенты, а L2 пытается всё уменьшать равномерно."
   ]
  },
  {
   "cell_type": "markdown",
   "metadata": {},
   "source": [
    "В sklearn L1-регуляризация - это Lasso, а L2-регуляризация - это Ridge. Давайте посмотрим, какое качество они нам дадут на кросс-валидации."
   ]
  },
  {
   "cell_type": "code",
   "execution_count": 19,
   "metadata": {},
   "outputs": [
    {
     "name": "stdout",
     "output_type": "stream",
     "text": [
      "Сдвиг=3.0402155834803786\n",
      "Коэффициент для TV=0.045661415380019464\n",
      "Коэффициент для radio=0.18346439758868255\n",
      "Коэффициент для newspaper=0.0\n",
      "\n",
      "Результат=3.0414058967513684\n"
     ]
    }
   ],
   "source": [
    "# L1\n",
    "from sklearn.linear_model import Lasso\n",
    "\n",
    "reg = Lasso().fit(X, y)\n",
    "\n",
    "# Посмотрим на коэффициенты модели\n",
    "# Коэффициенты\n",
    "print(\"Сдвиг={}\".format(reg.intercept_))\n",
    "for column, coef in zip(X.columns, reg.coef_):\n",
    "    print(\"Коэффициент для {}={}\".format(column, coef))\n",
    "print()\n",
    "\n",
    "errors = -cross_val_score(Lasso(), X, y, cv=5, scoring='neg_mean_squared_error')\n",
    "print(\"Результат={}\".format(np.average(errors)))"
   ]
  },
  {
   "cell_type": "markdown",
   "metadata": {},
   "source": [
    "Видно, что признак с рекламой в газетах модель захотела полностью убрать из выборки."
   ]
  },
  {
   "cell_type": "code",
   "execution_count": 20,
   "metadata": {},
   "outputs": [
    {
     "name": "stdout",
     "output_type": "stream",
     "text": [
      "Сдвиг=2.9389674583301524\n",
      "Коэффициент для TV=0.04576464365801847\n",
      "Коэффициент для radio=0.1885250968107854\n",
      "Коэффициент для newspaper=-0.0010362939589069462\n",
      "\n",
      "Результат=3.0729326732984985\n"
     ]
    }
   ],
   "source": [
    "# L2\n",
    "from sklearn.linear_model import Ridge\n",
    "\n",
    "reg = Ridge().fit(X, y)\n",
    "\n",
    "# Посмотрим на коэффициенты модели\n",
    "# Коэффициенты\n",
    "print(\"Сдвиг={}\".format(reg.intercept_))\n",
    "for column, coef in zip(X.columns, reg.coef_):\n",
    "    print(\"Коэффициент для {}={}\".format(column, coef))\n",
    "print()\n",
    "\n",
    "errors = -cross_val_score(Ridge(), X, y, cv=5, scoring='neg_mean_squared_error')\n",
    "print(\"Результат={}\".format(np.average(errors)))"
   ]
  },
  {
   "cell_type": "markdown",
   "metadata": {},
   "source": [
    "Тут модель полностью не зануляла все признаки, а уменьшила их веса некоторых из них, а некоторых увеличила. Но изменения были столь незначительные, что качество не изменилось."
   ]
  },
  {
   "cell_type": "markdown",
   "metadata": {},
   "source": [
    "Как видно, качество не сильно улучшилось. Это всё потому что, мы не подбирали параметр параметр lambda (в моделях он называется alpha), а оставили его равным 1.0. Вот тут нам и приходит на помощь кросс-валидация."
   ]
  },
  {
   "cell_type": "markdown",
   "metadata": {},
   "source": [
    "Попробуем сначала Lasso. Давайте сначала поступим по тупому, и будем выбирать параметр lambda на обучающей выборке."
   ]
  },
  {
   "cell_type": "code",
   "execution_count": 21,
   "metadata": {},
   "outputs": [
    {
     "name": "stdout",
     "output_type": "stream",
     "text": [
      "Все лямбды:\n",
      "[0.1 0.3 0.5 0.7 0.9 1.1 1.3 1.5 1.7 1.9 2.1 2.3 2.5 2.7 2.9]\n",
      "\n",
      "Оптимальная lambda:\n",
      "Lambda=0.10, результат=3.05\n"
     ]
    }
   ],
   "source": [
    "lambdas = np.arange(0.1, 3.0, 0.2)\n",
    "# Выведем доступные lambda\n",
    "print(\"Все лямбды:\")\n",
    "print(lambdas)\n",
    "\n",
    "# Лямбды и их ошибки на обучающей выборке\n",
    "lambda_errors = []\n",
    "\n",
    "# Проходим по всем лямбдам и записываем ошибки на обучающей выборке\n",
    "for val in lambdas:\n",
    "    reg = Lasso(alpha=val).fit(X, y)\n",
    "    y_pred = reg.predict(X)\n",
    "    # Сохраняем ошибку на обучающей выборке\n",
    "    lambda_errors.append((val, mean_squared_error(y_pred, y)))\n",
    "    \n",
    "\n",
    "min_val, min_train_error = min(lambda_errors, key=lambda x: x[1])\n",
    "\n",
    "# Вычислим ошибку на кросс-валидации\n",
    "# Лучшая модель\n",
    "best_reg = Lasso(alpha=val)\n",
    "cv_error = -np.average(cross_val_score(best_reg, X, y, cv=5, scoring='neg_mean_squared_error'))\n",
    "\n",
    "print(\"\\nОптимальная lambda:\")\n",
    "print(\"Lambda={:.2f}, результат={:.2f}\".format(min_val, cv_error))"
   ]
  },
  {
   "cell_type": "markdown",
   "metadata": {},
   "source": [
    "А теперь сделайте так, чтобы сохранялась ошибка не на обучающей выборке, а на кросс-валдиации (cross_val_score) и минимум выбирался из неё. "
   ]
  },
  {
   "cell_type": "code",
   "execution_count": 22,
   "metadata": {},
   "outputs": [
    {
     "name": "stdout",
     "output_type": "stream",
     "text": [
      "\n",
      "Оптимальная lambda:\n",
      "Lambda=1.90, результат=3.03\n"
     ]
    }
   ],
   "source": [
    "lambda_errors = []\n",
    "\n",
    "for val in lambdas:\n",
    "    lambda_errors.append((val, -np.average(cross_val_score(Lasso(alpha=val), X, y, cv=5, scoring='neg_mean_squared_error'))))\n",
    "\n",
    "min_val, min_train_error = min(lambda_errors, key=lambda x : x[1])\n",
    "\n",
    "best_model = Lasso(alpha=min_val)\n",
    "cv_error = -np.average(cross_val_score(best_model, X, y, cv=5, scoring='neg_mean_squared_error'))\n",
    "print(\"\\nОптимальная lambda:\")\n",
    "print(\"Lambda={:.2f}, результат={:.2f}\".format(min_val, cv_error))"
   ]
  },
  {
   "cell_type": "markdown",
   "metadata": {},
   "source": [
    "Сделайте то же самое для L2-регуляризации:"
   ]
  },
  {
   "cell_type": "code",
   "execution_count": 23,
   "metadata": {},
   "outputs": [
    {
     "name": "stdout",
     "output_type": "stream",
     "text": [
      "\n",
      "Оптимальная lambda:\n",
      "Lambda=2.90, результат=3.07\n"
     ]
    }
   ],
   "source": [
    "lambda_errors = []\n",
    "\n",
    "for val in lambdas:\n",
    "    lambda_errors.append((val, -np.average(cross_val_score(Ridge(alpha=val), X, y, cv=5, scoring='neg_mean_squared_error'))))\n",
    "\n",
    "min_val, min_train_error = min(lambda_errors, key=lambda x : x[1])\n",
    "\n",
    "best_model = Ridge(alpha=min_val)\n",
    "cv_error = -np.average(cross_val_score(best_model, X, y, cv=5, scoring='neg_mean_squared_error'))\n",
    "print(\"\\nОптимальная lambda:\")\n",
    "print(\"Lambda={:.2f}, результат={:.2f}\".format(min_val, cv_error))"
   ]
  },
  {
   "cell_type": "markdown",
   "metadata": {},
   "source": [
    "Если всё было правильно, то данные манипуляции помогут немного улучшить качество вашей модели. Это поднимет вас на несколько мест в соревнованиях, или вашему работодателю даст побольше прибыли."
   ]
  },
  {
   "cell_type": "markdown",
   "metadata": {},
   "source": [
    "### Домашнее задание"
   ]
  },
  {
   "cell_type": "markdown",
   "metadata": {},
   "source": [
    "Ваша задача - провести то же исследование, что и в датасете в самом начале (Sales ~ TV, Radio, Newspaper). В итоге, нужно получить модель линейной регрессии, качество которой надо вывести с помощью cross_val_score с метрикой MSE (тоже самое в общем)."
   ]
  },
  {
   "cell_type": "markdown",
   "metadata": {},
   "source": [
    "За каждое достойное улучшение качества на cross_val_score будут доп. баллы. Не забудьте описать, что использовали, что получилось и нет, а также попробуйте понять почему. Побольше гуглите. d"
   ]
  },
  {
   "cell_type": "markdown",
   "metadata": {},
   "source": [
    "Возможные улучшения:\n",
    "* Нормализация данных: вычитаем из каждой колонки её среднее и делим на её дисперсию.\n",
    "* Пробуйте убрать ненужные признаки.\n",
    "* Можно перемножать некоторые признаки.\n",
    "* Погуглите что-то вроде \"improve linear regression\"."
   ]
  },
  {
   "cell_type": "markdown",
   "metadata": {},
   "source": [
    "В общем, представьте, что вы работаете датасаентистом, получаете 300к долларов, а вам сказали, что нужно как можно лучше уметь предсказывать такие данные."
   ]
  },
  {
   "cell_type": "code",
   "execution_count": 46,
   "metadata": {},
   "outputs": [],
   "source": [
    "import numpy as np\n",
    "import pandas as pd\n",
    "import matplotlib.pyplot as plt\n",
    "\n",
    "%matplotlib inline"
   ]
  },
  {
   "cell_type": "markdown",
   "metadata": {},
   "source": [
    "Для домашнего задания вы используете другой датасет."
   ]
  },
  {
   "cell_type": "code",
   "execution_count": 47,
   "metadata": {},
   "outputs": [
    {
     "data": {
      "text/html": [
       "<div>\n",
       "<style scoped>\n",
       "    .dataframe tbody tr th:only-of-type {\n",
       "        vertical-align: middle;\n",
       "    }\n",
       "\n",
       "    .dataframe tbody tr th {\n",
       "        vertical-align: top;\n",
       "    }\n",
       "\n",
       "    .dataframe thead th {\n",
       "        text-align: right;\n",
       "    }\n",
       "</style>\n",
       "<table border=\"1\" class=\"dataframe\">\n",
       "  <thead>\n",
       "    <tr style=\"text-align: right;\">\n",
       "      <th></th>\n",
       "      <th>AGE</th>\n",
       "      <th>SEX</th>\n",
       "      <th>BMI</th>\n",
       "      <th>BP</th>\n",
       "      <th>S1</th>\n",
       "      <th>S2</th>\n",
       "      <th>S3</th>\n",
       "      <th>S4</th>\n",
       "      <th>S5</th>\n",
       "      <th>S6</th>\n",
       "      <th>Y</th>\n",
       "    </tr>\n",
       "  </thead>\n",
       "  <tbody>\n",
       "    <tr>\n",
       "      <th>0</th>\n",
       "      <td>59</td>\n",
       "      <td>2</td>\n",
       "      <td>32.1</td>\n",
       "      <td>101.0</td>\n",
       "      <td>157</td>\n",
       "      <td>93.2</td>\n",
       "      <td>38.0</td>\n",
       "      <td>4.0</td>\n",
       "      <td>4.8598</td>\n",
       "      <td>87</td>\n",
       "      <td>151</td>\n",
       "    </tr>\n",
       "    <tr>\n",
       "      <th>1</th>\n",
       "      <td>48</td>\n",
       "      <td>1</td>\n",
       "      <td>21.6</td>\n",
       "      <td>87.0</td>\n",
       "      <td>183</td>\n",
       "      <td>103.2</td>\n",
       "      <td>70.0</td>\n",
       "      <td>3.0</td>\n",
       "      <td>3.8918</td>\n",
       "      <td>69</td>\n",
       "      <td>75</td>\n",
       "    </tr>\n",
       "    <tr>\n",
       "      <th>2</th>\n",
       "      <td>72</td>\n",
       "      <td>2</td>\n",
       "      <td>30.5</td>\n",
       "      <td>93.0</td>\n",
       "      <td>156</td>\n",
       "      <td>93.6</td>\n",
       "      <td>41.0</td>\n",
       "      <td>4.0</td>\n",
       "      <td>4.6728</td>\n",
       "      <td>85</td>\n",
       "      <td>141</td>\n",
       "    </tr>\n",
       "    <tr>\n",
       "      <th>3</th>\n",
       "      <td>24</td>\n",
       "      <td>1</td>\n",
       "      <td>25.3</td>\n",
       "      <td>84.0</td>\n",
       "      <td>198</td>\n",
       "      <td>131.4</td>\n",
       "      <td>40.0</td>\n",
       "      <td>5.0</td>\n",
       "      <td>4.8903</td>\n",
       "      <td>89</td>\n",
       "      <td>206</td>\n",
       "    </tr>\n",
       "    <tr>\n",
       "      <th>4</th>\n",
       "      <td>50</td>\n",
       "      <td>1</td>\n",
       "      <td>23.0</td>\n",
       "      <td>101.0</td>\n",
       "      <td>192</td>\n",
       "      <td>125.4</td>\n",
       "      <td>52.0</td>\n",
       "      <td>4.0</td>\n",
       "      <td>4.2905</td>\n",
       "      <td>80</td>\n",
       "      <td>135</td>\n",
       "    </tr>\n",
       "  </tbody>\n",
       "</table>\n",
       "</div>"
      ],
      "text/plain": [
       "   AGE  SEX   BMI     BP   S1     S2    S3   S4      S5  S6    Y\n",
       "0   59    2  32.1  101.0  157   93.2  38.0  4.0  4.8598  87  151\n",
       "1   48    1  21.6   87.0  183  103.2  70.0  3.0  3.8918  69   75\n",
       "2   72    2  30.5   93.0  156   93.6  41.0  4.0  4.6728  85  141\n",
       "3   24    1  25.3   84.0  198  131.4  40.0  5.0  4.8903  89  206\n",
       "4   50    1  23.0  101.0  192  125.4  52.0  4.0  4.2905  80  135"
      ]
     },
     "execution_count": 47,
     "metadata": {},
     "output_type": "execute_result"
    }
   ],
   "source": [
    "data = pd.read_csv('https://web.stanford.edu/~hastie/Papers/LARS/diabetes.data', sep='\\t')\n",
    "data.head()"
   ]
  },
  {
   "cell_type": "markdown",
   "metadata": {},
   "source": [
    "В датасете приводится информация о пациентах и их состоянии при заболевании диабетом. Описание признаков можно прочитать [здесь](https://www4.stat.ncsu.edu/~boos/var.select/diabetes.html). Колонка Y - целевая переменная:"
   ]
  },
  {
   "cell_type": "code",
   "execution_count": 48,
   "metadata": {},
   "outputs": [],
   "source": [
    "target = 'Y'\n",
    "X = data.drop([target], axis=1)\n",
    "y = data[target]"
   ]
  },
  {
   "cell_type": "code",
   "execution_count": 49,
   "metadata": {},
   "outputs": [
    {
     "data": {
      "image/png": "[encoded data removed]",
      "text/plain": [
       "<Figure size 1152x1152 with 10 Axes>"
      ]
     },
     "metadata": {},
     "output_type": "display_data"
    }
   ],
   "source": [
    "fig, axes = plt.subplots(5, 2, sharex=True, sharey=True, figsize=(16, 16))\n",
    "cnt = 0\n",
    "for s in X.columns:\n",
    "    axes[cnt // 2][cnt % 2].scatter(list(X[s]), list(y))\n",
    "    cnt += 1\n",
    "plt.show()"
   ]
  },
  {
   "cell_type": "code",
   "execution_count": 50,
   "metadata": {},
   "outputs": [],
   "source": [
    "old_X = X\n",
    "import math"
   ]
  },
  {
   "cell_type": "code",
   "execution_count": 51,
   "metadata": {},
   "outputs": [],
   "source": [
    "def calc(_print=True, find_lambda=-1):\n",
    "    global X\n",
    "    global y\n",
    "    if find_lambda == -1:\n",
    "        lambdas = np.arange(0.1, 1000.0, 1)\n",
    "    else:\n",
    "        lambdas = np.arange(max(0.1, find_lambda - 1), find_lambda + 1, 0.1)\n",
    "    lambdas_error = []\n",
    "    for val in lambdas:\n",
    "        lambdas_error.append((val, -np.average(cross_val_score(Lasso(alpha=val), X, y, cv=cv_default, scoring='neg_mean_squared_error'))))\n",
    "\n",
    "    min_lambda, min_val = min(lambdas_error, key=lambda x: x[1])\n",
    "\n",
    "    best_model = Lasso(alpha=min_lambda).fit(X, y)\n",
    "    if _print:\n",
    "        for val in best_model.coef_:\n",
    "            print(\"{:.2f}\".format(val))\n",
    "        print(min_lambda, min_val)\n",
    "    else:\n",
    "        return min_val"
   ]
  },
  {
   "cell_type": "code",
   "execution_count": 52,
   "metadata": {},
   "outputs": [],
   "source": [
    "def calc_l2(_print=True, find_lambda=-1, get_l=False):\n",
    "    global X\n",
    "    global y\n",
    "    if find_lambda == -1:\n",
    "        lambdas = np.arange(1, 200, 5)\n",
    "    else:\n",
    "        lambdas = np.arange(max(0.1, find_lambda - 1), find_lambda + 1, 0.1)\n",
    "    lambdas_error = []\n",
    "    for val in lambdas:\n",
    "        lambdas_error.append((val, -np.average(cross_val_score(Ridge(alpha=val), X, y, cv=cv_default, scoring='neg_mean_squared_error'))))\n",
    "\n",
    "    min_lambda, min_val = min(lambdas_error, key=lambda x: x[1])\n",
    "\n",
    "    best_model = Ridge(alpha=min_lambda).fit(X, y)\n",
    "    if get_l:\n",
    "        return min_lambda\n",
    "    if _print:\n",
    "        for val in best_model.coef_:\n",
    "            print(\"{:.2f}\".format(val))\n",
    "        print(min_lambda, min_val)\n",
    "    else:\n",
    "        return min_val"
   ]
  },
  {
   "cell_type": "code",
   "execution_count": 53,
   "metadata": {},
   "outputs": [],
   "source": [
    "def calc_linear(_print=True):\n",
    "    global X\n",
    "    global y\n",
    "    best_model = LinearRegression()\n",
    "    min_val = -np.average(cross_val_score(best_model, X, y, cv=cv_default, scoring='neg_mean_squared_error'))\n",
    "    best_model = best_model.fit(X, y)\n",
    "    if _print:\n",
    "        for val in best_model.coef_:\n",
    "            print(\"{:.2f}\".format(val))\n",
    "        print(min_val)\n",
    "    else:\n",
    "        return min_val"
   ]
  },
  {
   "cell_type": "code",
   "execution_count": 54,
   "metadata": {},
   "outputs": [
    {
     "name": "stdout",
     "output_type": "stream",
     "text": [
      "6.93\n",
      "1.20\n",
      "-1.10\n",
      "0.63\n",
      "0.1 3390.007771419565\n"
     ]
    }
   ],
   "source": [
    "list_of_params = [2, 3, 6, 9]\n",
    "list_of_columns = [old_X.columns[x] for x in list_of_params]\n",
    "X = old_X[list_of_columns]\n",
    "calc(find_lambda=1)"
   ]
  },
  {
   "cell_type": "markdown",
   "metadata": {},
   "source": [
    "Сначала я построил графики для всех параметров. Посмотрел на хорошие признаки, выбрал те, которые понравились больше. Запустил на них, получил mse 3390."
   ]
  },
  {
   "cell_type": "code",
   "execution_count": 55,
   "metadata": {},
   "outputs": [
    {
     "name": "stdout",
     "output_type": "stream",
     "text": [
      "-0.03\n",
      "-22.32\n",
      "5.63\n",
      "1.11\n",
      "-0.93\n",
      "0.61\n",
      "0.18\n",
      "5.75\n",
      "64.33\n",
      "0.29\n",
      "0.1 2993.8025348658407\n"
     ]
    }
   ],
   "source": [
    "list_of_params = np.arange(10)\n",
    "list_of_columns = [old_X.columns[x] for x in list_of_params]\n",
    "X = old_X[list_of_columns]\n",
    "calc(find_lambda=1)"
   ]
  },
  {
   "cell_type": "markdown",
   "metadata": {},
   "source": [
    "Дальше я решил запустить на всех признаках и посмотреть, что получится - mse = 2993, есть параметр, который регрессия почти занулила - первый.  "
   ]
  },
  {
   "cell_type": "code",
   "execution_count": 56,
   "metadata": {},
   "outputs": [
    {
     "name": "stdout",
     "output_type": "stream",
     "text": [
      "-22.41\n",
      "5.63\n",
      "1.11\n",
      "-0.93\n",
      "0.61\n",
      "0.17\n",
      "5.77\n",
      "64.17\n",
      "0.28\n",
      "0.1 2972.890573987801\n"
     ]
    }
   ],
   "source": [
    "list_of_params = np.arange(1, 10)\n",
    "list_of_columns = [old_X.columns[x] for x in list_of_params]\n",
    "X = old_X[list_of_columns]\n",
    "calc(find_lambda=1)"
   ]
  },
  {
   "cell_type": "markdown",
   "metadata": {},
   "source": [
    "Теперь уберем первый признак и запустим алгоритм еще раз. mse < 3000, ура\n",
    "(2972.89, если быть точным)"
   ]
  },
  {
   "cell_type": "markdown",
   "metadata": {},
   "source": [
    "Заметим, что минимальная лямбда совпадает с первой. Непорядок. Кажется, что это намекает на то, что стоит подрубить регрессию без регуляризации."
   ]
  },
  {
   "cell_type": "code",
   "execution_count": 57,
   "metadata": {},
   "outputs": [
    {
     "name": "stdout",
     "output_type": "stream",
     "text": [
      "-22.96\n",
      "5.60\n",
      "1.11\n",
      "-1.09\n",
      "0.74\n",
      "0.37\n",
      "6.55\n",
      "68.32\n",
      "0.27\n",
      "2972.298001509071\n"
     ]
    }
   ],
   "source": [
    "list_of_params = np.arange(1, 10)\n",
    "list_of_columns = [old_X.columns[x] for x in list_of_params]\n",
    "X = old_X[list_of_columns]\n",
    "calc_linear()"
   ]
  },
  {
   "cell_type": "markdown",
   "metadata": {},
   "source": [
    "Регрессия без регуляризации делает лучше на 0.6, юху!"
   ]
  },
  {
   "cell_type": "code",
   "execution_count": 58,
   "metadata": {},
   "outputs": [
    {
     "name": "stdout",
     "output_type": "stream",
     "text": [
      "-22.90\n",
      "5.61\n",
      "1.11\n",
      "-1.05\n",
      "0.71\n",
      "0.33\n",
      "6.49\n",
      "67.20\n",
      "0.28\n",
      "0.2 2972.258821680634\n"
     ]
    }
   ],
   "source": [
    "calc_l2(find_lambda=1)"
   ]
  },
  {
   "cell_type": "markdown",
   "metadata": {},
   "source": [
    "Я забыл про L2, а она тут очень неплохо работает"
   ]
  },
  {
   "cell_type": "code",
   "execution_count": 63,
   "metadata": {},
   "outputs": [],
   "source": [
    "from sklearn import preprocessing \n",
    "def precalc():\n",
    "    global X\n",
    "    X = preprocessing.MinMaxScaler().fit_transform(X)"
   ]
  },
  {
   "cell_type": "code",
   "execution_count": 64,
   "metadata": {},
   "outputs": [],
   "source": [
    "X = old_X\n",
    "X = X.values"
   ]
  },
  {
   "cell_type": "code",
   "execution_count": 65,
   "metadata": {},
   "outputs": [],
   "source": [
    "precalc()"
   ]
  },
  {
   "cell_type": "code",
   "execution_count": 66,
   "metadata": {},
   "outputs": [
    {
     "data": {
      "image/png": "[encoded data removed]",
      "text/plain": [
       "<Figure size 1152x1152 with 10 Axes>"
      ]
     },
     "metadata": {},
     "output_type": "display_data"
    }
   ],
   "source": [
    "fig, axes = plt.subplots(5, 2, sharex=True, sharey=True, figsize=(16, 16))\n",
    "cnt = 0\n",
    "for s in range(len(X[0])):\n",
    "    axes[cnt // 2][cnt % 2].scatter(list(X[:,s]), list(y))\n",
    "    cnt += 1\n",
    "plt.show()"
   ]
  },
  {
   "cell_type": "code",
   "execution_count": 67,
   "metadata": {},
   "outputs": [],
   "source": [
    "old_X = X"
   ]
  },
  {
   "cell_type": "code",
   "execution_count": 68,
   "metadata": {},
   "outputs": [
    {
     "name": "stdout",
     "output_type": "stream",
     "text": [
      "-21.28\n",
      "136.60\n",
      "75.85\n",
      "-44.23\n",
      "-0.00\n",
      "-51.72\n",
      "17.18\n",
      "135.65\n",
      "16.45\n",
      "0.1 2980.4619652046977\n"
     ]
    }
   ],
   "source": [
    "list_of_params = np.arange(1, 10)\n",
    "X = old_X[:,list_of_params]\n",
    "calc(find_lambda=1)"
   ]
  },
  {
   "cell_type": "code",
   "execution_count": 69,
   "metadata": {},
   "outputs": [
    {
     "name": "stdout",
     "output_type": "stream",
     "text": [
      "-22.71\n",
      "135.93\n",
      "78.35\n",
      "-119.56\n",
      "57.88\n",
      "-16.83\n",
      "35.82\n",
      "158.33\n",
      "18.91\n",
      "0.1 2975.6549605379046\n"
     ]
    }
   ],
   "source": [
    "calc_l2(find_lambda=1)"
   ]
  },
  {
   "cell_type": "markdown",
   "metadata": {},
   "source": [
    "Нормализуем данные с помощью sklearn.preprocessing.StandartScaler. Запускаем все то же самое - 2975."
   ]
  },
  {
   "cell_type": "code",
   "execution_count": 70,
   "metadata": {},
   "outputs": [
    {
     "name": "stdout",
     "output_type": "stream",
     "text": [
      "-1.66\n",
      "-22.64\n",
      "135.92\n",
      "78.73\n",
      "-119.60\n",
      "58.23\n",
      "-16.65\n",
      "35.73\n",
      "158.60\n",
      "19.21\n",
      "0.1 2996.9499926752396\n"
     ]
    }
   ],
   "source": [
    "X = old_X\n",
    "calc_l2(find_lambda=1)"
   ]
  },
  {
   "cell_type": "code",
   "execution_count": 72,
   "metadata": {},
   "outputs": [],
   "source": [
    "from sklearn.feature_selection import RFE\n",
    "def rfe_adapt(_lambda=0.3, cnt=7):\n",
    "    global X\n",
    "    global y\n",
    "    model = Ridge(alpha=_lambda)\n",
    "    rfe = RFE(model, cnt)\n",
    "    rfe = rfe.fit(X, y)\n",
    "    X = X[:, rfe.support_]"
   ]
  },
  {
   "cell_type": "code",
   "execution_count": 73,
   "metadata": {},
   "outputs": [],
   "source": [
    "def get_real_best(need_lambda, _print=True, l=1, r=-1):\n",
    "    global X\n",
    "    global y\n",
    "    if r == -1:\n",
    "        r = len(X[0]) + 1\n",
    "    best_val = np.inf\n",
    "    for num_of_params in range(l, r):\n",
    "        rem_X = X\n",
    "        X = X[:,:num_of_params]\n",
    "        cur_val_1 = calc_l2(False, find_lambda=need_lambda)\n",
    "        cur_val_2 = calc(False, find_lambda=need_lambda)\n",
    "        cur_val_3 = calc_linear(False)\n",
    "        if _print:\n",
    "            print(cur_val_1, cur_val_2, cur_val_3)\n",
    "        best_val = min(best_val, cur_val_1, cur_val_2, cur_val_3)\n",
    "        X = rem_X\n",
    "    return best_val"
   ]
  },
  {
   "cell_type": "code",
   "execution_count": 75,
   "metadata": {},
   "outputs": [
    {
     "name": "stdout",
     "output_type": "stream",
     "text": [
      "3903.441627184054 3903.752090414283 3903.0512513175213\n",
      "3220.308432835014 3220.9488989562556 3220.1662579558224\n",
      "3110.0392697278076 3110.9847749709415 3110.2068154533963\n",
      "3049.4019584027906 3050.6030977679034 3049.9695923322874\n",
      "3038.552247466875 3042.694152374152 3040.6340826545857\n",
      "3038.1566323644865 3045.6071422432424 3044.7722022994667\n",
      "2949.413401380217 2957.88918405271 2956.303167485773\n",
      "2971.295278853325 2980.4390480297857 2981.9230575841007\n",
      "2975.6549605379046 2980.4619652046977 2972.298001509071\n",
      "2996.9499926752396 2993.3489686612174 2993.0813104693307\n"
     ]
    },
    {
     "data": {
      "text/plain": [
       "2949.413401380217"
      ]
     },
     "execution_count": 75,
     "metadata": {},
     "output_type": "execute_result"
    }
   ],
   "source": [
    "ans = np.inf\n",
    "for i in range(1, len(old_X[0]) + 1):\n",
    "    X = old_X\n",
    "    rfe_adapt(cnt=i)\n",
    "    ans = min(ans, get_real_best(1, l=cnt, r=cnt+1))\n",
    "ans"
   ]
  },
  {
   "cell_type": "markdown",
   "metadata": {},
   "source": [
    "Теперь мы с помощью RFE отбираем сколько-нибудь лучших признаков, потом запускаем все три алгоритма на них и смотрим, что отработает лучше. 2949"
   ]
  },
  {
   "cell_type": "code",
   "execution_count": 76,
   "metadata": {},
   "outputs": [],
   "source": [
    "from sklearn.preprocessing import PolynomialFeatures\n",
    "def mult():\n",
    "    global old_X\n",
    "    old_X  = PolynomialFeatures(degree=2).fit_transform(old_X)"
   ]
  },
  {
   "cell_type": "code",
   "execution_count": 77,
   "metadata": {},
   "outputs": [
    {
     "data": {
      "text/plain": [
       "2795.5131305479827"
      ]
     },
     "execution_count": 77,
     "metadata": {},
     "output_type": "execute_result"
    }
   ],
   "source": [
    "mult()\n",
    "ans = np.inf\n",
    "for j in range(len(old_X[0]), 0, -1):\n",
    "    X = old_X\n",
    "    rfe_adapt(cnt=j)\n",
    "    ans = min(ans, get_real_best(need_lambda=1, _print=False, l=j, r=j+1))\n",
    "ans"
   ]
  },
  {
   "cell_type": "markdown",
   "metadata": {},
   "source": [
    "Теперь делаем то же самое, но предварительно добавим квадратичные признаки с помощью PolinomialFeatures. mse < 2800. Топ."
   ]
  }
 ],
 "metadata": {
  "kernelspec": {
   "display_name": "Python 3",
   "language": "python",
   "name": "python3"
  },
  "language_info": {
   "codemirror_mode": {
    "name": "ipython",
    "version": 3
   },
   "file_extension": ".py",
   "mimetype": "text/x-python",
   "name": "python",
   "nbconvert_exporter": "python",
   "pygments_lexer": "ipython3",
   "version": "3.5.5"
  }
 },
 "nbformat": 4,
 "nbformat_minor": 2
}
