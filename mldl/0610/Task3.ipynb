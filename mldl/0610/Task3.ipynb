{
 "cells": [
  {
   "cell_type": "markdown",
   "metadata": {},
   "source": [
    "### Чем хороша линейная регрессия?\n",
    "* Быстрая\n",
    "* Простая в осовении\n",
    "* Мало параметров, которые надо подкручивать\n",
    "* Легко интерпретируемая"
   ]
  },
  {
   "cell_type": "markdown",
   "metadata": {},
   "source": [
    "### Библиотеки\n",
    "Основная библиотека, с которой вы будете работать в этом курсе, это [scikit-learn](http://scikit-learn.org). На сайте есть описание всех моделей, а также User Guides к ним. Стоит почитать на досуге."
   ]
  },
  {
   "cell_type": "code",
   "execution_count": 1,
   "metadata": {},
   "outputs": [],
   "source": [
    "import numpy as np\n",
    "import pandas as pd\n",
    "import matplotlib.pyplot as plt\n",
    "\n",
    "%matplotlib inline"
   ]
  },
  {
   "cell_type": "markdown",
   "metadata": {},
   "source": [
    "### Датасет о рекламной кампании"
   ]
  },
  {
   "cell_type": "code",
   "execution_count": 3,
   "metadata": {},
   "outputs": [
    {
     "data": {
      "text/html": [
       "<div>\n",
       "<style scoped>\n",
       "    .dataframe tbody tr th:only-of-type {\n",
       "        vertical-align: middle;\n",
       "    }\n",
       "\n",
       "    .dataframe tbody tr th {\n",
       "        vertical-align: top;\n",
       "    }\n",
       "\n",
       "    .dataframe thead th {\n",
       "        text-align: right;\n",
       "    }\n",
       "</style>\n",
       "<table border=\"1\" class=\"dataframe\">\n",
       "  <thead>\n",
       "    <tr style=\"text-align: right;\">\n",
       "      <th></th>\n",
       "      <th>TV</th>\n",
       "      <th>radio</th>\n",
       "      <th>newspaper</th>\n",
       "      <th>sales</th>\n",
       "    </tr>\n",
       "  </thead>\n",
       "  <tbody>\n",
       "    <tr>\n",
       "      <th>1</th>\n",
       "      <td>230.1</td>\n",
       "      <td>37.8</td>\n",
       "      <td>69.2</td>\n",
       "      <td>22.1</td>\n",
       "    </tr>\n",
       "    <tr>\n",
       "      <th>2</th>\n",
       "      <td>44.5</td>\n",
       "      <td>39.3</td>\n",
       "      <td>45.1</td>\n",
       "      <td>10.4</td>\n",
       "    </tr>\n",
       "    <tr>\n",
       "      <th>3</th>\n",
       "      <td>17.2</td>\n",
       "      <td>45.9</td>\n",
       "      <td>69.3</td>\n",
       "      <td>9.3</td>\n",
       "    </tr>\n",
       "    <tr>\n",
       "      <th>4</th>\n",
       "      <td>151.5</td>\n",
       "      <td>41.3</td>\n",
       "      <td>58.5</td>\n",
       "      <td>18.5</td>\n",
       "    </tr>\n",
       "    <tr>\n",
       "      <th>5</th>\n",
       "      <td>180.8</td>\n",
       "      <td>10.8</td>\n",
       "      <td>58.4</td>\n",
       "      <td>12.9</td>\n",
       "    </tr>\n",
       "  </tbody>\n",
       "</table>\n",
       "</div>"
      ],
      "text/plain": [
       "      TV  radio  newspaper  sales\n",
       "1  230.1   37.8       69.2   22.1\n",
       "2   44.5   39.3       45.1   10.4\n",
       "3   17.2   45.9       69.3    9.3\n",
       "4  151.5   41.3       58.5   18.5\n",
       "5  180.8   10.8       58.4   12.9"
      ]
     },
     "execution_count": 3,
     "metadata": {},
     "output_type": "execute_result"
    }
   ],
   "source": [
    "data = pd.read_csv('http://www-bcf.usc.edu/~gareth/ISL/Advertising.csv', index_col=0)\n",
    "data.head()"
   ]
  },
  {
   "cell_type": "code",
   "execution_count": 5,
   "metadata": {},
   "outputs": [
    {
     "data": {
      "text/plain": [
       "(200, 4)"
      ]
     },
     "execution_count": 5,
     "metadata": {},
     "output_type": "execute_result"
    }
   ],
   "source": [
    "data.shape"
   ]
  },
  {
   "cell_type": "markdown",
   "metadata": {},
   "source": [
    "В датасете показаны результаты продаж разных товаров в зависимости от ресурсов (тысяч долларов), которые вложили в различные средства распространения информации:\n",
    "* TV - реклама по телевизору\n",
    "* radio - на радио\n",
    "* newspapers - в газетах"
   ]
  },
  {
   "cell_type": "markdown",
   "metadata": {},
   "source": [
    "Целевая переменная:\n",
    "* sales - продажи такого-то товара (тысячи штук)"
   ]
  },
  {
   "cell_type": "code",
   "execution_count": 6,
   "metadata": {},
   "outputs": [
    {
     "data": {
      "text/plain": [
       "(200, 4)"
      ]
     },
     "execution_count": 6,
     "metadata": {},
     "output_type": "execute_result"
    }
   ],
   "source": [
    "# Размеры датасета\n",
    "data.shape"
   ]
  },
  {
   "cell_type": "markdown",
   "metadata": {},
   "source": [
    "Признаков немного, поэтому давайте попробуем визуализиовать зависимость целевой переменной от каждого из признаков."
   ]
  },
  {
   "cell_type": "code",
   "execution_count": 7,
   "metadata": {},
   "outputs": [
    {
     "data": {
      "text/plain": [
       "<matplotlib.axes._subplots.AxesSubplot at 0x7fc7d016eb38>"
      ]
     },
     "execution_count": 7,
     "metadata": {},
     "output_type": "execute_result"
    },
    {
     "data": {
      "image/png": "[encoded data removed]",
      "text/plain": [
       "<Figure size 1152x576 with 3 Axes>"
      ]
     },
     "metadata": {},
     "output_type": "display_data"
    }
   ],
   "source": [
    "fig, axs = plt.subplots(1, 3, sharey=True)\n",
    "data.plot(kind='scatter', x='TV', y='sales', ax=axs[0], figsize=(16, 8))\n",
    "data.plot(kind='scatter', x='radio', y='sales', ax=axs[1])\n",
    "data.plot(kind='scatter', x='newspaper', y='sales', ax=axs[2])"
   ]
  },
  {
   "cell_type": "markdown",
   "metadata": {},
   "source": [
    "### Простая линейная регрессия"
   ]
  },
  {
   "cell_type": "markdown",
   "metadata": {},
   "source": [
    "Из графиков выше предположим, что только размер рекламы на телевизоре влияет на продажи больше всего. Формула для такого случая выглядит следующим образом:\n",
    "$$y=\\beta_0+\\beta_1x$$\n",
    "Здесь:\n",
    "* $y$ - наше предсказание продаж\n",
    "* $x$ - сколько денег вложили в рекламу по телевидению\n",
    "* $\\beta_0$ - сдвиг\n",
    "* $\\beta_1$ - параметр, отвечающий за важность признака x\n",
    "\n",
    "$\\beta_0$ и $\\beta_1$ - это параметры нашей модели. Чтобы создать хорошую модель, надо \"обучить\" эти значения. Т.е. изменить их так, чтобы они хорошо работали для нашей задачи."
   ]
  },
  {
   "cell_type": "markdown",
   "metadata": {},
   "source": [
    "### Обучение коэффициентов модели"
   ]
  },
  {
   "cell_type": "markdown",
   "metadata": {},
   "source": [
    "Параметры $\\beta_0$ и $\\beta_1$ подбираются таким образом, чтобы минимизировать **сумму наименьших квадратов ошибок**:"
   ]
  },
  {
   "cell_type": "markdown",
   "metadata": {},
   "source": [
    "<img src=\"https://github.com/justmarkham/DAT4/raw/068d887e4be2eedb1b958b345ae097153f762d75/notebooks/08_estimating_coefficients.png\">"
   ]
  },
  {
   "cell_type": "markdown",
   "metadata": {},
   "source": [
    "* Чёрные точки на даграмме - это полученные истинные значения x и y.\n",
    "* Синяя линия - это наша модель: линия, которой мы стараемся приблизить данные.\n",
    "* Красные отрезки - это ошибки нашей модели."
   ]
  },
  {
   "cell_type": "markdown",
   "metadata": {},
   "source": [
    "Как коэффициенты $\\beta_0$ и $\\beta_1$ соотносятся с синей линией:\n",
    "* $\\beta_0$ - это сдвиг нашей прямой, т.е. значение y при x = 0.\n",
    "* $\\beta_1$ - это тангенс угла наклона прямой.\n",
    "<img src=\"https://github.com/justmarkham/DAT4/raw/068d887e4be2eedb1b958b345ae097153f762d75/notebooks/08_slope_intercept.png\">"
   ]
  },
  {
   "cell_type": "markdown",
   "metadata": {},
   "source": [
    "Как искать данные коэффициенты? Есть много техник: аналитическое решение, методы основанные на градиентном спуске. Пока же достаточно знать, что многие библиотеки (в том числе и sklearn) умеют это делать. Зачем кожаному мешку напрягаться :)"
   ]
  },
  {
   "cell_type": "code",
   "execution_count": 8,
   "metadata": {},
   "outputs": [
    {
     "name": "stdout",
     "output_type": "stream",
     "text": [
      "Сдвиг=7.032593549127693\n",
      "Массив коэффициентов=[0.04753664]\n"
     ]
    }
   ],
   "source": [
    "from sklearn.linear_model import LinearRegression\n",
    "\n",
    "# Наша модель\n",
    "reg = LinearRegression()\n",
    "\n",
    "# Подготовим данные для неё\n",
    "# На вход требуется 2D матрица, а у нас только один признак,\n",
    "# и надо превратить его из 1D вектора (n,) в 2D матрицу (n, 1).\n",
    "# Это можно сделать с помощью метода reshape\n",
    "x = data[\"TV\"].values.reshape(-1, 1) \n",
    "y = data[\"sales\"].values\n",
    "\n",
    "# Обучаем нашу модель\n",
    "reg.fit(x, y)\n",
    "\n",
    "# Коэффициенты\n",
    "print(\"Сдвиг={}\".format(reg.intercept_))\n",
    "print(\"Массив коэффициентов={}\".format(reg.coef_))"
   ]
  },
  {
   "cell_type": "code",
   "execution_count": 11,
   "metadata": {},
   "outputs": [
    {
     "data": {
      "text/plain": [
       "1      230.1\n",
       "2       44.5\n",
       "3       17.2\n",
       "4      151.5\n",
       "5      180.8\n",
       "6        8.7\n",
       "7       57.5\n",
       "8      120.2\n",
       "9        8.6\n",
       "10     199.8\n",
       "11      66.1\n",
       "12     214.7\n",
       "13      23.8\n",
       "14      97.5\n",
       "15     204.1\n",
       "16     195.4\n",
       "17      67.8\n",
       "18     281.4\n",
       "19      69.2\n",
       "20     147.3\n",
       "21     218.4\n",
       "22     237.4\n",
       "23      13.2\n",
       "24     228.3\n",
       "25      62.3\n",
       "26     262.9\n",
       "27     142.9\n",
       "28     240.1\n",
       "29     248.8\n",
       "30      70.6\n",
       "       ...  \n",
       "171     50.0\n",
       "172    164.5\n",
       "173     19.6\n",
       "174    168.4\n",
       "175    222.4\n",
       "176    276.9\n",
       "177    248.4\n",
       "178    170.2\n",
       "179    276.7\n",
       "180    165.6\n",
       "181    156.6\n",
       "182    218.5\n",
       "183     56.2\n",
       "184    287.6\n",
       "185    253.8\n",
       "186    205.0\n",
       "187    139.5\n",
       "188    191.1\n",
       "189    286.0\n",
       "190     18.7\n",
       "191     39.5\n",
       "192     75.5\n",
       "193     17.2\n",
       "194    166.8\n",
       "195    149.7\n",
       "196     38.2\n",
       "197     94.2\n",
       "198    177.0\n",
       "199    283.6\n",
       "200    232.1\n",
       "Name: TV, Length: 200, dtype: float64"
      ]
     },
     "execution_count": 11,
     "metadata": {},
     "output_type": "execute_result"
    }
   ],
   "source": [
    "data[\"TV\"]"
   ]
  },
  {
   "cell_type": "code",
   "execution_count": 10,
   "metadata": {},
   "outputs": [
    {
     "data": {
      "text/plain": [
       "array([22.1, 10.4,  9.3, 18.5, 12.9,  7.2, 11.8, 13.2,  4.8, 10.6,  8.6,\n",
       "       17.4,  9.2,  9.7, 19. , 22.4, 12.5, 24.4, 11.3, 14.6, 18. , 12.5,\n",
       "        5.6, 15.5,  9.7, 12. , 15. , 15.9, 18.9, 10.5, 21.4, 11.9,  9.6,\n",
       "       17.4,  9.5, 12.8, 25.4, 14.7, 10.1, 21.5, 16.6, 17.1, 20.7, 12.9,\n",
       "        8.5, 14.9, 10.6, 23.2, 14.8,  9.7, 11.4, 10.7, 22.6, 21.2, 20.2,\n",
       "       23.7,  5.5, 13.2, 23.8, 18.4,  8.1, 24.2, 15.7, 14. , 18. ,  9.3,\n",
       "        9.5, 13.4, 18.9, 22.3, 18.3, 12.4,  8.8, 11. , 17. ,  8.7,  6.9,\n",
       "       14.2,  5.3, 11. , 11.8, 12.3, 11.3, 13.6, 21.7, 15.2, 12. , 16. ,\n",
       "       12.9, 16.7, 11.2,  7.3, 19.4, 22.2, 11.5, 16.9, 11.7, 15.5, 25.4,\n",
       "       17.2, 11.7, 23.8, 14.8, 14.7, 20.7, 19.2,  7.2,  8.7,  5.3, 19.8,\n",
       "       13.4, 21.8, 14.1, 15.9, 14.6, 12.6, 12.2,  9.4, 15.9,  6.6, 15.5,\n",
       "        7. , 11.6, 15.2, 19.7, 10.6,  6.6,  8.8, 24.7,  9.7,  1.6, 12.7,\n",
       "        5.7, 19.6, 10.8, 11.6,  9.5, 20.8,  9.6, 20.7, 10.9, 19.2, 20.1,\n",
       "       10.4, 11.4, 10.3, 13.2, 25.4, 10.9, 10.1, 16.1, 11.6, 16.6, 19. ,\n",
       "       15.6,  3.2, 15.3, 10.1,  7.3, 12.9, 14.4, 13.3, 14.9, 18. , 11.9,\n",
       "       11.9,  8. , 12.2, 17.1, 15. ,  8.4, 14.5,  7.6, 11.7, 11.5, 27. ,\n",
       "       20.2, 11.7, 11.8, 12.6, 10.5, 12.2,  8.7, 26.2, 17.6, 22.6, 10.3,\n",
       "       17.3, 15.9,  6.7, 10.8,  9.9,  5.9, 19.6, 17.3,  7.6,  9.7, 12.8,\n",
       "       25.5, 13.4])"
      ]
     },
     "execution_count": 10,
     "metadata": {},
     "output_type": "execute_result"
    }
   ],
   "source": [
    "y"
   ]
  },
  {
   "cell_type": "markdown",
   "metadata": {},
   "source": [
    "### Интерпретируем коэффициенты\n",
    "Что означает коэффициент, связанный с телевидением ($\\beta_1$)?\n",
    "* Дополнительные 1000$, вложенные на в рекламу на телевидении, позволят продажам товара вырасти где-то на 0.047 * 1000 = 47 тысяч единиц."
   ]
  },
  {
   "cell_type": "markdown",
   "metadata": {},
   "source": [
    "### Используем модель для предсказания"
   ]
  },
  {
   "cell_type": "markdown",
   "metadata": {},
   "source": [
    "Окей, допустим мы выходим на новый рынок, в котором на телевидение мы готовы потратить 50000 долларов. Сколько товара это нам даст?\n",
    "$$y=7.032594+0.047537 * 50$$"
   ]
  },
  {
   "cell_type": "code",
   "execution_count": 12,
   "metadata": {},
   "outputs": [
    {
     "data": {
      "text/plain": [
       "9.409444"
      ]
     },
     "execution_count": 12,
     "metadata": {},
     "output_type": "execute_result"
    }
   ],
   "source": [
    "# Посчитаем ручками\n",
    "7.032594 + 0.047537*50"
   ]
  },
  {
   "cell_type": "markdown",
   "metadata": {},
   "source": [
    "Всего мы продадим 9409 единиц товара. А давате теперь спросим sklearn:"
   ]
  },
  {
   "cell_type": "code",
   "execution_count": 13,
   "metadata": {},
   "outputs": [
    {
     "data": {
      "text/html": [
       "<div>\n",
       "<style scoped>\n",
       "    .dataframe tbody tr th:only-of-type {\n",
       "        vertical-align: middle;\n",
       "    }\n",
       "\n",
       "    .dataframe tbody tr th {\n",
       "        vertical-align: top;\n",
       "    }\n",
       "\n",
       "    .dataframe thead th {\n",
       "        text-align: right;\n",
       "    }\n",
       "</style>\n",
       "<table border=\"1\" class=\"dataframe\">\n",
       "  <thead>\n",
       "    <tr style=\"text-align: right;\">\n",
       "      <th></th>\n",
       "      <th>TV</th>\n",
       "    </tr>\n",
       "  </thead>\n",
       "  <tbody>\n",
       "    <tr>\n",
       "      <th>0</th>\n",
       "      <td>50</td>\n",
       "    </tr>\n",
       "  </tbody>\n",
       "</table>\n",
       "</div>"
      ],
      "text/plain": [
       "   TV\n",
       "0  50"
      ]
     },
     "execution_count": 13,
     "metadata": {},
     "output_type": "execute_result"
    }
   ],
   "source": [
    "X_new = pd.DataFrame({'TV': [50]})\n",
    "X_new.head()"
   ]
  },
  {
   "cell_type": "code",
   "execution_count": 14,
   "metadata": {},
   "outputs": [
    {
     "data": {
      "text/plain": [
       "array([9.40942557])"
      ]
     },
     "execution_count": 14,
     "metadata": {},
     "output_type": "execute_result"
    }
   ],
   "source": [
    "reg.predict(X_new)"
   ]
  },
  {
   "cell_type": "markdown",
   "metadata": {},
   "source": [
    "### Нарисуем нашу прямую"
   ]
  },
  {
   "cell_type": "code",
   "execution_count": 15,
   "metadata": {},
   "outputs": [
    {
     "data": {
      "text/plain": [
       "(200,)"
      ]
     },
     "execution_count": 15,
     "metadata": {},
     "output_type": "execute_result"
    }
   ],
   "source": [
    "# Возьмём предсказания для данных, на которых обучались\n",
    "y_pred = reg.predict(x)\n",
    "y_pred.shape"
   ]
  },
  {
   "cell_type": "code",
   "execution_count": 16,
   "metadata": {},
   "outputs": [
    {
     "data": {
      "text/plain": [
       "[<matplotlib.lines.Line2D at 0x7fc7c3e49898>]"
      ]
     },
     "execution_count": 16,
     "metadata": {},
     "output_type": "execute_result"
    },
    {
     "data": {
      "image/png": "[encoded data removed]",
      "text/plain": [
       "<Figure size 432x288 with 1 Axes>"
      ]
     },
     "metadata": {},
     "output_type": "display_data"
    }
   ],
   "source": [
    "# Сначала выведем истинные данные\n",
    "data.plot(kind='scatter', x='TV', y='sales')\n",
    "\n",
    "# Теперь рисуем нашу линию\n",
    "plt.plot(x, y_pred, c='red', linewidth=2)"
   ]
  },
  {
   "cell_type": "markdown",
   "metadata": {},
   "source": [
    "Посчитаем ошибку MSE на обучающей выборке:"
   ]
  },
  {
   "cell_type": "code",
   "execution_count": 17,
   "metadata": {},
   "outputs": [
    {
     "name": "stdout",
     "output_type": "stream",
     "text": [
      "10.512652915656757\n"
     ]
    }
   ],
   "source": [
    "from sklearn.metrics import mean_squared_error\n",
    "\n",
    "print(mean_squared_error(y_pred, y))"
   ]
  },
  {
   "cell_type": "markdown",
   "metadata": {},
   "source": [
    "### Используем все признаки"
   ]
  },
  {
   "cell_type": "markdown",
   "metadata": {},
   "source": [
    "Простую линейную регрессию с одним признаком можно легко расширить на случай нескольких признаков:\n",
    "$$y=\\beta_0+\\beta_1x_1+...+\\beta_nx_n$$"
   ]
  },
  {
   "cell_type": "markdown",
   "metadata": {},
   "source": [
    "А для нашего датасета это будет выглядеть так:\n",
    "$$Sales=\\beta_0+\\beta_1*TV+\\beta_2*radio+\\beta_3*newspaper$$"
   ]
  },
  {
   "cell_type": "markdown",
   "metadata": {},
   "source": [
    "Давайте опять воспользуемся sklearn, чтобы их оценить:"
   ]
  },
  {
   "cell_type": "code",
   "execution_count": 18,
   "metadata": {},
   "outputs": [
    {
     "name": "stdout",
     "output_type": "stream",
     "text": [
      "Сдвиг=2.9388893694594067\n",
      "Коэффициент для TV=0.04576464545539761\n",
      "Коэффициент для radio=0.18853001691820462\n",
      "Коэффициент для newspaper=-0.0010374930424762972\n"
     ]
    }
   ],
   "source": [
    "reg = LinearRegression()\n",
    "\n",
    "X = data.drop(\"sales\", axis=1)\n",
    "y = data[\"sales\"]\n",
    "\n",
    "# Обучаем нашу модель\n",
    "reg.fit(X, y)\n",
    "\n",
    "# Коэффициенты\n",
    "print(\"Сдвиг={}\".format(reg.intercept_))\n",
    "for column, coef in zip(X.columns, reg.coef_):\n",
    "    print(\"Коэффициент для {}={}\".format(column, coef))"
   ]
  },
  {
   "cell_type": "markdown",
   "metadata": {},
   "source": [
    "Вес признака отвечает также, как и в предыдущем случае за значимость этого признака. Для газет он вообще отрицательный. Вычислим ошибку на обучающей выборке."
   ]
  },
  {
   "cell_type": "code",
   "execution_count": 19,
   "metadata": {},
   "outputs": [
    {
     "name": "stdout",
     "output_type": "stream",
     "text": [
      "2.784126314510936\n"
     ]
    }
   ],
   "source": [
    "y_pred = reg.predict(X)\n",
    "\n",
    "# Ошибка теперь равна:\n",
    "print(mean_squared_error(y_pred, y))"
   ]
  },
  {
   "cell_type": "markdown",
   "metadata": {},
   "source": [
    "Ошибка уже меньше, чем при одном признаке, однако измерять ошибку на обучающей выборке неправильно. Помимо истинной зависимости между признаками и целевой переменной, туда могут затесаться случайности, лишние данные и прочие факторы. Если не ограничивать каким-то образом модель (об этом мы узнаем позднее), то модель легко подстраивается под эти шумы. Она начинает показывать очень хорошее качество на обучающей выборке, но когда мы попробуем посмотреть качество на других выборках, то там модель будет показывать себя плохо. Наглядный пример:\n",
    "<img src=\"https://i.stack.imgur.com/t0zit.png\">"
   ]
  },
  {
   "cell_type": "markdown",
   "metadata": {},
   "source": [
    "Посередине находится правильная модель, которая угадала истинную зависимость. Справа видно переобученную модель, которая на обучающей выборке (красные крестики) показывает очень хорошее качество, но из рисунка видно, что истинную зависимость она точно не нашла."
   ]
  },
  {
   "cell_type": "markdown",
   "metadata": {},
   "source": [
    "Говорят, что такая модель имеет высокую *Variance* (дисперсия). *Variance* - это чувствительность модели к разным выбросам, аномалиям в данных. Если такую модель обучить на немного отличающихся данных, то результаты будут сильно разными."
   ]
  },
  {
   "cell_type": "markdown",
   "metadata": {},
   "source": [
    "Слева изображена противоположная ситуация - недообученная модель. Это происходит из-за того, что прямой линией как ни крути не найти истинную зависимость. Т.е. модель слишком простая для такой задачи. Говорят, что у такой модели высокий *bias*, т.е. средняя величина ошибки. Следующая картинка показывает наглядно, что это такое:\n",
    "<img src=\"https://elitedatascience.com/wp-content/uploads/2017/06/Bias-vs.-Variance-v5-2-darts.png\">"
   ]
  },
  {
   "cell_type": "markdown",
   "metadata": {},
   "source": [
    "Поэтому в таком случае, для начала разбивают имеющиеся данные на обучающую и тестовую выборки."
   ]
  },
  {
   "cell_type": "code",
   "execution_count": 20,
   "metadata": {},
   "outputs": [
    {
     "data": {
      "text/plain": [
       "((100, 3), (100, 3), (100,), (100,))"
      ]
     },
     "execution_count": 20,
     "metadata": {},
     "output_type": "execute_result"
    }
   ],
   "source": [
    "# Возьмём 100 для обучения и 100 для теста\n",
    "threshold = 100\n",
    "X_train = data.drop('sales', axis=1)[:threshold]\n",
    "y_train = data[\"sales\"][:threshold]\n",
    "\n",
    "X_test = data.drop('sales', axis=1)[threshold:]\n",
    "y_test = data[\"sales\"][threshold:]\n",
    "\n",
    "X_train.shape, X_test.shape, y_train.shape, y_test.shape"
   ]
  },
  {
   "cell_type": "markdown",
   "metadata": {},
   "source": [
    "Обучаемся на обучающей выборке и проверяем качество на тестовой."
   ]
  },
  {
   "cell_type": "code",
   "execution_count": 21,
   "metadata": {},
   "outputs": [
    {
     "name": "stdout",
     "output_type": "stream",
     "text": [
      "Ошибка на обучающей выборке=2.32\n",
      "Ошибка на тестовой выборке=3.38\n"
     ]
    }
   ],
   "source": [
    "reg = LinearRegression()\n",
    "reg.fit(X_train, y_train)\n",
    "\n",
    "# Ошибка на тестовой выборке\n",
    "y_pred = reg.predict(X_test)\n",
    "# Вычислим ошибку и на обучающей выборке для проверки\n",
    "y_pred_train = reg.predict(X_train)\n",
    "\n",
    "print(\"Ошибка на обучающей выборке={0:.2f}\".format(mean_squared_error(y_pred_train, y_train)))\n",
    "print(\"Ошибка на тестовой выборке={0:.2f}\".format(mean_squared_error(y_pred, y_test)))"
   ]
  },
  {
   "cell_type": "markdown",
   "metadata": {},
   "source": [
    "Как видно, ошибка на тестовой выборке больше, чем на обучающей. Но вам может повезти и всё будет наоборот (на самом деле, я менял threshold до тех пор, пока ошибка на тестовой выборке не будет больше, чем на обучающей. Только тсс..). Чтобы не было таких случайностей, была придумана кросс-валидация."
   ]
  },
  {
   "cell_type": "markdown",
   "metadata": {},
   "source": [
    "### Кросс-валидация"
   ]
  },
  {
   "cell_type": "markdown",
   "metadata": {},
   "source": [
    "Как она работает? Мы делим все имеющиеся данные на $k$ частей. Затем по очереди каждую часть назначем тестовой. На остальных обучаемся, а ошибку измеряем на выбранной части. А затем из всех ошибок находим среднюю. Так у нас не будет той случайности, когда мы удачно поделим выборку."
   ]
  },
  {
   "cell_type": "code",
   "execution_count": 22,
   "metadata": {
    "scrolled": true
   },
   "outputs": [
    {
     "name": "stdout",
     "output_type": "stream",
     "text": [
      "3.07294659710021\n"
     ]
    }
   ],
   "source": [
    "# Многие выбирают k=5 для начала\n",
    "k = 5\n",
    "errors = []\n",
    "\n",
    "X = data.drop(\"sales\", axis=1)\n",
    "y = data[\"sales\"]\n",
    "\n",
    "# Размер одной части\n",
    "fold_size = len(X) // k\n",
    "\n",
    "# Мб этот код на семинаре написать?\n",
    "for i in range(k):\n",
    "    # Берём все значения, кроме выбранной части\n",
    "    X_train = X[:i * fold_size].append(X[(i + 1) * fold_size:])\n",
    "    y_train = y[:i * fold_size].append(y[(i + 1) * fold_size:])\n",
    "    \n",
    "    # Берём выбранную часть\n",
    "    X_test = X[i * fold_size:(i + 1) * fold_size]\n",
    "    y_test = y[i * fold_size:(i + 1) * fold_size]\n",
    "    \n",
    "    # На каждой итерации обучаемся отдельно и сохраняем ошибку\n",
    "    reg = LinearRegression()\n",
    "    reg.fit(X_train, y_train)\n",
    "    y_pred = reg.predict(X_test)\n",
    "    errors.append(mean_squared_error(y_pred, y_test))\n",
    "    \n",
    "# Выводим ошибку на кросс-валидации\n",
    "print(np.average(errors))"
   ]
  },
  {
   "cell_type": "code",
   "execution_count": 23,
   "metadata": {},
   "outputs": [
    {
     "name": "stdout",
     "output_type": "stream",
     "text": [
      "3.07294659710021\n"
     ]
    }
   ],
   "source": [
    "# А можно не париться и попросить sklearn всё сделать за нас\n",
    "from sklearn.model_selection import cross_val_score\n",
    "\n",
    "# Берём с отрицательным знаком, т.к. обычно туда передаётся не функция потерь, которую надо минимизировать\n",
    "# А что-то вроде \"функции успеха\", которую надо максимизировать\n",
    "errors = -cross_val_score(LinearRegression(), X, y, cv=5, scoring='neg_mean_squared_error')\n",
    "print(np.average(errors))"
   ]
  },
  {
   "cell_type": "markdown",
   "metadata": {},
   "source": [
    "Видно, что ошибка больше, чем тогда на обучающей выборке, поэтому есть показания думать, что это переобучение. Отчего оно обычно происходит? Мы берём слишком много лишних признаков или делаем модель слишком сложной для данной задачи. Для решения этой задачи существует регуляризация."
   ]
  },
  {
   "cell_type": "markdown",
   "metadata": {},
   "source": [
    "### Регуляризация"
   ]
  },
  {
   "cell_type": "markdown",
   "metadata": {},
   "source": [
    "Регуляризация - это искусстенное занижение всех параметров моделей ($\\beta_0,\\beta_1,...$). Это помогает упростить модель, т.к. низкие значения $\\beta_i$ означают, что модель будет выдавать результаты близкие к прямой (или гиперплоскости, если параметров много). А также зануление некоторых коэффициентов может убрать ненужные признаки из обучения. Однако как всё это сделать так, чтобы не убрать нужные признаки?"
   ]
  },
  {
   "cell_type": "markdown",
   "metadata": {},
   "source": [
    "Посмотрим на функцию потерь, которую мы минимизируем:\n",
    "$$L(\\beta)=\\sum_{i=1}^{N}(y^{true}_i-y^{pred}_i)^2$$\n",
    "\n",
    "Добавим туда слагаемое, которое поможет нам понизить значения наших $\\beta_i$:\n",
    "$$L(\\beta)=\\sum_{i=1}^{N}(y^{true}_i-y^{pred}_i)^2 + \\lambda \\sum_{i=1}^m\\beta_i^2$$"
   ]
  },
  {
   "cell_type": "markdown",
   "metadata": {},
   "source": [
    "Действительно, если мы будем понижать нашу функцию потерь $L(\\beta)$, то мы будем минимизировать и второе слагаемое, которое и отвечает за абсолютные величины $\\beta_i$. Осталось указать, что $\\lambda$ это некоторый числовой коэффициент, который позволяет играться между очень сильной и очень слабой регуляризацией. Если он большой, то регуляризация сильная и модель будет более простой, меньше переобучаться, больше недообучаться, и наоброт. "
   ]
  },
  {
   "cell_type": "markdown",
   "metadata": {},
   "source": [
    "Забыл добавить, что это была L2-регуляризация.\n",
    "L1-регуляризация выглядит так:\n",
    "$$L(\\beta)=\\sum_{i=1}^{N}(y^{true}_i-y^{pred}_i)^2 + \\lambda \\sum_{i=1}^m|\\beta_i|$$\n",
    "Она отличается от L2 тем, что она обнуляет некоторые коэффициенты, а L2 пытается всё уменьшать равномерно."
   ]
  },
  {
   "cell_type": "markdown",
   "metadata": {},
   "source": [
    "В sklearn L1-регуляризация - это Lasso, а L2-регуляризация - это Ridge. Давайте посмотрим, какое качество они нам дадут на кросс-валидации."
   ]
  },
  {
   "cell_type": "code",
   "execution_count": 24,
   "metadata": {},
   "outputs": [
    {
     "name": "stdout",
     "output_type": "stream",
     "text": [
      "Сдвиг=3.0402155834803786\n",
      "Коэффициент для TV=0.045661415380019464\n",
      "Коэффициент для radio=0.18346439758868255\n",
      "Коэффициент для newspaper=0.0\n",
      "\n",
      "Результат=3.0414058967513684\n"
     ]
    }
   ],
   "source": [
    "# L1\n",
    "from sklearn.linear_model import Lasso\n",
    "\n",
    "reg = Lasso().fit(X, y)\n",
    "\n",
    "# Посмотрим на коэффициенты модели\n",
    "# Коэффициенты\n",
    "print(\"Сдвиг={}\".format(reg.intercept_))\n",
    "for column, coef in zip(X.columns, reg.coef_):\n",
    "    print(\"Коэффициент для {}={}\".format(column, coef))\n",
    "print()\n",
    "\n",
    "errors = -cross_val_score(Lasso(), X, y, cv=5, scoring='neg_mean_squared_error')\n",
    "print(\"Результат={}\".format(np.average(errors)))"
   ]
  },
  {
   "cell_type": "markdown",
   "metadata": {},
   "source": [
    "Видно, что признак с рекламой в газетах модель захотела полностью убрать из выборки."
   ]
  },
  {
   "cell_type": "code",
   "execution_count": 25,
   "metadata": {},
   "outputs": [
    {
     "name": "stdout",
     "output_type": "stream",
     "text": [
      "Сдвиг=2.9389674583301524\n",
      "Коэффициент для TV=0.04576464365801847\n",
      "Коэффициент для radio=0.1885250968107854\n",
      "Коэффициент для newspaper=-0.0010362939589069462\n",
      "\n",
      "Результат=3.0729326732984985\n"
     ]
    }
   ],
   "source": [
    "# L2\n",
    "from sklearn.linear_model import Ridge\n",
    "\n",
    "reg = Ridge().fit(X, y)\n",
    "\n",
    "# Посмотрим на коэффициенты модели\n",
    "# Коэффициенты\n",
    "print(\"Сдвиг={}\".format(reg.intercept_))\n",
    "for column, coef in zip(X.columns, reg.coef_):\n",
    "    print(\"Коэффициент для {}={}\".format(column, coef))\n",
    "print()\n",
    "\n",
    "errors = -cross_val_score(Ridge(), X, y, cv=5, scoring='neg_mean_squared_error')\n",
    "print(\"Результат={}\".format(np.average(errors)))"
   ]
  },
  {
   "cell_type": "markdown",
   "metadata": {},
   "source": [
    "Тут модель полностью не зануляла все признаки, а уменьшила их веса некоторых из них, а некоторых увеличила. Но изменения были столь незначительные, что качество не изменилось."
   ]
  },
  {
   "cell_type": "markdown",
   "metadata": {},
   "source": [
    "Как видно, качество не сильно улучшилось. Это всё потому что, мы не подбирали параметр параметр lambda (в моделях он называется alpha), а оставили его равным 1.0. Вот тут нам и приходит на помощь кросс-валидация."
   ]
  },
  {
   "cell_type": "markdown",
   "metadata": {},
   "source": [
    "Попробуем сначала Lasso. Давайте сначала поступим по тупому, и будем выбирать параметр lambda на обучающей выборке."
   ]
  },
  {
   "cell_type": "code",
   "execution_count": 26,
   "metadata": {},
   "outputs": [
    {
     "name": "stdout",
     "output_type": "stream",
     "text": [
      "Все лямбды:\n",
      "[0.1 0.3 0.5 0.7 0.9 1.1 1.3 1.5 1.7 1.9 2.1 2.3 2.5 2.7 2.9]\n",
      "\n",
      "Оптимальная lambda:\n",
      "Lambda=0.10, результат=3.05\n"
     ]
    }
   ],
   "source": [
    "lambdas = np.arange(0.1, 3.0, 0.2)\n",
    "# Выведем доступные lambda\n",
    "print(\"Все лямбды:\")\n",
    "print(lambdas)\n",
    "\n",
    "# Лямбды и их ошибки на обучающей выборке\n",
    "lambda_errors = []\n",
    "\n",
    "# Проходим по всем лямбдам и записываем ошибки на обучающей выборке\n",
    "for val in lambdas:\n",
    "    reg = Lasso(alpha=val).fit(X, y)\n",
    "    y_pred = reg.predict(X)\n",
    "    # Сохраняем ошибку на обучающей выборке\n",
    "    lambda_errors.append((val, mean_squared_error(y_pred, y)))\n",
    "    \n",
    "\n",
    "min_val, min_train_error = min(lambda_errors, key=lambda x: x[1])\n",
    "\n",
    "# Вычислим ошибку на кросс-валидации\n",
    "# Лучшая модель\n",
    "best_reg = Lasso(alpha=val)\n",
    "cv_error = -np.average(cross_val_score(best_reg, X, y, cv=5, scoring='neg_mean_squared_error'))\n",
    "\n",
    "print(\"\\nОптимальная lambda:\")\n",
    "print(\"Lambda={:.2f}, результат={:.2f}\".format(min_val, cv_error))"
   ]
  },
  {
   "cell_type": "markdown",
   "metadata": {},
   "source": [
    "А теперь сделайте так, чтобы сохранялась ошибка не на обучающей выборке, а на кросс-валдиации (cross_val_score) и минимум выбирался из неё. "
   ]
  },
  {
   "cell_type": "code",
   "execution_count": 38,
   "metadata": {},
   "outputs": [
    {
     "name": "stdout",
     "output_type": "stream",
     "text": [
      "\n",
      "Оптимальная lambda:\n",
      "Lambda=1.90, результат=3.03\n"
     ]
    }
   ],
   "source": [
    "lambda_errors = []\n",
    "\n",
    "for val in lambdas:\n",
    "    lambda_errors.append((val, -np.average(cross_val_score(Lasso(alpha=val), X, y, cv=5, scoring='neg_mean_squared_error'))))\n",
    "\n",
    "min_val, min_train_error = min(lambda_errors, key=lambda x : x[1])\n",
    "\n",
    "best_model = Lasso(alpha=min_val)\n",
    "cv_error = -np.average(cross_val_score(best_model, X, y, cv=5, scoring='neg_mean_squared_error'))\n",
    "print(\"\\nОптимальная lambda:\")\n",
    "print(\"Lambda={:.2f}, результат={:.2f}\".format(min_val, cv_error))"
   ]
  },
  {
   "cell_type": "markdown",
   "metadata": {},
   "source": [
    "Сделайте то же самое для L2-регуляризации:"
   ]
  },
  {
   "cell_type": "code",
   "execution_count": 40,
   "metadata": {},
   "outputs": [
    {
     "name": "stdout",
     "output_type": "stream",
     "text": [
      "\n",
      "Оптимальная lambda:\n",
      "Lambda=2.90, результат=3.07\n"
     ]
    }
   ],
   "source": [
    "lambda_errors = []\n",
    "\n",
    "for val in lambdas:\n",
    "    lambda_errors.append((val, -np.average(cross_val_score(Ridge(alpha=val), X, y, cv=5, scoring='neg_mean_squared_error'))))\n",
    "\n",
    "min_val, min_train_error = min(lambda_errors, key=lambda x : x[1])\n",
    "\n",
    "best_model = Ridge(alpha=min_val)\n",
    "cv_error = -np.average(cross_val_score(best_model, X, y, cv=5, scoring='neg_mean_squared_error'))\n",
    "print(\"\\nОптимальная lambda:\")\n",
    "print(\"Lambda={:.2f}, результат={:.2f}\".format(min_val, cv_error))"
   ]
  },
  {
   "cell_type": "markdown",
   "metadata": {},
   "source": [
    "Если всё было правильно, то данные манипуляции помогут немного улучшить качество вашей модели. Это поднимет вас на несколько мест в соревнованиях, или вашему работодателю даст побольше прибыли."
   ]
  },
  {
   "cell_type": "markdown",
   "metadata": {},
   "source": [
    "### Домашнее задание"
   ]
  },
  {
   "cell_type": "code",
   "execution_count": 176,
   "metadata": {},
   "outputs": [],
   "source": [
    "import numpy as np\n",
    "import pandas as pd\n",
    "import matplotlib.pyplot as plt\n",
    "\n",
    "%matplotlib inline"
   ]
  },
  {
   "cell_type": "markdown",
   "metadata": {},
   "source": [
    "Для домашнего задания вы используете другой датасет."
   ]
  },
  {
   "cell_type": "code",
   "execution_count": 177,
   "metadata": {},
   "outputs": [
    {
     "data": {
      "text/html": [
       "<div>\n",
       "<style scoped>\n",
       "    .dataframe tbody tr th:only-of-type {\n",
       "        vertical-align: middle;\n",
       "    }\n",
       "\n",
       "    .dataframe tbody tr th {\n",
       "        vertical-align: top;\n",
       "    }\n",
       "\n",
       "    .dataframe thead th {\n",
       "        text-align: right;\n",
       "    }\n",
       "</style>\n",
       "<table border=\"1\" class=\"dataframe\">\n",
       "  <thead>\n",
       "    <tr style=\"text-align: right;\">\n",
       "      <th></th>\n",
       "      <th>AGE</th>\n",
       "      <th>SEX</th>\n",
       "      <th>BMI</th>\n",
       "      <th>BP</th>\n",
       "      <th>S1</th>\n",
       "      <th>S2</th>\n",
       "      <th>S3</th>\n",
       "      <th>S4</th>\n",
       "      <th>S5</th>\n",
       "      <th>S6</th>\n",
       "      <th>Y</th>\n",
       "    </tr>\n",
       "  </thead>\n",
       "  <tbody>\n",
       "    <tr>\n",
       "      <th>0</th>\n",
       "      <td>59</td>\n",
       "      <td>2</td>\n",
       "      <td>32.1</td>\n",
       "      <td>101.0</td>\n",
       "      <td>157</td>\n",
       "      <td>93.2</td>\n",
       "      <td>38.0</td>\n",
       "      <td>4.0</td>\n",
       "      <td>4.8598</td>\n",
       "      <td>87</td>\n",
       "      <td>151</td>\n",
       "    </tr>\n",
       "    <tr>\n",
       "      <th>1</th>\n",
       "      <td>48</td>\n",
       "      <td>1</td>\n",
       "      <td>21.6</td>\n",
       "      <td>87.0</td>\n",
       "      <td>183</td>\n",
       "      <td>103.2</td>\n",
       "      <td>70.0</td>\n",
       "      <td>3.0</td>\n",
       "      <td>3.8918</td>\n",
       "      <td>69</td>\n",
       "      <td>75</td>\n",
       "    </tr>\n",
       "    <tr>\n",
       "      <th>2</th>\n",
       "      <td>72</td>\n",
       "      <td>2</td>\n",
       "      <td>30.5</td>\n",
       "      <td>93.0</td>\n",
       "      <td>156</td>\n",
       "      <td>93.6</td>\n",
       "      <td>41.0</td>\n",
       "      <td>4.0</td>\n",
       "      <td>4.6728</td>\n",
       "      <td>85</td>\n",
       "      <td>141</td>\n",
       "    </tr>\n",
       "    <tr>\n",
       "      <th>3</th>\n",
       "      <td>24</td>\n",
       "      <td>1</td>\n",
       "      <td>25.3</td>\n",
       "      <td>84.0</td>\n",
       "      <td>198</td>\n",
       "      <td>131.4</td>\n",
       "      <td>40.0</td>\n",
       "      <td>5.0</td>\n",
       "      <td>4.8903</td>\n",
       "      <td>89</td>\n",
       "      <td>206</td>\n",
       "    </tr>\n",
       "    <tr>\n",
       "      <th>4</th>\n",
       "      <td>50</td>\n",
       "      <td>1</td>\n",
       "      <td>23.0</td>\n",
       "      <td>101.0</td>\n",
       "      <td>192</td>\n",
       "      <td>125.4</td>\n",
       "      <td>52.0</td>\n",
       "      <td>4.0</td>\n",
       "      <td>4.2905</td>\n",
       "      <td>80</td>\n",
       "      <td>135</td>\n",
       "    </tr>\n",
       "  </tbody>\n",
       "</table>\n",
       "</div>"
      ],
      "text/plain": [
       "   AGE  SEX   BMI     BP   S1     S2    S3   S4      S5  S6    Y\n",
       "0   59    2  32.1  101.0  157   93.2  38.0  4.0  4.8598  87  151\n",
       "1   48    1  21.6   87.0  183  103.2  70.0  3.0  3.8918  69   75\n",
       "2   72    2  30.5   93.0  156   93.6  41.0  4.0  4.6728  85  141\n",
       "3   24    1  25.3   84.0  198  131.4  40.0  5.0  4.8903  89  206\n",
       "4   50    1  23.0  101.0  192  125.4  52.0  4.0  4.2905  80  135"
      ]
     },
     "execution_count": 177,
     "metadata": {},
     "output_type": "execute_result"
    }
   ],
   "source": [
    "data = pd.read_csv('https://web.stanford.edu/~hastie/Papers/LARS/diabetes.data', sep='\\t')\n",
    "data.head()"
   ]
  },
  {
   "cell_type": "markdown",
   "metadata": {},
   "source": [
    "В датасете приводится информация о пациентах и их состоянии при заболевании диабетом. Описание признаков можно прочитать [здесь](https://www4.stat.ncsu.edu/~boos/var.select/diabetes.html). Колонка Y - целевая переменная:"
   ]
  },
  {
   "cell_type": "code",
   "execution_count": 178,
   "metadata": {},
   "outputs": [
    {
     "data": {
      "text/plain": [
       "((442, 10), (442,))"
      ]
     },
     "execution_count": 178,
     "metadata": {},
     "output_type": "execute_result"
    }
   ],
   "source": [
    "target = 'Y'\n",
    "X = data.drop([target], axis=1)\n",
    "y = data[target]\n",
    "\n",
    "X.shape, y.shape"
   ]
  },
  {
   "cell_type": "code",
   "execution_count": 179,
   "metadata": {},
   "outputs": [
    {
     "data": {
      "text/html": [
       "<div>\n",
       "<style scoped>\n",
       "    .dataframe tbody tr th:only-of-type {\n",
       "        vertical-align: middle;\n",
       "    }\n",
       "\n",
       "    .dataframe tbody tr th {\n",
       "        vertical-align: top;\n",
       "    }\n",
       "\n",
       "    .dataframe thead th {\n",
       "        text-align: right;\n",
       "    }\n",
       "</style>\n",
       "<table border=\"1\" class=\"dataframe\">\n",
       "  <thead>\n",
       "    <tr style=\"text-align: right;\">\n",
       "      <th></th>\n",
       "      <th>AGE</th>\n",
       "      <th>SEX</th>\n",
       "      <th>BMI</th>\n",
       "      <th>BP</th>\n",
       "      <th>S1</th>\n",
       "      <th>S2</th>\n",
       "      <th>S3</th>\n",
       "      <th>S4</th>\n",
       "      <th>S5</th>\n",
       "      <th>S6</th>\n",
       "    </tr>\n",
       "  </thead>\n",
       "  <tbody>\n",
       "    <tr>\n",
       "      <th>0</th>\n",
       "      <td>59</td>\n",
       "      <td>2</td>\n",
       "      <td>32.1</td>\n",
       "      <td>101.00</td>\n",
       "      <td>157</td>\n",
       "      <td>93.2</td>\n",
       "      <td>38.0</td>\n",
       "      <td>4.00</td>\n",
       "      <td>4.8598</td>\n",
       "      <td>87</td>\n",
       "    </tr>\n",
       "    <tr>\n",
       "      <th>1</th>\n",
       "      <td>48</td>\n",
       "      <td>1</td>\n",
       "      <td>21.6</td>\n",
       "      <td>87.00</td>\n",
       "      <td>183</td>\n",
       "      <td>103.2</td>\n",
       "      <td>70.0</td>\n",
       "      <td>3.00</td>\n",
       "      <td>3.8918</td>\n",
       "      <td>69</td>\n",
       "    </tr>\n",
       "    <tr>\n",
       "      <th>2</th>\n",
       "      <td>72</td>\n",
       "      <td>2</td>\n",
       "      <td>30.5</td>\n",
       "      <td>93.00</td>\n",
       "      <td>156</td>\n",
       "      <td>93.6</td>\n",
       "      <td>41.0</td>\n",
       "      <td>4.00</td>\n",
       "      <td>4.6728</td>\n",
       "      <td>85</td>\n",
       "    </tr>\n",
       "    <tr>\n",
       "      <th>3</th>\n",
       "      <td>24</td>\n",
       "      <td>1</td>\n",
       "      <td>25.3</td>\n",
       "      <td>84.00</td>\n",
       "      <td>198</td>\n",
       "      <td>131.4</td>\n",
       "      <td>40.0</td>\n",
       "      <td>5.00</td>\n",
       "      <td>4.8903</td>\n",
       "      <td>89</td>\n",
       "    </tr>\n",
       "    <tr>\n",
       "      <th>4</th>\n",
       "      <td>50</td>\n",
       "      <td>1</td>\n",
       "      <td>23.0</td>\n",
       "      <td>101.00</td>\n",
       "      <td>192</td>\n",
       "      <td>125.4</td>\n",
       "      <td>52.0</td>\n",
       "      <td>4.00</td>\n",
       "      <td>4.2905</td>\n",
       "      <td>80</td>\n",
       "    </tr>\n",
       "    <tr>\n",
       "      <th>5</th>\n",
       "      <td>23</td>\n",
       "      <td>1</td>\n",
       "      <td>22.6</td>\n",
       "      <td>89.00</td>\n",
       "      <td>139</td>\n",
       "      <td>64.8</td>\n",
       "      <td>61.0</td>\n",
       "      <td>2.00</td>\n",
       "      <td>4.1897</td>\n",
       "      <td>68</td>\n",
       "    </tr>\n",
       "    <tr>\n",
       "      <th>6</th>\n",
       "      <td>36</td>\n",
       "      <td>2</td>\n",
       "      <td>22.0</td>\n",
       "      <td>90.00</td>\n",
       "      <td>160</td>\n",
       "      <td>99.6</td>\n",
       "      <td>50.0</td>\n",
       "      <td>3.00</td>\n",
       "      <td>3.9512</td>\n",
       "      <td>82</td>\n",
       "    </tr>\n",
       "    <tr>\n",
       "      <th>7</th>\n",
       "      <td>66</td>\n",
       "      <td>2</td>\n",
       "      <td>26.2</td>\n",
       "      <td>114.00</td>\n",
       "      <td>255</td>\n",
       "      <td>185.0</td>\n",
       "      <td>56.0</td>\n",
       "      <td>4.55</td>\n",
       "      <td>4.2485</td>\n",
       "      <td>92</td>\n",
       "    </tr>\n",
       "    <tr>\n",
       "      <th>8</th>\n",
       "      <td>60</td>\n",
       "      <td>2</td>\n",
       "      <td>32.1</td>\n",
       "      <td>83.00</td>\n",
       "      <td>179</td>\n",
       "      <td>119.4</td>\n",
       "      <td>42.0</td>\n",
       "      <td>4.00</td>\n",
       "      <td>4.4773</td>\n",
       "      <td>94</td>\n",
       "    </tr>\n",
       "    <tr>\n",
       "      <th>9</th>\n",
       "      <td>29</td>\n",
       "      <td>1</td>\n",
       "      <td>30.0</td>\n",
       "      <td>85.00</td>\n",
       "      <td>180</td>\n",
       "      <td>93.4</td>\n",
       "      <td>43.0</td>\n",
       "      <td>4.00</td>\n",
       "      <td>5.3845</td>\n",
       "      <td>88</td>\n",
       "    </tr>\n",
       "    <tr>\n",
       "      <th>10</th>\n",
       "      <td>22</td>\n",
       "      <td>1</td>\n",
       "      <td>18.6</td>\n",
       "      <td>97.00</td>\n",
       "      <td>114</td>\n",
       "      <td>57.6</td>\n",
       "      <td>46.0</td>\n",
       "      <td>2.00</td>\n",
       "      <td>3.9512</td>\n",
       "      <td>83</td>\n",
       "    </tr>\n",
       "    <tr>\n",
       "      <th>11</th>\n",
       "      <td>56</td>\n",
       "      <td>2</td>\n",
       "      <td>28.0</td>\n",
       "      <td>85.00</td>\n",
       "      <td>184</td>\n",
       "      <td>144.8</td>\n",
       "      <td>32.0</td>\n",
       "      <td>6.00</td>\n",
       "      <td>3.5835</td>\n",
       "      <td>77</td>\n",
       "    </tr>\n",
       "    <tr>\n",
       "      <th>12</th>\n",
       "      <td>53</td>\n",
       "      <td>1</td>\n",
       "      <td>23.7</td>\n",
       "      <td>92.00</td>\n",
       "      <td>186</td>\n",
       "      <td>109.2</td>\n",
       "      <td>62.0</td>\n",
       "      <td>3.00</td>\n",
       "      <td>4.3041</td>\n",
       "      <td>81</td>\n",
       "    </tr>\n",
       "    <tr>\n",
       "      <th>13</th>\n",
       "      <td>50</td>\n",
       "      <td>2</td>\n",
       "      <td>26.2</td>\n",
       "      <td>97.00</td>\n",
       "      <td>186</td>\n",
       "      <td>105.4</td>\n",
       "      <td>49.0</td>\n",
       "      <td>4.00</td>\n",
       "      <td>5.0626</td>\n",
       "      <td>88</td>\n",
       "    </tr>\n",
       "    <tr>\n",
       "      <th>14</th>\n",
       "      <td>61</td>\n",
       "      <td>1</td>\n",
       "      <td>24.0</td>\n",
       "      <td>91.00</td>\n",
       "      <td>202</td>\n",
       "      <td>115.4</td>\n",
       "      <td>72.0</td>\n",
       "      <td>3.00</td>\n",
       "      <td>4.2905</td>\n",
       "      <td>73</td>\n",
       "    </tr>\n",
       "    <tr>\n",
       "      <th>15</th>\n",
       "      <td>34</td>\n",
       "      <td>2</td>\n",
       "      <td>24.7</td>\n",
       "      <td>118.00</td>\n",
       "      <td>254</td>\n",
       "      <td>184.2</td>\n",
       "      <td>39.0</td>\n",
       "      <td>7.00</td>\n",
       "      <td>5.0370</td>\n",
       "      <td>81</td>\n",
       "    </tr>\n",
       "    <tr>\n",
       "      <th>16</th>\n",
       "      <td>47</td>\n",
       "      <td>1</td>\n",
       "      <td>30.3</td>\n",
       "      <td>109.00</td>\n",
       "      <td>207</td>\n",
       "      <td>100.2</td>\n",
       "      <td>70.0</td>\n",
       "      <td>3.00</td>\n",
       "      <td>5.2149</td>\n",
       "      <td>98</td>\n",
       "    </tr>\n",
       "    <tr>\n",
       "      <th>17</th>\n",
       "      <td>68</td>\n",
       "      <td>2</td>\n",
       "      <td>27.5</td>\n",
       "      <td>111.00</td>\n",
       "      <td>214</td>\n",
       "      <td>147.0</td>\n",
       "      <td>39.0</td>\n",
       "      <td>5.00</td>\n",
       "      <td>4.9416</td>\n",
       "      <td>91</td>\n",
       "    </tr>\n",
       "    <tr>\n",
       "      <th>18</th>\n",
       "      <td>38</td>\n",
       "      <td>1</td>\n",
       "      <td>25.4</td>\n",
       "      <td>84.00</td>\n",
       "      <td>162</td>\n",
       "      <td>103.0</td>\n",
       "      <td>42.0</td>\n",
       "      <td>4.00</td>\n",
       "      <td>4.4427</td>\n",
       "      <td>87</td>\n",
       "    </tr>\n",
       "    <tr>\n",
       "      <th>19</th>\n",
       "      <td>41</td>\n",
       "      <td>1</td>\n",
       "      <td>24.7</td>\n",
       "      <td>83.00</td>\n",
       "      <td>187</td>\n",
       "      <td>108.2</td>\n",
       "      <td>60.0</td>\n",
       "      <td>3.00</td>\n",
       "      <td>4.5433</td>\n",
       "      <td>78</td>\n",
       "    </tr>\n",
       "    <tr>\n",
       "      <th>20</th>\n",
       "      <td>35</td>\n",
       "      <td>1</td>\n",
       "      <td>21.1</td>\n",
       "      <td>82.00</td>\n",
       "      <td>156</td>\n",
       "      <td>87.8</td>\n",
       "      <td>50.0</td>\n",
       "      <td>3.00</td>\n",
       "      <td>4.5109</td>\n",
       "      <td>95</td>\n",
       "    </tr>\n",
       "    <tr>\n",
       "      <th>21</th>\n",
       "      <td>25</td>\n",
       "      <td>2</td>\n",
       "      <td>24.3</td>\n",
       "      <td>95.00</td>\n",
       "      <td>162</td>\n",
       "      <td>98.6</td>\n",
       "      <td>54.0</td>\n",
       "      <td>3.00</td>\n",
       "      <td>3.8501</td>\n",
       "      <td>87</td>\n",
       "    </tr>\n",
       "    <tr>\n",
       "      <th>22</th>\n",
       "      <td>25</td>\n",
       "      <td>1</td>\n",
       "      <td>26.0</td>\n",
       "      <td>92.00</td>\n",
       "      <td>187</td>\n",
       "      <td>120.4</td>\n",
       "      <td>56.0</td>\n",
       "      <td>3.00</td>\n",
       "      <td>3.9703</td>\n",
       "      <td>88</td>\n",
       "    </tr>\n",
       "    <tr>\n",
       "      <th>23</th>\n",
       "      <td>61</td>\n",
       "      <td>2</td>\n",
       "      <td>32.0</td>\n",
       "      <td>103.67</td>\n",
       "      <td>210</td>\n",
       "      <td>85.2</td>\n",
       "      <td>35.0</td>\n",
       "      <td>6.00</td>\n",
       "      <td>6.1070</td>\n",
       "      <td>124</td>\n",
       "    </tr>\n",
       "    <tr>\n",
       "      <th>24</th>\n",
       "      <td>31</td>\n",
       "      <td>1</td>\n",
       "      <td>29.7</td>\n",
       "      <td>88.00</td>\n",
       "      <td>167</td>\n",
       "      <td>103.4</td>\n",
       "      <td>48.0</td>\n",
       "      <td>4.00</td>\n",
       "      <td>4.3567</td>\n",
       "      <td>78</td>\n",
       "    </tr>\n",
       "    <tr>\n",
       "      <th>25</th>\n",
       "      <td>30</td>\n",
       "      <td>2</td>\n",
       "      <td>25.2</td>\n",
       "      <td>83.00</td>\n",
       "      <td>178</td>\n",
       "      <td>118.4</td>\n",
       "      <td>34.0</td>\n",
       "      <td>5.00</td>\n",
       "      <td>4.8520</td>\n",
       "      <td>83</td>\n",
       "    </tr>\n",
       "    <tr>\n",
       "      <th>26</th>\n",
       "      <td>19</td>\n",
       "      <td>1</td>\n",
       "      <td>19.2</td>\n",
       "      <td>87.00</td>\n",
       "      <td>124</td>\n",
       "      <td>54.0</td>\n",
       "      <td>57.0</td>\n",
       "      <td>2.00</td>\n",
       "      <td>4.1744</td>\n",
       "      <td>90</td>\n",
       "    </tr>\n",
       "    <tr>\n",
       "      <th>27</th>\n",
       "      <td>42</td>\n",
       "      <td>1</td>\n",
       "      <td>31.9</td>\n",
       "      <td>83.00</td>\n",
       "      <td>158</td>\n",
       "      <td>87.6</td>\n",
       "      <td>53.0</td>\n",
       "      <td>3.00</td>\n",
       "      <td>4.4659</td>\n",
       "      <td>101</td>\n",
       "    </tr>\n",
       "    <tr>\n",
       "      <th>28</th>\n",
       "      <td>63</td>\n",
       "      <td>1</td>\n",
       "      <td>24.4</td>\n",
       "      <td>73.00</td>\n",
       "      <td>160</td>\n",
       "      <td>91.4</td>\n",
       "      <td>48.0</td>\n",
       "      <td>3.00</td>\n",
       "      <td>4.6347</td>\n",
       "      <td>78</td>\n",
       "    </tr>\n",
       "    <tr>\n",
       "      <th>29</th>\n",
       "      <td>67</td>\n",
       "      <td>2</td>\n",
       "      <td>25.8</td>\n",
       "      <td>113.00</td>\n",
       "      <td>158</td>\n",
       "      <td>54.2</td>\n",
       "      <td>64.0</td>\n",
       "      <td>2.00</td>\n",
       "      <td>5.2933</td>\n",
       "      <td>104</td>\n",
       "    </tr>\n",
       "    <tr>\n",
       "      <th>...</th>\n",
       "      <td>...</td>\n",
       "      <td>...</td>\n",
       "      <td>...</td>\n",
       "      <td>...</td>\n",
       "      <td>...</td>\n",
       "      <td>...</td>\n",
       "      <td>...</td>\n",
       "      <td>...</td>\n",
       "      <td>...</td>\n",
       "      <td>...</td>\n",
       "    </tr>\n",
       "    <tr>\n",
       "      <th>412</th>\n",
       "      <td>69</td>\n",
       "      <td>1</td>\n",
       "      <td>34.3</td>\n",
       "      <td>113.00</td>\n",
       "      <td>200</td>\n",
       "      <td>123.8</td>\n",
       "      <td>54.0</td>\n",
       "      <td>4.00</td>\n",
       "      <td>4.7095</td>\n",
       "      <td>112</td>\n",
       "    </tr>\n",
       "    <tr>\n",
       "      <th>413</th>\n",
       "      <td>34</td>\n",
       "      <td>1</td>\n",
       "      <td>26.3</td>\n",
       "      <td>87.00</td>\n",
       "      <td>197</td>\n",
       "      <td>120.0</td>\n",
       "      <td>63.0</td>\n",
       "      <td>3.00</td>\n",
       "      <td>4.2485</td>\n",
       "      <td>96</td>\n",
       "    </tr>\n",
       "    <tr>\n",
       "      <th>414</th>\n",
       "      <td>71</td>\n",
       "      <td>2</td>\n",
       "      <td>27.0</td>\n",
       "      <td>93.33</td>\n",
       "      <td>269</td>\n",
       "      <td>190.2</td>\n",
       "      <td>41.0</td>\n",
       "      <td>6.56</td>\n",
       "      <td>5.2417</td>\n",
       "      <td>93</td>\n",
       "    </tr>\n",
       "    <tr>\n",
       "      <th>415</th>\n",
       "      <td>47</td>\n",
       "      <td>1</td>\n",
       "      <td>27.2</td>\n",
       "      <td>80.00</td>\n",
       "      <td>208</td>\n",
       "      <td>145.6</td>\n",
       "      <td>38.0</td>\n",
       "      <td>6.00</td>\n",
       "      <td>4.8040</td>\n",
       "      <td>92</td>\n",
       "    </tr>\n",
       "    <tr>\n",
       "      <th>416</th>\n",
       "      <td>41</td>\n",
       "      <td>1</td>\n",
       "      <td>33.8</td>\n",
       "      <td>123.33</td>\n",
       "      <td>187</td>\n",
       "      <td>127.0</td>\n",
       "      <td>45.0</td>\n",
       "      <td>4.16</td>\n",
       "      <td>4.3175</td>\n",
       "      <td>100</td>\n",
       "    </tr>\n",
       "    <tr>\n",
       "      <th>417</th>\n",
       "      <td>34</td>\n",
       "      <td>1</td>\n",
       "      <td>33.0</td>\n",
       "      <td>73.00</td>\n",
       "      <td>178</td>\n",
       "      <td>114.6</td>\n",
       "      <td>51.0</td>\n",
       "      <td>3.49</td>\n",
       "      <td>4.1271</td>\n",
       "      <td>92</td>\n",
       "    </tr>\n",
       "    <tr>\n",
       "      <th>418</th>\n",
       "      <td>51</td>\n",
       "      <td>1</td>\n",
       "      <td>24.1</td>\n",
       "      <td>87.00</td>\n",
       "      <td>261</td>\n",
       "      <td>175.6</td>\n",
       "      <td>69.0</td>\n",
       "      <td>4.00</td>\n",
       "      <td>4.4067</td>\n",
       "      <td>93</td>\n",
       "    </tr>\n",
       "    <tr>\n",
       "      <th>419</th>\n",
       "      <td>43</td>\n",
       "      <td>1</td>\n",
       "      <td>21.3</td>\n",
       "      <td>79.00</td>\n",
       "      <td>141</td>\n",
       "      <td>78.8</td>\n",
       "      <td>53.0</td>\n",
       "      <td>3.00</td>\n",
       "      <td>3.8286</td>\n",
       "      <td>90</td>\n",
       "    </tr>\n",
       "    <tr>\n",
       "      <th>420</th>\n",
       "      <td>55</td>\n",
       "      <td>1</td>\n",
       "      <td>23.0</td>\n",
       "      <td>94.67</td>\n",
       "      <td>190</td>\n",
       "      <td>137.6</td>\n",
       "      <td>38.0</td>\n",
       "      <td>5.00</td>\n",
       "      <td>4.2767</td>\n",
       "      <td>106</td>\n",
       "    </tr>\n",
       "    <tr>\n",
       "      <th>421</th>\n",
       "      <td>59</td>\n",
       "      <td>2</td>\n",
       "      <td>27.9</td>\n",
       "      <td>101.00</td>\n",
       "      <td>218</td>\n",
       "      <td>144.2</td>\n",
       "      <td>38.0</td>\n",
       "      <td>6.00</td>\n",
       "      <td>5.1874</td>\n",
       "      <td>95</td>\n",
       "    </tr>\n",
       "    <tr>\n",
       "      <th>422</th>\n",
       "      <td>27</td>\n",
       "      <td>2</td>\n",
       "      <td>33.6</td>\n",
       "      <td>110.00</td>\n",
       "      <td>246</td>\n",
       "      <td>156.6</td>\n",
       "      <td>57.0</td>\n",
       "      <td>4.00</td>\n",
       "      <td>5.0876</td>\n",
       "      <td>89</td>\n",
       "    </tr>\n",
       "    <tr>\n",
       "      <th>423</th>\n",
       "      <td>51</td>\n",
       "      <td>2</td>\n",
       "      <td>22.7</td>\n",
       "      <td>103.00</td>\n",
       "      <td>217</td>\n",
       "      <td>162.4</td>\n",
       "      <td>30.0</td>\n",
       "      <td>7.00</td>\n",
       "      <td>4.8122</td>\n",
       "      <td>80</td>\n",
       "    </tr>\n",
       "    <tr>\n",
       "      <th>424</th>\n",
       "      <td>49</td>\n",
       "      <td>2</td>\n",
       "      <td>27.4</td>\n",
       "      <td>89.00</td>\n",
       "      <td>177</td>\n",
       "      <td>113.0</td>\n",
       "      <td>37.0</td>\n",
       "      <td>5.00</td>\n",
       "      <td>4.9053</td>\n",
       "      <td>97</td>\n",
       "    </tr>\n",
       "    <tr>\n",
       "      <th>425</th>\n",
       "      <td>27</td>\n",
       "      <td>1</td>\n",
       "      <td>22.6</td>\n",
       "      <td>71.00</td>\n",
       "      <td>116</td>\n",
       "      <td>43.4</td>\n",
       "      <td>56.0</td>\n",
       "      <td>2.00</td>\n",
       "      <td>4.4188</td>\n",
       "      <td>79</td>\n",
       "    </tr>\n",
       "    <tr>\n",
       "      <th>426</th>\n",
       "      <td>57</td>\n",
       "      <td>2</td>\n",
       "      <td>23.2</td>\n",
       "      <td>107.33</td>\n",
       "      <td>231</td>\n",
       "      <td>159.4</td>\n",
       "      <td>41.0</td>\n",
       "      <td>5.63</td>\n",
       "      <td>5.0304</td>\n",
       "      <td>112</td>\n",
       "    </tr>\n",
       "    <tr>\n",
       "      <th>427</th>\n",
       "      <td>39</td>\n",
       "      <td>2</td>\n",
       "      <td>26.9</td>\n",
       "      <td>93.00</td>\n",
       "      <td>136</td>\n",
       "      <td>75.4</td>\n",
       "      <td>48.0</td>\n",
       "      <td>3.00</td>\n",
       "      <td>4.1431</td>\n",
       "      <td>99</td>\n",
       "    </tr>\n",
       "    <tr>\n",
       "      <th>428</th>\n",
       "      <td>62</td>\n",
       "      <td>2</td>\n",
       "      <td>34.6</td>\n",
       "      <td>120.00</td>\n",
       "      <td>215</td>\n",
       "      <td>129.2</td>\n",
       "      <td>43.0</td>\n",
       "      <td>5.00</td>\n",
       "      <td>5.3660</td>\n",
       "      <td>123</td>\n",
       "    </tr>\n",
       "    <tr>\n",
       "      <th>429</th>\n",
       "      <td>37</td>\n",
       "      <td>1</td>\n",
       "      <td>23.3</td>\n",
       "      <td>88.00</td>\n",
       "      <td>223</td>\n",
       "      <td>142.0</td>\n",
       "      <td>65.0</td>\n",
       "      <td>3.40</td>\n",
       "      <td>4.3567</td>\n",
       "      <td>82</td>\n",
       "    </tr>\n",
       "    <tr>\n",
       "      <th>430</th>\n",
       "      <td>46</td>\n",
       "      <td>1</td>\n",
       "      <td>21.1</td>\n",
       "      <td>80.00</td>\n",
       "      <td>205</td>\n",
       "      <td>144.4</td>\n",
       "      <td>42.0</td>\n",
       "      <td>5.00</td>\n",
       "      <td>4.5326</td>\n",
       "      <td>87</td>\n",
       "    </tr>\n",
       "    <tr>\n",
       "      <th>431</th>\n",
       "      <td>68</td>\n",
       "      <td>2</td>\n",
       "      <td>23.5</td>\n",
       "      <td>101.00</td>\n",
       "      <td>162</td>\n",
       "      <td>85.4</td>\n",
       "      <td>59.0</td>\n",
       "      <td>3.00</td>\n",
       "      <td>4.4773</td>\n",
       "      <td>91</td>\n",
       "    </tr>\n",
       "    <tr>\n",
       "      <th>432</th>\n",
       "      <td>51</td>\n",
       "      <td>1</td>\n",
       "      <td>31.5</td>\n",
       "      <td>93.00</td>\n",
       "      <td>231</td>\n",
       "      <td>144.0</td>\n",
       "      <td>49.0</td>\n",
       "      <td>4.70</td>\n",
       "      <td>5.2523</td>\n",
       "      <td>117</td>\n",
       "    </tr>\n",
       "    <tr>\n",
       "      <th>433</th>\n",
       "      <td>41</td>\n",
       "      <td>1</td>\n",
       "      <td>20.8</td>\n",
       "      <td>86.00</td>\n",
       "      <td>223</td>\n",
       "      <td>128.2</td>\n",
       "      <td>83.0</td>\n",
       "      <td>3.00</td>\n",
       "      <td>4.0775</td>\n",
       "      <td>89</td>\n",
       "    </tr>\n",
       "    <tr>\n",
       "      <th>434</th>\n",
       "      <td>53</td>\n",
       "      <td>1</td>\n",
       "      <td>26.5</td>\n",
       "      <td>97.00</td>\n",
       "      <td>193</td>\n",
       "      <td>122.4</td>\n",
       "      <td>58.0</td>\n",
       "      <td>3.00</td>\n",
       "      <td>4.1431</td>\n",
       "      <td>99</td>\n",
       "    </tr>\n",
       "    <tr>\n",
       "      <th>435</th>\n",
       "      <td>45</td>\n",
       "      <td>1</td>\n",
       "      <td>24.2</td>\n",
       "      <td>83.00</td>\n",
       "      <td>177</td>\n",
       "      <td>118.4</td>\n",
       "      <td>45.0</td>\n",
       "      <td>4.00</td>\n",
       "      <td>4.2195</td>\n",
       "      <td>82</td>\n",
       "    </tr>\n",
       "    <tr>\n",
       "      <th>436</th>\n",
       "      <td>33</td>\n",
       "      <td>1</td>\n",
       "      <td>19.5</td>\n",
       "      <td>80.00</td>\n",
       "      <td>171</td>\n",
       "      <td>85.4</td>\n",
       "      <td>75.0</td>\n",
       "      <td>2.00</td>\n",
       "      <td>3.9703</td>\n",
       "      <td>80</td>\n",
       "    </tr>\n",
       "    <tr>\n",
       "      <th>437</th>\n",
       "      <td>60</td>\n",
       "      <td>2</td>\n",
       "      <td>28.2</td>\n",
       "      <td>112.00</td>\n",
       "      <td>185</td>\n",
       "      <td>113.8</td>\n",
       "      <td>42.0</td>\n",
       "      <td>4.00</td>\n",
       "      <td>4.9836</td>\n",
       "      <td>93</td>\n",
       "    </tr>\n",
       "    <tr>\n",
       "      <th>438</th>\n",
       "      <td>47</td>\n",
       "      <td>2</td>\n",
       "      <td>24.9</td>\n",
       "      <td>75.00</td>\n",
       "      <td>225</td>\n",
       "      <td>166.0</td>\n",
       "      <td>42.0</td>\n",
       "      <td>5.00</td>\n",
       "      <td>4.4427</td>\n",
       "      <td>102</td>\n",
       "    </tr>\n",
       "    <tr>\n",
       "      <th>439</th>\n",
       "      <td>60</td>\n",
       "      <td>2</td>\n",
       "      <td>24.9</td>\n",
       "      <td>99.67</td>\n",
       "      <td>162</td>\n",
       "      <td>106.6</td>\n",
       "      <td>43.0</td>\n",
       "      <td>3.77</td>\n",
       "      <td>4.1271</td>\n",
       "      <td>95</td>\n",
       "    </tr>\n",
       "    <tr>\n",
       "      <th>440</th>\n",
       "      <td>36</td>\n",
       "      <td>1</td>\n",
       "      <td>30.0</td>\n",
       "      <td>95.00</td>\n",
       "      <td>201</td>\n",
       "      <td>125.2</td>\n",
       "      <td>42.0</td>\n",
       "      <td>4.79</td>\n",
       "      <td>5.1299</td>\n",
       "      <td>85</td>\n",
       "    </tr>\n",
       "    <tr>\n",
       "      <th>441</th>\n",
       "      <td>36</td>\n",
       "      <td>1</td>\n",
       "      <td>19.6</td>\n",
       "      <td>71.00</td>\n",
       "      <td>250</td>\n",
       "      <td>133.2</td>\n",
       "      <td>97.0</td>\n",
       "      <td>3.00</td>\n",
       "      <td>4.5951</td>\n",
       "      <td>92</td>\n",
       "    </tr>\n",
       "  </tbody>\n",
       "</table>\n",
       "<p>442 rows × 10 columns</p>\n",
       "</div>"
      ],
      "text/plain": [
       "     AGE  SEX   BMI      BP   S1     S2    S3    S4      S5   S6\n",
       "0     59    2  32.1  101.00  157   93.2  38.0  4.00  4.8598   87\n",
       "1     48    1  21.6   87.00  183  103.2  70.0  3.00  3.8918   69\n",
       "2     72    2  30.5   93.00  156   93.6  41.0  4.00  4.6728   85\n",
       "3     24    1  25.3   84.00  198  131.4  40.0  5.00  4.8903   89\n",
       "4     50    1  23.0  101.00  192  125.4  52.0  4.00  4.2905   80\n",
       "5     23    1  22.6   89.00  139   64.8  61.0  2.00  4.1897   68\n",
       "6     36    2  22.0   90.00  160   99.6  50.0  3.00  3.9512   82\n",
       "7     66    2  26.2  114.00  255  185.0  56.0  4.55  4.2485   92\n",
       "8     60    2  32.1   83.00  179  119.4  42.0  4.00  4.4773   94\n",
       "9     29    1  30.0   85.00  180   93.4  43.0  4.00  5.3845   88\n",
       "10    22    1  18.6   97.00  114   57.6  46.0  2.00  3.9512   83\n",
       "11    56    2  28.0   85.00  184  144.8  32.0  6.00  3.5835   77\n",
       "12    53    1  23.7   92.00  186  109.2  62.0  3.00  4.3041   81\n",
       "13    50    2  26.2   97.00  186  105.4  49.0  4.00  5.0626   88\n",
       "14    61    1  24.0   91.00  202  115.4  72.0  3.00  4.2905   73\n",
       "15    34    2  24.7  118.00  254  184.2  39.0  7.00  5.0370   81\n",
       "16    47    1  30.3  109.00  207  100.2  70.0  3.00  5.2149   98\n",
       "17    68    2  27.5  111.00  214  147.0  39.0  5.00  4.9416   91\n",
       "18    38    1  25.4   84.00  162  103.0  42.0  4.00  4.4427   87\n",
       "19    41    1  24.7   83.00  187  108.2  60.0  3.00  4.5433   78\n",
       "20    35    1  21.1   82.00  156   87.8  50.0  3.00  4.5109   95\n",
       "21    25    2  24.3   95.00  162   98.6  54.0  3.00  3.8501   87\n",
       "22    25    1  26.0   92.00  187  120.4  56.0  3.00  3.9703   88\n",
       "23    61    2  32.0  103.67  210   85.2  35.0  6.00  6.1070  124\n",
       "24    31    1  29.7   88.00  167  103.4  48.0  4.00  4.3567   78\n",
       "25    30    2  25.2   83.00  178  118.4  34.0  5.00  4.8520   83\n",
       "26    19    1  19.2   87.00  124   54.0  57.0  2.00  4.1744   90\n",
       "27    42    1  31.9   83.00  158   87.6  53.0  3.00  4.4659  101\n",
       "28    63    1  24.4   73.00  160   91.4  48.0  3.00  4.6347   78\n",
       "29    67    2  25.8  113.00  158   54.2  64.0  2.00  5.2933  104\n",
       "..   ...  ...   ...     ...  ...    ...   ...   ...     ...  ...\n",
       "412   69    1  34.3  113.00  200  123.8  54.0  4.00  4.7095  112\n",
       "413   34    1  26.3   87.00  197  120.0  63.0  3.00  4.2485   96\n",
       "414   71    2  27.0   93.33  269  190.2  41.0  6.56  5.2417   93\n",
       "415   47    1  27.2   80.00  208  145.6  38.0  6.00  4.8040   92\n",
       "416   41    1  33.8  123.33  187  127.0  45.0  4.16  4.3175  100\n",
       "417   34    1  33.0   73.00  178  114.6  51.0  3.49  4.1271   92\n",
       "418   51    1  24.1   87.00  261  175.6  69.0  4.00  4.4067   93\n",
       "419   43    1  21.3   79.00  141   78.8  53.0  3.00  3.8286   90\n",
       "420   55    1  23.0   94.67  190  137.6  38.0  5.00  4.2767  106\n",
       "421   59    2  27.9  101.00  218  144.2  38.0  6.00  5.1874   95\n",
       "422   27    2  33.6  110.00  246  156.6  57.0  4.00  5.0876   89\n",
       "423   51    2  22.7  103.00  217  162.4  30.0  7.00  4.8122   80\n",
       "424   49    2  27.4   89.00  177  113.0  37.0  5.00  4.9053   97\n",
       "425   27    1  22.6   71.00  116   43.4  56.0  2.00  4.4188   79\n",
       "426   57    2  23.2  107.33  231  159.4  41.0  5.63  5.0304  112\n",
       "427   39    2  26.9   93.00  136   75.4  48.0  3.00  4.1431   99\n",
       "428   62    2  34.6  120.00  215  129.2  43.0  5.00  5.3660  123\n",
       "429   37    1  23.3   88.00  223  142.0  65.0  3.40  4.3567   82\n",
       "430   46    1  21.1   80.00  205  144.4  42.0  5.00  4.5326   87\n",
       "431   68    2  23.5  101.00  162   85.4  59.0  3.00  4.4773   91\n",
       "432   51    1  31.5   93.00  231  144.0  49.0  4.70  5.2523  117\n",
       "433   41    1  20.8   86.00  223  128.2  83.0  3.00  4.0775   89\n",
       "434   53    1  26.5   97.00  193  122.4  58.0  3.00  4.1431   99\n",
       "435   45    1  24.2   83.00  177  118.4  45.0  4.00  4.2195   82\n",
       "436   33    1  19.5   80.00  171   85.4  75.0  2.00  3.9703   80\n",
       "437   60    2  28.2  112.00  185  113.8  42.0  4.00  4.9836   93\n",
       "438   47    2  24.9   75.00  225  166.0  42.0  5.00  4.4427  102\n",
       "439   60    2  24.9   99.67  162  106.6  43.0  3.77  4.1271   95\n",
       "440   36    1  30.0   95.00  201  125.2  42.0  4.79  5.1299   85\n",
       "441   36    1  19.6   71.00  250  133.2  97.0  3.00  4.5951   92\n",
       "\n",
       "[442 rows x 10 columns]"
      ]
     },
     "execution_count": 179,
     "metadata": {},
     "output_type": "execute_result"
    }
   ],
   "source": [
    "X"
   ]
  },
  {
   "cell_type": "code",
   "execution_count": 180,
   "metadata": {},
   "outputs": [
    {
     "data": {
      "text/plain": [
       "0      151\n",
       "1       75\n",
       "2      141\n",
       "3      206\n",
       "4      135\n",
       "5       97\n",
       "6      138\n",
       "7       63\n",
       "8      110\n",
       "9      310\n",
       "10     101\n",
       "11      69\n",
       "12     179\n",
       "13     185\n",
       "14     118\n",
       "15     171\n",
       "16     166\n",
       "17     144\n",
       "18      97\n",
       "19     168\n",
       "20      68\n",
       "21      49\n",
       "22      68\n",
       "23     245\n",
       "24     184\n",
       "25     202\n",
       "26     137\n",
       "27      85\n",
       "28     131\n",
       "29     283\n",
       "      ... \n",
       "412    261\n",
       "413    113\n",
       "414    131\n",
       "415    174\n",
       "416    257\n",
       "417     55\n",
       "418     84\n",
       "419     42\n",
       "420    146\n",
       "421    212\n",
       "422    233\n",
       "423     91\n",
       "424    111\n",
       "425    152\n",
       "426    120\n",
       "427     67\n",
       "428    310\n",
       "429     94\n",
       "430    183\n",
       "431     66\n",
       "432    173\n",
       "433     72\n",
       "434     49\n",
       "435     64\n",
       "436     48\n",
       "437    178\n",
       "438    104\n",
       "439    132\n",
       "440    220\n",
       "441     57\n",
       "Name: Y, Length: 442, dtype: int64"
      ]
     },
     "execution_count": 180,
     "metadata": {},
     "output_type": "execute_result"
    }
   ],
   "source": [
    "y"
   ]
  },
  {
   "cell_type": "code",
   "execution_count": 181,
   "metadata": {},
   "outputs": [
    {
     "data": {
      "image/png": "[encoded data removed]",
      "text/plain": [
       "<Figure size 1152x1152 with 10 Axes>"
      ]
     },
     "metadata": {},
     "output_type": "display_data"
    }
   ],
   "source": [
    "fig, axes = plt.subplots(5, 2, sharex=True, sharey=True, figsize=(16, 16))\n",
    "cnt = 0\n",
    "for s in X.columns:\n",
    "    axes[cnt // 2][cnt % 2].scatter(list(X[s]), list(y))\n",
    "    cnt += 1\n",
    "plt.show()"
   ]
  },
  {
   "cell_type": "code",
   "execution_count": 182,
   "metadata": {},
   "outputs": [],
   "source": [
    "old_X = X\n",
    "import math"
   ]
  },
  {
   "cell_type": "code",
   "execution_count": 185,
   "metadata": {},
   "outputs": [],
   "source": [
    "def calc():\n",
    "    lambdas = np.arange(0.1, 3.0, 0.15)\n",
    "    lambdas_error = []\n",
    "    for val in lambdas:\n",
    "        lambdas_error.append((val, -np.average(cross_val_score(Lasso(alpha=val), X, y, cv=10, scoring='neg_mean_squared_error'))))\n",
    "\n",
    "    min_lambda, min_val = min(lambdas_error, key=lambda x: x[1])\n",
    "\n",
    "    best_model = Lasso(alpha=min_lambda).fit(X, y)\n",
    "    for val in best_model.coef_:\n",
    "        print(\"{:.2f}\".format(val))\n",
    "    print(min_lambda, min_val)"
   ]
  },
  {
   "cell_type": "code",
   "execution_count": 187,
   "metadata": {},
   "outputs": [
    {
     "name": "stdout",
     "output_type": "stream",
     "text": [
      "6.93\n",
      "1.20\n",
      "-1.10\n",
      "0.63\n",
      "0.1 3384.4562679531555\n"
     ]
    }
   ],
   "source": [
    "list_of_params = [2, 3, 6, 9]\n",
    "list_of_columns = [old_X.columns[x] for x in list_of_params]\n",
    "X = old_X[list_of_columns]\n",
    "calc()"
   ]
  },
  {
   "cell_type": "code",
   "execution_count": 188,
   "metadata": {},
   "outputs": [
    {
     "name": "stdout",
     "output_type": "stream",
     "text": [
      "-0.03\n",
      "-22.32\n",
      "5.63\n",
      "1.11\n",
      "-0.93\n",
      "0.61\n",
      "0.18\n",
      "5.75\n",
      "64.33\n",
      "0.29\n",
      "0.1 3000.666958316517\n"
     ]
    }
   ],
   "source": [
    "list_of_params = np.arange(10)\n",
    "list_of_columns = [old_X.columns[x] for x in list_of_params]\n",
    "X = old_X[list_of_columns]\n",
    "calc()"
   ]
  },
  {
   "cell_type": "code",
   "execution_count": 186,
   "metadata": {},
   "outputs": [
    {
     "name": "stdout",
     "output_type": "stream",
     "text": [
      "-22.41\n",
      "5.63\n",
      "1.11\n",
      "-0.93\n",
      "0.61\n",
      "0.17\n",
      "5.77\n",
      "64.17\n",
      "0.28\n",
      "0.1 2973.1971145058546\n"
     ]
    }
   ],
   "source": [
    "list_of_params = np.arange(1, 10)\n",
    "list_of_columns = [old_X.columns[x] for x in list_of_params]\n",
    "X = old_X[list_of_columns]\n",
    "calc()"
   ]
  },
  {
   "cell_type": "markdown",
   "metadata": {},
   "source": [
    "Ваша задача - провести то же исследование, что и в датасете в самом начале (Sales ~ TV, Radio, Newspaper). В итоге, нужно получить модель линейной регрессии, качество которой надо вывести с помощью cross_val_score с метрикой MSE (тоже самое в общем)."
   ]
  },
  {
   "cell_type": "markdown",
   "metadata": {},
   "source": [
    "За каждое достойное улучшение качества на cross_val_score будут доп. баллы. Не забудьте описать, что использовали, что получилось и нет, а также попробуйте понять почему. Побольше гуглите. "
   ]
  },
  {
   "cell_type": "markdown",
   "metadata": {},
   "source": [
    "Возможные улучшения:\n",
    "* Нормализация данных: вычитаем из каждой колонки её среднее и делим на её дисперсию.\n",
    "* Пробуйте убрать ненужные признаки.\n",
    "* Можно перемножать некоторые признаки.\n",
    "* Погуглите что-то вроде \"improve linear regression\"."
   ]
  },
  {
   "cell_type": "markdown",
   "metadata": {},
   "source": [
    "В общем, представьте, что вы работаете датасаентистом, получаете 300к долларов, а вам сказали, что нужно как можно лучше уметь предсказывать такие данные."
   ]
  },
  {
   "cell_type": "markdown",
   "metadata": {},
   "source": [
    "# Вот тут мой текст"
   ]
  },
  {
   "cell_type": "markdown",
   "metadata": {},
   "source": [
    "Сначала я построил графики для всех параметров. Посмотрел на хорошие признаки, выбрал те, которые понравились больше. Запустил на них, получил mse 3384."
   ]
  },
  {
   "cell_type": "markdown",
   "metadata": {},
   "source": [
    "Дальше я решил запустить на всех признаках и посмотреть, что получится/ mse = 3000, есть параметр, который регрессия почти занулила - первый"
   ]
  },
  {
   "cell_type": "markdown",
   "metadata": {},
   "source": [
    "Теперь уберем первый признак и запустим алгоритм еще раз. mse < 3000, ура"
   ]
  }
 ],
 "metadata": {
  "kernelspec": {
   "display_name": "Python 3",
   "language": "python",
   "name": "python3"
  },
  "language_info": {
   "codemirror_mode": {
    "name": "ipython",
    "version": 3
   },
   "file_extension": ".py",
   "mimetype": "text/x-python",
   "name": "python",
   "nbconvert_exporter": "python",
   "pygments_lexer": "ipython3",
   "version": "3.5.5"
  }
 },
 "nbformat": 4,
 "nbformat_minor": 2
}
