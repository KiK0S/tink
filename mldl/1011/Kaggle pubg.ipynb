{
 "cells": [
  {
   "cell_type": "code",
   "execution_count": null,
   "metadata": {},
   "outputs": [],
   "source": [
    "import numpy as np\n",
    "import pandas as pd\n",
    "import matplotlib.pyplot as plt\n",
    "from sklearn.ensemble import RandomForestRegressor\n",
    "from sklearn.linear_model import LinearRegression\n",
    "from sklearn.svm import  LinearSVR\n",
    "from sklearn.preprocessing import MinMaxScaler, StandardScaler\n",
    "from sklearn.model_selection import cross_val_score"
   ]
  },
  {
   "cell_type": "code",
   "execution_count": null,
   "metadata": {},
   "outputs": [],
   "source": [
    "data = pd.read_csv('./train_V2.csv')\n",
    "data.head()"
   ]
  },
  {
   "cell_type": "code",
   "execution_count": null,
   "metadata": {},
   "outputs": [],
   "source": [
    "def prepare(X):\n",
    "    dct = {}\n",
    "    for a, b, c in zip(X.matchId, X.damageDealt, range(X.shape[0])):\n",
    "        if a not in dct:\n",
    "            dct[a] = []\n",
    "        dct[a].append((b, c))\n",
    "    X['dd_place'] = np.zeros(X.shape[0])\n",
    "    for x in dct.values():\n",
    "        x.sort()\n",
    "        for i in range(len(x)):\n",
    "            X['dd_place'].at[x[i][1]] = i\n",
    "    X['boosts+heals'] = X['boosts'] + X['heals']\n",
    "    X['headshot_rate'] = X['headshotKills'] / X['kills']\n",
    "    X['headshot_rate'] = X['headshot_rate'].fillna(0)\n",
    "    X['groupId'] = X['groupId'].astype('category')\n",
    "    X['matchId'] = X['matchId'].astype('category')\n",
    "    X['groupId_cat'] = X['groupId'].cat.codes\n",
    "    X['matchId_cat'] = X['matchId'].cat.codes\n",
    "    X.drop(columns=['groupId', 'matchId', 'Id'], inplace=True)\n",
    "    X = pd.get_dummies(X, columns=['matchType'])\n",
    "    X['rankPoints'] = X['rankPoints'].replace(-1, np.nan)\n",
    "    X['winPoints'] = X['winPoints'].replace(0, np.nan)\n",
    "    X.fillna(X.mean(), inplace=True)\n",
    "#     X = StandardScaler().fit_transform(X)\n",
    "    return X"
   ]
  },
  {
   "cell_type": "code",
   "execution_count": null,
   "metadata": {
    "scrolled": true
   },
   "outputs": [],
   "source": [
    "y_train = data.winPlacePerc\n",
    "y_train.fillna(y_train.mean())\n",
    "X_train = prepare(data.copy().drop(axis=1, columns=['winPlacePerc']))\n",
    "y_train = y_train.fillna(y_train.mean())"
   ]
  },
  {
   "cell_type": "code",
   "execution_count": null,
   "metadata": {},
   "outputs": [],
   "source": [
    "model = RandomForestRegressor(n_jobs=-1)"
   ]
  },
  {
   "cell_type": "code",
   "execution_count": null,
   "metadata": {
    "scrolled": true
   },
   "outputs": [],
   "source": [
    "# -cross_val_score(model, X_train, y_train, scoring='neg_mean_absolute_error').mean()"
   ]
  },
  {
   "cell_type": "code",
   "execution_count": null,
   "metadata": {},
   "outputs": [],
   "source": [
    "data_test = pd.read_csv('./test_V2.csv')\n",
    "Id = list(data_test['Id'])\n",
    "X_test = prepare(data_test.copy())\n",
    "y_pred = model.fit(X_train, y_train).predict(X_test)\n",
    "pd.DataFrame({'Id' : Id, 'winPlacePerc' : y_pred}).to_csv('sample_submission.csv', index=False)"
   ]
  },
  {
   "cell_type": "markdown",
   "metadata": {},
   "source": [
    "# Что вообще тут происходит\n",
    "\n",
    "1. Для каждого матча сортируем игроков по урону, который он нанес(гипотеза - если чел нанес ооочень много урона про другим, то он, наверное, крут). А если почти не нанес, то скорее всего он умер в самом начале.\n",
    "2. Считаем \"меткость стрелка\" - частота хедшотов.\n",
    "3. boosts ~= heals, поэтому го считать и отдельно, и вместе.\n",
    "4. Переводим Id в категории - говорят, что это может быть полезно\n",
    "5. Смотрим на тип матча, делаем OH\n",
    "6. Заменяем все плохие значения на среднее\n",
    "7. Запускаем на этом случайный лес\n",
    "\n",
    "Скор - 0.0604"
   ]
  }
 ],
 "metadata": {
  "kernelspec": {
   "display_name": "Python 3",
   "language": "python",
   "name": "python3"
  },
  "language_info": {
   "codemirror_mode": {
    "name": "ipython",
    "version": 3
   },
   "file_extension": ".py",
   "mimetype": "text/x-python",
   "name": "python",
   "nbconvert_exporter": "python",
   "pygments_lexer": "ipython3",
   "version": "3.5.5"
  }
 },
 "nbformat": 4,
 "nbformat_minor": 2
}
