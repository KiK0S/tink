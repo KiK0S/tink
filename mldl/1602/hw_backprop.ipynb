{
 "cells": [
  {
   "cell_type": "markdown",
   "metadata": {},
   "source": [
    "# Backprop своими руками"
   ]
  },
  {
   "cell_type": "markdown",
   "metadata": {},
   "source": [
    "Материалы:\n",
    "\n",
    "* [Andrew Karpahy: yes, you should understand backprop](https://medium.com/@karpathy/yes-you-should-understand-backprop-e2f06eab496b)\n",
    "* [Stanford CS231n](http://cs231n.stanford.edu/)\n",
    "* [Deep Learning](http://sereja.me/f/deep_learning_goodfellow.pdf) — с 204 страницы и до прозрения\n",
    "* [Xavier, Bengio](http://proceedings.mlr.press/v9/glorot10a/glorot10a.pdf)"
   ]
  },
  {
   "cell_type": "markdown",
   "metadata": {},
   "source": [
    "<img width='800px' src='https://cdn-images-1.medium.com/max/1600/1*q1M7LGiDTirwU-4LcFq7_Q.png'>"
   ]
  },
  {
   "cell_type": "markdown",
   "metadata": {},
   "source": [
    "Иногда сети пишут на чистом C++, причём код для обучения и инференса (реального прогона в продакшне) — отдельно. Так делают, когда нужен очень быстрый отклик и высокая производительность, но это очень трудоемко.\n",
    "\n",
    "Большинство людей не усложняют себе жизнь и просто используют фреймворки — с ними можно просто почти декларативно описать, какие операции хотите сделать с данными, а он потом сам построит сеть и подгонит её под данные.\n",
    "\n",
    "Ваше задание — реализовать свой небольшой фреймворк глубокого обучения на чистом `numpy`. Основное время у вас должно уйти на вывод формул для градиентов, анализ поведения самых часто используемых слоев в современных нейросетях и прочий матан. Хотя бы один раз в жизни это надо сделать, а уже потом пользоваться готовыми абстракциями."
   ]
  },
  {
   "cell_type": "markdown",
   "metadata": {},
   "source": [
    "Предполагаемый порядок выполнения:\n",
    "* Поймите на высоком уровне, как работает алгоритм backpropagation\n",
    "* Изучите пример с логиситической регрессией, чтобы понять, что от вас в итоге хотят\n",
    "* Изучите код `Module`\n",
    "* `Sequential`\n",
    "* `Linear`\n",
    "* `SoftMax`\n",
    "* `CrossEntropy`\n",
    "* Протестируйте их на логситической регрессии\n",
    "* Напишите код для решения MNIST\n",
    "* Дописывайте остальные слои, пока не получите на нём 97%"
   ]
  },
  {
   "cell_type": "markdown",
   "metadata": {},
   "source": [
    "Оценивание (суммарно до 20 баллов):\n",
    "* 5 баллов -- что-то хоть как-то обучается, MNIST на валидации >90%\n",
    "* 2 балла -- MNIST на 95%, дальше по одному баллу за 96%, 97% и 98%. Это будет сделать намного сложнее, чем через PyTorch, потому что вам всё нужно писать самим: более сложные оптимизаторы, learning rate decay, думать про численную стабильность и т. д.\n",
    "* По 2 балла за слои: LeakyReLU, Dropout, BatchNorm, CrossEntropy, SoftMax"
   ]
  },
  {
   "cell_type": "markdown",
   "metadata": {},
   "source": [
    "Советы:\n",
    "* Чтобы лучше понять, что должно в итоге получиться, изучите «игрушечный пример» и вообще эту тетрадку, а потом начните читать `hw_framework.py`, где будет более техничное описание.\n",
    "* Для дебага проверяйте градиенты численно — сдвигайте параметры на какой-нибудь эпсилон и смотрите разницу. Ещё можете проверить, что на одинаковых данных они дают то же, что их эквиваленты из PyTorch.\n",
    "* Пишите код без циклов — в питоне они очень долгие; все вычисления можно делать внутри numpy.\n",
    "* Ограничение на срок сдачи большое -- месяц. Дописывайте его постепенно, разбираясь, как работает каждая функция активации.\n",
    "* Обсуждайте математику и общую архитектуру фреймворка, но не шарьте друг другу код — так не интересно."
   ]
  },
  {
   "cell_type": "code",
   "execution_count": 153,
   "metadata": {},
   "outputs": [],
   "source": [
    "import numpy as np\n",
    "import matplotlib.pyplot as plt\n",
    "%matplotlib inline"
   ]
  },
  {
   "cell_type": "markdown",
   "metadata": {},
   "source": [
    "---"
   ]
  },
  {
   "cell_type": "markdown",
   "metadata": {},
   "source": [
    "Откройте в Jupyter две тетрадки — эту и `hw_framework.ipynb`. В этой содержится train loop, а там непосредственно ваш «фреймворк», который вам ещё предстоит написать.\n",
    "\n",
    "Архитектура фреймворка вдохновлена PyTorch. Аналогично языковой модели с отбора, если придумаете какой-то более клёвый дизайн — можете использовать его."
   ]
  },
  {
   "cell_type": "code",
   "execution_count": 164,
   "metadata": {},
   "outputs": [
    {
     "name": "stdout",
     "output_type": "stream",
     "text": [
      "CPU times: user 461 ms, sys: 0 ns, total: 461 ms\n",
      "Wall time: 232 ms\n",
      "CPU times: user 36.2 ms, sys: 0 ns, total: 36.2 ms\n",
      "Wall time: 18.2 ms\n"
     ]
    }
   ],
   "source": [
    "%run hw_framework.ipynb"
   ]
  },
  {
   "cell_type": "markdown",
   "metadata": {},
   "source": [
    "Мы будем использовать самый простой вариант градиентного спуска: просто пройдемся по всем параметрам и сделаем шаги в сторону уменьшения посчитанного заранее градиента.\n",
    "\n",
    "Есть [более продвинутые методы](http://ruder.io/optimizing-gradient-descent/), но пока что мы их использовать не будем."
   ]
  },
  {
   "cell_type": "code",
   "execution_count": 165,
   "metadata": {},
   "outputs": [],
   "source": [
    "def SGD(params, gradients, lr=1e-3):    \n",
    "    for weights, gradient in zip(params, gradients):\n",
    "        #print(type(lr), type(gradient))\n",
    "        #print(lr, gradient)\n",
    "        weights -= lr * gradient"
   ]
  },
  {
   "cell_type": "markdown",
   "metadata": {},
   "source": [
    "Cоздадим обертку вокруг нашего датасета (просто numpy-евские массивы), которую будем потом использовать, чтобы итерироваться по нему."
   ]
  },
  {
   "cell_type": "code",
   "execution_count": 166,
   "metadata": {},
   "outputs": [],
   "source": [
    "def loader(X, Y, batch_size):    \n",
    "    n = X.shape[0]\n",
    "\n",
    "    # в начале каждой эпохи будем всё перемешивать\n",
    "    # важно, что мы пермешиваем индексы, а не X\n",
    "    indices = np.arange(n)\n",
    "    np.random.shuffle(indices)\n",
    "    \n",
    "    for start in range(0, n, batch_size):\n",
    "        # в конце нам, возможно, нужно взять неполный батч\n",
    "        end = min(start + batch_size, n)\n",
    "        \n",
    "        batch_idx = indices[start:end]\n",
    "    \n",
    "        yield X[batch_idx], Y[batch_idx]"
   ]
  },
  {
   "cell_type": "markdown",
   "metadata": {},
   "source": [
    "В следующих двух секциях — игрушечные примеры регрессии и классификации на синтезированных данных. В них ничего менять не надо — они нужны, чтобы отдебажить ваши слои в `hw_modules`."
   ]
  },
  {
   "cell_type": "markdown",
   "metadata": {},
   "source": [
    "# Линейная регрессия"
   ]
  },
  {
   "cell_type": "code",
   "execution_count": 167,
   "metadata": {
    "scrolled": true
   },
   "outputs": [
    {
     "name": "stdout",
     "output_type": "stream",
     "text": [
      "best_possible_mse: 0.0\n"
     ]
    }
   ],
   "source": [
    "n = 1000\n",
    "\n",
    "X = np.random.randn(n, 10)\n",
    "true_w = np.random.randn(10, 1)\n",
    "Y = np.dot(X, true_w).reshape(n)# + np.random.randn()/5\n",
    "\n",
    "print('best_possible_mse:', np.mean(np.power(Y-np.dot(X, true_w).reshape(n), 2)))"
   ]
  },
  {
   "cell_type": "markdown",
   "metadata": {},
   "source": [
    "### Модель"
   ]
  },
  {
   "cell_type": "code",
   "execution_count": 168,
   "metadata": {},
   "outputs": [],
   "source": [
    "model = Sequential(\n",
    "    Linear(10, 3),\n",
    "    LeakyReLU(),\n",
    "    Linear(3, 1)\n",
    ")\n",
    "\n",
    "criterion = MSE()"
   ]
  },
  {
   "cell_type": "markdown",
   "metadata": {},
   "source": [
    "Можете тут потом тестировать остальные свои слои, когда их напишите."
   ]
  },
  {
   "cell_type": "markdown",
   "metadata": {},
   "source": [
    "### Обучение"
   ]
  },
  {
   "cell_type": "code",
   "execution_count": 169,
   "metadata": {},
   "outputs": [],
   "source": [
    "epochs = 10\n",
    "batch_size = 10\n",
    "learning_rate = 1e-2"
   ]
  },
  {
   "cell_type": "code",
   "execution_count": 170,
   "metadata": {},
   "outputs": [
    {
     "data": {
      "image/png": "[encoded data removed]",
      "text/plain": [
       "<Figure size 432x288 with 1 Axes>"
      ]
     },
     "metadata": {},
     "output_type": "display_data"
    }
   ],
   "source": [
    "history = []\n",
    "\n",
    "for i in range(epochs):\n",
    "    for x, y_true in loader(X, Y, batch_size):\n",
    "        # forward -- считаем все значения до функции потерь\n",
    "        y_pred = model.forward(x)\n",
    "        y_true = y_true.reshape(batch_size, -1)\n",
    "        loss = criterion.forward(y_pred, y_true)\n",
    "        \n",
    "#         print(y_pred, y_true)\n",
    "#         print('SUM OF SQUARES:', np.mean(np.power(y_pred-y_true, 2)))\n",
    "    \n",
    "        # backward -- считаем все градиенты в обратном порядке\n",
    "        grad = criterion.backward(y_pred, y_true)\n",
    "        model.backward(x, grad)\n",
    "        \n",
    "        # обновляем веса\n",
    "        SGD(model.parameters(),\n",
    "            model.grad_parameters(),\n",
    "            learning_rate)\n",
    "        \n",
    "        #print(model.layers[0].W[0][0])        \n",
    "        history.append(loss)\n",
    "\n",
    "    \n",
    "plt.title(\"Training loss\")\n",
    "plt.xlabel(\"iteration\")\n",
    "plt.ylabel(\"loss\")\n",
    "plt.plot(history, 'b')\n",
    "plt.show()"
   ]
  },
  {
   "cell_type": "markdown",
   "metadata": {},
   "source": [
    "# Логистическая регрессия\n",
    "\n",
    "Этот пример нужнен для теситрования классификации (`CrossEntropy` и `SoftMax`).\n",
    "\n",
    "Возьмем в качестве датасета точки из двух гауссиан на плоскости."
   ]
  },
  {
   "cell_type": "code",
   "execution_count": 9,
   "metadata": {
    "scrolled": true
   },
   "outputs": [
    {
     "data": {
      "image/png": "[encoded data removed]",
      "text/plain": [
       "<Figure size 432x288 with 1 Axes>"
      ]
     },
     "metadata": {},
     "output_type": "display_data"
    }
   ],
   "source": [
    "n = 500\n",
    "\n",
    "X1 = np.random.randn(n, 2) + np.array([2, 2])\n",
    "X2 = np.random.randn(n, 2) + np.array([-2, -2])\n",
    "X = np.vstack([X1, X2])\n",
    "\n",
    "Y = np.concatenate([np.ones(n), np.zeros(n)])[:, None]\n",
    "Y = np.hstack([Y, 1-Y])\n",
    "\n",
    "plt.scatter(X[:,0], X[:,1], c=Y[:,0])\n",
    "plt.show()"
   ]
  },
  {
   "cell_type": "markdown",
   "metadata": {},
   "source": [
    "Обратите внимание на `y`. Он в формате one-hot: у каждого вектора все нули, кроме одной единицы.\n",
    "\n",
    "Выходные данные в таком формате упростят написание `CrossEntropy`."
   ]
  },
  {
   "cell_type": "markdown",
   "metadata": {},
   "source": [
    "### Модель\n",
    "\n",
    "\n",
    "Логистическая регрессия — это тоже как бы маленькая нейронка: линейный слой, софтмакс, и максимизируем правдоподобие."
   ]
  },
  {
   "cell_type": "code",
   "execution_count": 10,
   "metadata": {},
   "outputs": [],
   "source": [
    "model = Sequential(\n",
    "    Linear(2, 2),\n",
    "    ReLU(),\n",
    "    Linear(2, 2),\n",
    "    SoftMax()\n",
    ")\n",
    "\n",
    "criterion = CrossEntropy()"
   ]
  },
  {
   "cell_type": "markdown",
   "metadata": {},
   "source": [
    "### Обучение"
   ]
  },
  {
   "cell_type": "code",
   "execution_count": 11,
   "metadata": {},
   "outputs": [],
   "source": [
    "epochs = 50\n",
    "batch_size = 8\n",
    "learning_rate = 1e-2"
   ]
  },
  {
   "cell_type": "code",
   "execution_count": 12,
   "metadata": {},
   "outputs": [],
   "source": [
    "def accuracy(y_pred, y_true):\n",
    "#     print(y_pred)\n",
    "    y_pred = y_pred.argmax(axis=1)\n",
    "    y_true = y_true.argmax(axis=1)\n",
    "#     print(y_pred, y_true)\n",
    "    return (y_pred == y_true).sum() / len(y_true)"
   ]
  },
  {
   "cell_type": "code",
   "execution_count": 13,
   "metadata": {
    "scrolled": false
   },
   "outputs": [
    {
     "data": {
      "image/png": "[encoded data removed]",
      "text/plain": [
       "<Figure size 432x288 with 1 Axes>"
      ]
     },
     "metadata": {},
     "output_type": "display_data"
    }
   ],
   "source": [
    "history = []\n",
    "\n",
    "for i in range(epochs):\n",
    "    lst = []\n",
    "    pr = False\n",
    "    for x, y_true in loader(X, Y, batch_size):\n",
    "        # forward -- считаем все значения до функции потерь\n",
    "        y_pred = model.forward(x)\n",
    "        if pr:\n",
    "            print(y_pred)\n",
    "            print(y_true)\n",
    "            print()\n",
    "            pr = False\n",
    "        lst.append(accuracy(y_pred, y_true))\n",
    "        loss = criterion.forward(y_pred, y_true)\n",
    "#         print(loss.mean())\n",
    "        # backward -- считаем все градиенты в обратном порядке\n",
    "        grad = criterion.backward(y_pred, y_true)\n",
    "        model.backward(x, grad)\n",
    "#         history.append(accuracy(y_pred, y_true))\n",
    "        # обновляем веса\n",
    "        SGD(model.parameters(),\n",
    "            model.grad_parameters(),\n",
    "            learning_rate)\n",
    "    learning_rate *= 0.99\n",
    "    learning_rate = max(learning_rate, 1e-5)\n",
    "    history.append(np.array(lst).sum() / len(lst))\n",
    "        \n",
    "\n",
    "    \n",
    "plt.title(\"Training loss\")\n",
    "plt.xlabel(\"iteration\")\n",
    "plt.ylabel(\"loss\")\n",
    "plt.plot(history, 'b')\n",
    "plt.show()"
   ]
  },
  {
   "cell_type": "markdown",
   "metadata": {},
   "source": [
    "Мы тут пропустили много важных деталей: валидация, подсчет точности (кроссэнтропия не очень инфорамативна), регуляризация. Вам всё это нужно будет реализовать потом самим."
   ]
  },
  {
   "cell_type": "markdown",
   "metadata": {},
   "source": [
    "# Теперь сами"
   ]
  },
  {
   "cell_type": "code",
   "execution_count": 193,
   "metadata": {},
   "outputs": [],
   "source": [
    "import os\n",
    "import mnist\n",
    "\n",
    "# mnist.init()\n",
    "\n",
    "X_train, y_train, X_test, y_test = mnist.load()"
   ]
  },
  {
   "cell_type": "markdown",
   "metadata": {},
   "source": [
    "Переведите лейблы в one-hot."
   ]
  },
  {
   "cell_type": "code",
   "execution_count": 194,
   "metadata": {},
   "outputs": [],
   "source": [
    "def process(y):\n",
    "    ny = np.zeros((y.shape[0], 10))\n",
    "    for a, b in enumerate(y):\n",
    "        ny[a][b] = 1\n",
    "    return ny\n",
    "y_train = process(y_train)\n",
    "y_test = process(y_test)"
   ]
  },
  {
   "cell_type": "code",
   "execution_count": 195,
   "metadata": {},
   "outputs": [
    {
     "data": {
      "text/plain": [
       "array([[0., 0., 0., 0., 0., 1., 0., 0., 0., 0.],\n",
       "       [1., 0., 0., 0., 0., 0., 0., 0., 0., 0.],\n",
       "       [0., 0., 0., 0., 1., 0., 0., 0., 0., 0.]])"
      ]
     },
     "execution_count": 195,
     "metadata": {},
     "output_type": "execute_result"
    }
   ],
   "source": [
    "y_train[:3]"
   ]
  },
  {
   "cell_type": "code",
   "execution_count": 196,
   "metadata": {},
   "outputs": [
    {
     "data": {
      "text/plain": [
       "(60000, 784)"
      ]
     },
     "execution_count": 196,
     "metadata": {},
     "output_type": "execute_result"
    }
   ],
   "source": [
    "X_train.shape"
   ]
  },
  {
   "cell_type": "code",
   "execution_count": 197,
   "metadata": {},
   "outputs": [
    {
     "data": {
      "image/png": "[encoded data removed]",
      "text/plain": [
       "<Figure size 432x288 with 1 Axes>"
      ]
     },
     "metadata": {},
     "output_type": "display_data"
    }
   ],
   "source": [
    "import matplotlib.pyplot as plt\n",
    "\n",
    "plt.gray()\n",
    "plt.imshow(X_train[:3].reshape(-1, 28))\n",
    "plt.show()"
   ]
  },
  {
   "cell_type": "markdown",
   "metadata": {},
   "source": [
    "Теперь напишите модель и train loop. Можете начать с адаптации предыдущего примера.\n",
    "\n",
    "Дальше начинается творческая часть и настоящий Deep Learning:\n",
    "* Поиграйтесь с архитектурами\n",
    "* Поиграйтесь с learning rate и batch_size\n",
    "* Сделайте learning rate decay\n",
    "* Сделайте data augmentation"
   ]
  },
  {
   "cell_type": "code",
   "execution_count": 239,
   "metadata": {},
   "outputs": [
    {
     "name": "stdout",
     "output_type": "stream",
     "text": [
      "CPU times: user 484 ms, sys: 0 ns, total: 484 ms\n",
      "Wall time: 244 ms\n",
      "CPU times: user 44.6 ms, sys: 0 ns, total: 44.6 ms\n",
      "Wall time: 23.6 ms\n"
     ]
    }
   ],
   "source": [
    "%run hw_framework.ipynb"
   ]
  },
  {
   "cell_type": "code",
   "execution_count": 240,
   "metadata": {},
   "outputs": [],
   "source": [
    "model = Sequential(\n",
    "    Linear(784, 512),\n",
    "    LeakyReLU(),\n",
    "#     Dropout(0.7),\n",
    "    Linear(512, 256),\n",
    "#     Dropout(0.5),\n",
    "    LeakyReLU(),\n",
    "    Linear(256, 128),\n",
    "    LeakyReLU(),\n",
    "#     Dropout(0.5),\n",
    "    Linear(128, 32),\n",
    "    LeakyReLU(),\n",
    "#     Dropout(0.3),\n",
    "    Linear(32, 10),\n",
    "    Sigmoid(),\n",
    "    SoftMax()\n",
    ")\n",
    "\n",
    "criterion =  CrossEntropy()"
   ]
  },
  {
   "cell_type": "code",
   "execution_count": 241,
   "metadata": {},
   "outputs": [],
   "source": [
    "epochs = 50\n",
    "batch_size = 16\n",
    "learning_rate = 1e-2"
   ]
  },
  {
   "cell_type": "code",
   "execution_count": 242,
   "metadata": {},
   "outputs": [],
   "source": [
    "def accuracy(y_pred, y_true):\n",
    "    y_pred = y_pred.argmax(axis=1)\n",
    "    y_true = y_true.argmax(axis=1)\n",
    "    return (y_pred == y_true).sum() / len(y_true)"
   ]
  },
  {
   "cell_type": "code",
   "execution_count": 243,
   "metadata": {},
   "outputs": [
    {
     "data": {
      "image/png": "[encoded data removed]",
      "text/plain": [
       "<Figure size 432x288 with 1 Axes>"
      ]
     },
     "metadata": {},
     "output_type": "display_data"
    }
   ],
   "source": [
    "history = []\n",
    "an_history = []\n",
    "\n",
    "for i in range(epochs):\n",
    "    lst = []\n",
    "    pr = False\n",
    "    cnt = 0\n",
    "    model.train()\n",
    "    for x, y_true in loader(X_test, y_test, batch_size):\n",
    "        cnt += 1\n",
    "        y_pred = model.forward(x)\n",
    "        if pr:\n",
    "            print(y_pred)\n",
    "            print(y_true)\n",
    "            print()\n",
    "            pr = False\n",
    "        lst.append(accuracy(y_pred, y_true))\n",
    "        loss = criterion.forward(y_pred, y_true)\n",
    "#         print(loss.mean())\n",
    "        grad = criterion.backward(y_pred, y_true)\n",
    "        model.backward(x, grad)\n",
    "#         history.append(accuracy(y_pred, y_true))\n",
    "        SGD(model.parameters(),\n",
    "            model.grad_parameters(),\n",
    "            learning_rate)\n",
    "    learning_rate *= 0.9999\n",
    "    learning_rate = max(learning_rate, 1e-5)\n",
    "    model.eval()\n",
    "    y_pred = model.forward(X_test)\n",
    "    an_history.append(accuracy(y_pred, y_test))\n",
    "    history.append(np.array(lst).sum() / len(lst))\n",
    "        \n",
    "\n",
    "    \n",
    "plt.title(\"Training loss\")\n",
    "plt.xlabel(\"iteration\")\n",
    "plt.ylabel(\"loss\")\n",
    "plt.plot(history, 'b')\n",
    "plt.plot(an_history, 'r')\n",
    "plt.show()"
   ]
  },
  {
   "cell_type": "code",
   "execution_count": 244,
   "metadata": {},
   "outputs": [
    {
     "data": {
      "text/plain": [
       "0.9815"
      ]
     },
     "execution_count": 244,
     "metadata": {},
     "output_type": "execute_result"
    }
   ],
   "source": [
    "y_pred = model.forward(X_test)\n",
    "accuracy(y_pred, y_test)"
   ]
  }
 ],
 "metadata": {
  "kernelspec": {
   "display_name": "Python 3",
   "language": "python",
   "name": "python3"
  },
  "language_info": {
   "codemirror_mode": {
    "name": "ipython",
    "version": 3
   },
   "file_extension": ".py",
   "mimetype": "text/x-python",
   "name": "python",
   "nbconvert_exporter": "python",
   "pygments_lexer": "ipython3",
   "version": "3.5.5"
  }
 },
 "nbformat": 4,
 "nbformat_minor": 1
}
