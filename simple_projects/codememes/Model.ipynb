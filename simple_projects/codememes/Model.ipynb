{
 "cells": [
  {
   "cell_type": "code",
   "execution_count": 2,
   "metadata": {},
   "outputs": [],
   "source": [
    "import gensim\n",
    "import random\n",
    "import itertools\n",
    "from math import exp, log2\n",
    "from sklearn.utils.extmath import softmax\n",
    "from gensim.models.keyedvectors import KeyedVectors\n",
    "from Levenshtein import distance as levenshtein_distance\n",
    "from matplotlib import pyplot as plt\n",
    "%matplotlib inline"
   ]
  },
  {
   "cell_type": "code",
   "execution_count": 3,
   "metadata": {},
   "outputs": [],
   "source": [
    "model = KeyedVectors.load_word2vec_format('model_prime.txt')"
   ]
  },
  {
   "cell_type": "code",
   "execution_count": 234,
   "metadata": {},
   "outputs": [],
   "source": [
    "PROFITS = {\n",
    "    'r': 1,\n",
    "    'b': -1.5,\n",
    "    'd': -1000,\n",
    "    'w': -0.7\n",
    "}"
   ]
  },
  {
   "cell_type": "code",
   "execution_count": 235,
   "metadata": {},
   "outputs": [],
   "source": [
    "class Word:\n",
    "    def __init__(self):\n",
    "        self.word = ''\n",
    "        self.marker = ''\n",
    "    \n",
    "    def __init__(self, s, marker=''):\n",
    "        self.word = s.lower().replace('\\xad', '').replace('ё', 'е')\n",
    "        self.marker = marker\n",
    "    \n",
    "    def __repr__(self):\n",
    "        return self.word + '_' + self.marker\n",
    "    \n",
    "    def make_random(self):\n",
    "        self.cnt = 0\n",
    "        self.dict = {}\n",
    "    \n",
    "    def calc_profit(self):\n",
    "        self.profit = 0\n",
    "        if self.cnt == 0:\n",
    "            return\n",
    "        for a, b in PROFITS.items():\n",
    "            if not a in self.dict:\n",
    "                self.dict[a] = 0\n",
    "            self.profit += (self.dict[a] / self.cnt) * b"
   ]
  },
  {
   "cell_type": "code",
   "execution_count": 236,
   "metadata": {},
   "outputs": [],
   "source": [
    "class Field:\n",
    "    def __init__(self):\n",
    "        self.current = 0\n",
    "        self.n = 25\n",
    "        self.all = []\n",
    "    \n",
    "    def __iter__(self):\n",
    "        self.current = 0\n",
    "        return self\n",
    "    \n",
    "    def __next__(self):\n",
    "        if self.current == self.n:\n",
    "            raise StopIteration\n",
    "        result = self.all[self.current]\n",
    "        self.current += 1\n",
    "        return result\n",
    "\n",
    "    def __len__(self):\n",
    "        return len(self.all)\n",
    "    \n",
    "    def gen(self):\n",
    "        with open('words.txt') as f:\n",
    "            wordlist = f.readline().split()\n",
    "            wordlist = [x for x in wordlist]\n",
    "            markers = ['r'] * 9 + ['b'] * 8 + ['d'] * 1 + ['w'] * 7\n",
    "            self.all = [Word(x, y) for x, y in zip(random.sample(wordlist, self.n), markers)]\n",
    "    \n",
    "    def __repr__(self):\n",
    "        res = ''\n",
    "        for s in self:\n",
    "            res += str(s) + '\\n'\n",
    "        return res"
   ]
  },
  {
   "cell_type": "code",
   "execution_count": 272,
   "metadata": {},
   "outputs": [],
   "source": [
    "x = Field()\n",
    "x.gen()"
   ]
  },
  {
   "cell_type": "code",
   "execution_count": 238,
   "metadata": {},
   "outputs": [],
   "source": [
    "def similar_list(wordlist):\n",
    "    if len(wordlist) == 0:\n",
    "        return []\n",
    "    return model.most_similar(positive=wordlist)"
   ]
  },
  {
   "cell_type": "code",
   "execution_count": 239,
   "metadata": {},
   "outputs": [],
   "source": [
    "LEVENSHTEIN_THRESHOLD = 4\n",
    "SIMILARITY_THRESHOLD = 0.55\n",
    "def filtered_similars(wordlist):\n",
    "    unfiltered = similar_list(wordlist)\n",
    "    result = []\n",
    "    for s, dist in unfiltered:\n",
    "        ok = True\n",
    "        for parent in wordlist:\n",
    "            if levenshtein_distance(parent, s) <= LEVENSHTEIN_THRESHOLD or parent in s:\n",
    "                ok = False\n",
    "        if ok:\n",
    "            result.append((s, dist))\n",
    "    return result"
   ]
  },
  {
   "cell_type": "code",
   "execution_count": 240,
   "metadata": {},
   "outputs": [],
   "source": [
    "def query(wordlist):\n",
    "    return filtered_similars(wordlist)"
   ]
  },
  {
   "cell_type": "code",
   "execution_count": 241,
   "metadata": {},
   "outputs": [],
   "source": [
    "def find_candidates(field, marker='r'):\n",
    "    good_words = [x.word for x in field if x.marker == marker]\n",
    "    result = set()\n",
    "    for i in range(2, len(good_words)):\n",
    "        for lists in [query(_) for _ in list(itertools.combinations(good_words, i + 1))]:\n",
    "            for value in lists:\n",
    "                result.add(value[0])\n",
    "    return result"
   ]
  },
  {
   "cell_type": "code",
   "execution_count": 242,
   "metadata": {},
   "outputs": [],
   "source": [
    "def scaling(x):\n",
    "    return x # exp(x * 10)"
   ]
  },
  {
   "cell_type": "code",
   "execution_count": 243,
   "metadata": {},
   "outputs": [],
   "source": [
    "CAN_GUESS_THRESHOLD = 0.3\n",
    "def guess(field, word, top_n=-1):\n",
    "    pairs = []\n",
    "    random_word = Word('', 'random')\n",
    "    random_word.make_random()\n",
    "    for item in field:\n",
    "        if 'u' in item.marker:\n",
    "            continue\n",
    "        val = scaling(model.similarity(word, item.word))\n",
    "        if val > CAN_GUESS_THRESHOLD:\n",
    "            pairs.append((val, item))\n",
    "        else:\n",
    "            random_word.cnt += 1\n",
    "            if not item.marker in random_word.dict:\n",
    "                random_word.dict[item.marker] = 0\n",
    "            random_word.dict[item.marker] += 1\n",
    "    random_word.calc_profit()\n",
    "    if top_n != -1:\n",
    "        result = [(b, a) for a, b in sorted(pairs)[::-1]]\n",
    "        while len(result) < top_n:\n",
    "            result.append((random_word, 0))\n",
    "        return result[:top_n]\n",
    "    else:\n",
    "        return pairs"
   ]
  },
  {
   "cell_type": "code",
   "execution_count": 244,
   "metadata": {},
   "outputs": [],
   "source": [
    "def calc_profit(wordlist, marker):\n",
    "    result = 0\n",
    "    current_iter = 1\n",
    "    for x in wordlist:\n",
    "        if x.marker == 'random':\n",
    "            result += x.profit / log2(current_iter + 1)\n",
    "        else:\n",
    "            result += PROFITS[x.marker] / log2(current_iter + 1)\n",
    "        current_iter += 1\n",
    "    return result"
   ]
  },
  {
   "cell_type": "code",
   "execution_count": 245,
   "metadata": {},
   "outputs": [],
   "source": [
    "def bruteforce(field, marker):\n",
    "    candidates = find_candidates(field, marker)\n",
    "    all_moves = []\n",
    "    for number in range(1, len(field) + 1):\n",
    "        for word in candidates:\n",
    "            wordlist = [x for x, _ in guess(field, word, number)]\n",
    "            all_moves.append((calc_profit(wordlist, marker), (word, number), wordlist))\n",
    "    return sorted(all_moves)[::-1]"
   ]
  },
  {
   "cell_type": "code",
   "execution_count": 246,
   "metadata": {},
   "outputs": [],
   "source": [
    "def do_move(field):\n",
    "    return bruteforce(field, 'r')[0][1]"
   ]
  },
  {
   "cell_type": "code",
   "execution_count": 247,
   "metadata": {},
   "outputs": [],
   "source": [
    "def do_guess(field, word):\n",
    "    sorted_list = guess(field, word)\n",
    "    return sorted_list[0][1]"
   ]
  },
  {
   "cell_type": "code",
   "execution_count": 248,
   "metadata": {},
   "outputs": [],
   "source": [
    "def do_clear(field, word):\n",
    "    for i, w in enumerate(field):\n",
    "        if w.word == word:\n",
    "            field.all[i].marker += '_u'\n",
    "            return"
   ]
  },
  {
   "cell_type": "markdown",
   "metadata": {},
   "source": [
    "### ================== here is the bullshit line ==========================="
   ]
  },
  {
   "cell_type": "code",
   "execution_count": 249,
   "metadata": {},
   "outputs": [
    {
     "name": "stderr",
     "output_type": "stream",
     "text": [
      "/home/kikos/anaconda3/lib/python3.5/site-packages/gensim/matutils.py:737: FutureWarning: Conversion of the second argument of issubdtype from `int` to `np.signedinteger` is deprecated. In future, it will be treated as `np.int64 == np.dtype(int).type`.\n",
      "  if np.issubdtype(vec.dtype, np.int):\n"
     ]
    },
    {
     "name": "stdout",
     "output_type": "stream",
     "text": [
      "лад ['тональность', 'унисон', 'переиначивать', 'настраивый', 'мажорный', 'настрой']\n",
      "мир ['https://new.vk.com/club31377748']\n",
      "америка ['канада', 'сша', 'англия', 'европа', 'корея', 'куба', 'британия', 'бразилия']\n",
      "стадион ['лужники', 'спорткомплекс', 'ипподром', 'футбольный', 'болельщик', 'спортплощадка', 'баскетбольный', 'фан-зона', 'велотрек', 'корт']\n",
      "баня ['парилка', 'попариться', 'мыться', 'купальня']\n",
      "высота ['вершина', 'ширина', 'фут', 'верхотура', 'расстояние']\n",
      "глаз ['гектлазар']\n",
      "коса ['заплести', 'заплетать', 'расчесав', 'прядь']\n",
      "панель ['приборный', 'дисплей', 'кнопка', 'щиток', 'монитор', 'тумблер']\n",
      "дробь ['барабанный', 'чечетка', 'картечь', 'постукивание', 'перестук', 'выстукивать', 'морзянка']\n",
      "прибор ['аппаратура', 'датчик', 'сканнер', 'анализатор', 'измерительный', 'оборудование', 'агрегат', 'эхолот']\n",
      "эфир ['трансляция', 'телеканал', 'телевидение', 'радиоканал', 'транслировать', 'прайм-тайм']\n",
      "точка ['зрение', 'отправный', 'отправной', 'реперный', '-лун']\n",
      "кулак ['костяшка', 'сжать', 'локть', 'ладонь']\n",
      "привод ['электродвигатель', 'редуктор', 'электромотор', 'подшипник', 'трансмиссия', 'компрессор', 'гидроусилитель']\n",
      "лимузин ['мерседес', 'джип', 'кадиллак', 'кабриолет', 'авто', 'мерс', 'автомобиль', 'вольво', 'микроавтобус', 'бентли']\n",
      "бабочка ['мотылек', 'стрекоза', 'мотылька', 'капустница', 'шмель', 'жук', 'колибри', 'светлячок', 'махаон']\n",
      "бочка ['цистерна', 'двухсотлитровый', 'кадушка', 'ведро', 'канистра', 'канистр']\n",
      "корона ['диадема', 'тиар', 'скипетр', 'знак-кресть', 'престол', 'венец', 'престоловек']\n",
      "ясли ['детсад', 'детсада', 'ясельный', 'дошкольный', 'детсадик', 'роддом']\n",
      "салют ['фейерверк', 'феерверк', 'петарда', 'иллюминация', 'фанфара']\n",
      "башня ['донжон', 'шпиль', 'колокольня', 'цитадель', 'бойница']\n",
      "боевик ['террорист', 'моджахед', 'душман', 'повстанец', 'спецназовец', 'талиб', 'моджахеда', 'ополченец', 'сепаратист']\n",
      "якорь ['швартов', 'швартовый', 'трал', 'причал', 'баркас', 'буксир']\n",
      "такса ['болонка', 'собачонка', 'пудель', 'пекинес', 'песик', 'дворняжка', 'собачка']\n"
     ]
    }
   ],
   "source": [
    "for s in x.all:\n",
    "    print(s.word, [x[0] for x in query([s.word])])"
   ]
  },
  {
   "cell_type": "code",
   "execution_count": 250,
   "metadata": {},
   "outputs": [
    {
     "name": "stderr",
     "output_type": "stream",
     "text": [
      "/home/kikos/anaconda3/lib/python3.5/site-packages/gensim/matutils.py:737: FutureWarning: Conversion of the second argument of issubdtype from `int` to `np.signedinteger` is deprecated. In future, it will be treated as `np.int64 == np.dtype(int).type`.\n",
      "  if np.issubdtype(vec.dtype, np.int):\n"
     ]
    },
    {
     "data": {
      "text/plain": [
       "0.7408302"
      ]
     },
     "execution_count": 250,
     "metadata": {},
     "output_type": "execute_result"
    }
   ],
   "source": [
    "model.similarity('уточка', 'утка')"
   ]
  },
  {
   "cell_type": "code",
   "execution_count": 251,
   "metadata": {},
   "outputs": [
    {
     "data": {
      "text/plain": [
       "1"
      ]
     },
     "execution_count": 251,
     "metadata": {},
     "output_type": "execute_result"
    }
   ],
   "source": [
    "levenshtein_distance('a', 'b')"
   ]
  },
  {
   "cell_type": "code",
   "execution_count": 252,
   "metadata": {},
   "outputs": [
    {
     "data": {
      "text/plain": [
       "1"
      ]
     },
     "execution_count": 252,
     "metadata": {},
     "output_type": "execute_result"
    }
   ],
   "source": [
    "levenshtein_distance('ab', 'bab')"
   ]
  },
  {
   "cell_type": "code",
   "execution_count": 253,
   "metadata": {},
   "outputs": [
    {
     "data": {
      "text/plain": [
       "2"
      ]
     },
     "execution_count": 253,
     "metadata": {},
     "output_type": "execute_result"
    }
   ],
   "source": [
    "levenshtein_distance('bac', 'cab')"
   ]
  },
  {
   "cell_type": "code",
   "execution_count": 254,
   "metadata": {},
   "outputs": [
    {
     "name": "stderr",
     "output_type": "stream",
     "text": [
      "/home/kikos/anaconda3/lib/python3.5/site-packages/gensim/matutils.py:737: FutureWarning: Conversion of the second argument of issubdtype from `int` to `np.signedinteger` is deprecated. In future, it will be treated as `np.int64 == np.dtype(int).type`.\n",
      "  if np.issubdtype(vec.dtype, np.int):\n"
     ]
    },
    {
     "data": {
      "text/plain": [
       "[('движок', 0.6690325736999512),\n",
       " ('мотор', 0.6228243112564087),\n",
       " ('навигатор', 0.6082278490066528),\n",
       " ('турбина', 0.5876405239105225),\n",
       " ('движка', 0.5636513233184814),\n",
       " ('навигационный', 0.5631181001663208)]"
      ]
     },
     "execution_count": 254,
     "metadata": {},
     "output_type": "execute_result"
    }
   ],
   "source": [
    "query(['карта', 'двигатель'])"
   ]
  },
  {
   "cell_type": "code",
   "execution_count": 255,
   "metadata": {},
   "outputs": [
    {
     "name": "stderr",
     "output_type": "stream",
     "text": [
      "/home/kikos/anaconda3/lib/python3.5/site-packages/gensim/matutils.py:737: FutureWarning: Conversion of the second argument of issubdtype from `int` to `np.signedinteger` is deprecated. In future, it will be treated as `np.int64 == np.dtype(int).type`.\n",
      "  if np.issubdtype(vec.dtype, np.int):\n"
     ]
    },
    {
     "data": {
      "text/plain": [
       "[('хоккей', 0.8813096284866333),\n",
       " ('баскетбол', 0.823997974395752),\n",
       " ('волейбол', 0.758718729019165),\n",
       " ('регби', 0.7294275164604187),\n",
       " ('теннис', 0.722832202911377),\n",
       " ('чемпионат', 0.6435657739639282)]"
      ]
     },
     "execution_count": 255,
     "metadata": {},
     "output_type": "execute_result"
    }
   ],
   "source": [
    "query(['футбол'])"
   ]
  },
  {
   "cell_type": "code",
   "execution_count": 256,
   "metadata": {},
   "outputs": [
    {
     "name": "stderr",
     "output_type": "stream",
     "text": [
      "/home/kikos/anaconda3/lib/python3.5/site-packages/gensim/matutils.py:737: FutureWarning: Conversion of the second argument of issubdtype from `int` to `np.signedinteger` is deprecated. In future, it will be treated as `np.int64 == np.dtype(int).type`.\n",
      "  if np.issubdtype(vec.dtype, np.int):\n"
     ]
    },
    {
     "data": {
      "text/plain": [
       "[('кит', 0.692082405090332),\n",
       " ('тюлень', 0.6656808257102966),\n",
       " ('афалин', 0.6497105360031128),\n",
       " ('касатка', 0.6401681303977966),\n",
       " ('акула', 0.6354519128799438),\n",
       " ('тритон', 0.6238656044006348),\n",
       " ('косатка', 0.6150393486022949),\n",
       " ('касаток', 0.6128168106079102)]"
      ]
     },
     "execution_count": 256,
     "metadata": {},
     "output_type": "execute_result"
    }
   ],
   "source": [
    "query(['дельфин'])"
   ]
  },
  {
   "cell_type": "code",
   "execution_count": 257,
   "metadata": {},
   "outputs": [
    {
     "name": "stderr",
     "output_type": "stream",
     "text": [
      "/home/kikos/anaconda3/lib/python3.5/site-packages/gensim/matutils.py:737: FutureWarning: Conversion of the second argument of issubdtype from `int` to `np.signedinteger` is deprecated. In future, it will be treated as `np.int64 == np.dtype(int).type`.\n",
      "  if np.issubdtype(vec.dtype, np.int):\n"
     ]
    },
    {
     "data": {
      "text/plain": [
       "[('параллелепипед', 0.7026392221450806),\n",
       " ('квадрат', 0.619112491607666),\n",
       " ('тетраэдр', 0.6175058484077454),\n",
       " ('многогранник', 0.5949805974960327),\n",
       " ('прямоугольник', 0.588711142539978),\n",
       " ('пирамидка', 0.5789507031440735),\n",
       " ('шестиугольник', 0.5679293870925903),\n",
       " ('шестигранник', 0.5673487782478333),\n",
       " ('додекаэдр', 0.564005434513092)]"
      ]
     },
     "execution_count": 257,
     "metadata": {},
     "output_type": "execute_result"
    }
   ],
   "source": [
    "query(['куб'])"
   ]
  },
  {
   "cell_type": "code",
   "execution_count": 258,
   "metadata": {},
   "outputs": [
    {
     "name": "stderr",
     "output_type": "stream",
     "text": [
      "/home/kikos/anaconda3/lib/python3.5/site-packages/gensim/matutils.py:737: FutureWarning: Conversion of the second argument of issubdtype from `int` to `np.signedinteger` is deprecated. In future, it will be treated as `np.int64 == np.dtype(int).type`.\n",
      "  if np.issubdtype(vec.dtype, np.int):\n"
     ]
    },
    {
     "data": {
      "text/plain": [
       "[('восток', 0.7258328199386597),\n",
       " ('юго-восточный', 0.7253432273864746),\n",
       " ('закавказье', 0.7135714292526245),\n",
       " ('юго-запад', 0.6970430612564087)]"
      ]
     },
     "execution_count": 258,
     "metadata": {},
     "output_type": "execute_result"
    }
   ],
   "source": [
    "query(['азия', 'север'])"
   ]
  },
  {
   "cell_type": "code",
   "execution_count": 259,
   "metadata": {},
   "outputs": [
    {
     "name": "stderr",
     "output_type": "stream",
     "text": [
      "/home/kikos/anaconda3/lib/python3.5/site-packages/gensim/matutils.py:737: FutureWarning: Conversion of the second argument of issubdtype from `int` to `np.signedinteger` is deprecated. In future, it will be treated as `np.int64 == np.dtype(int).type`.\n",
      "  if np.issubdtype(vec.dtype, np.int):\n"
     ]
    },
    {
     "data": {
      "text/plain": [
       "[('тетрадь', 0.6208901405334473),\n",
       " ('тетрадка', 0.6133968830108643),\n",
       " ('блокнот', 0.6034168004989624)]"
      ]
     },
     "execution_count": 259,
     "metadata": {},
     "output_type": "execute_result"
    }
   ],
   "source": [
    "query(['книга', 'ручка'])"
   ]
  },
  {
   "cell_type": "code",
   "execution_count": 260,
   "metadata": {},
   "outputs": [
    {
     "name": "stderr",
     "output_type": "stream",
     "text": [
      "/home/kikos/anaconda3/lib/python3.5/site-packages/gensim/matutils.py:737: FutureWarning: Conversion of the second argument of issubdtype from `int` to `np.signedinteger` is deprecated. In future, it will be treated as `np.int64 == np.dtype(int).type`.\n",
      "  if np.issubdtype(vec.dtype, np.int):\n"
     ]
    },
    {
     "data": {
      "text/plain": [
       "[('месопотамия', 0.7354947328567505),\n",
       " ('индия', 0.7078897953033447),\n",
       " ('греция', 0.7071681022644043),\n",
       " ('эфиопия', 0.7054126262664795),\n",
       " ('аравия', 0.6906569004058838),\n",
       " ('ассирия', 0.6895437240600586),\n",
       " ('тунис', 0.6860137581825256),\n",
       " ('вавилония', 0.6827309727668762)]"
      ]
     },
     "execution_count": 260,
     "metadata": {},
     "output_type": "execute_result"
    }
   ],
   "source": [
    "query(['египет'])"
   ]
  },
  {
   "cell_type": "code",
   "execution_count": 261,
   "metadata": {},
   "outputs": [],
   "source": [
    "with open('similar_words') as f:\n",
    "    tmp = [x.strip() for x in f.readlines()]\n",
    "    posw = []\n",
    "    for st in tmp:\n",
    "        ln = st.split()\n",
    "        for i in range(1, len(ln)):\n",
    "            posw.append([ln[0], ln[i]])"
   ]
  },
  {
   "cell_type": "code",
   "execution_count": 262,
   "metadata": {},
   "outputs": [],
   "source": [
    "with open('negative_words') as f:\n",
    "    negw = [x.lower().strip().split() for x in f.readlines()]"
   ]
  },
  {
   "cell_type": "code",
   "execution_count": 263,
   "metadata": {},
   "outputs": [
    {
     "name": "stderr",
     "output_type": "stream",
     "text": [
      "/home/kikos/anaconda3/lib/python3.5/site-packages/gensim/matutils.py:737: FutureWarning: Conversion of the second argument of issubdtype from `int` to `np.signedinteger` is deprecated. In future, it will be treated as `np.int64 == np.dtype(int).type`.\n",
      "  if np.issubdtype(vec.dtype, np.int):\n"
     ]
    },
    {
     "data": {
      "image/png": "[encoded data removed]",
      "text/plain": [
       "<Figure size 432x288 with 1 Axes>"
      ]
     },
     "metadata": {},
     "output_type": "display_data"
    }
   ],
   "source": [
    "pos = [model.similarity(a, b) for a, b in posw]\n",
    "neg = [model.similarity(a, b) for a, b in negw]\n",
    "plt.scatter(pos + neg, ['green'] * len(pos) + ['red'] * len(neg))\n",
    "plt.show()"
   ]
  },
  {
   "cell_type": "code",
   "execution_count": 264,
   "metadata": {},
   "outputs": [
    {
     "data": {
      "image/png": "[encoded data removed]",
      "text/plain": [
       "<Figure size 432x288 with 1 Axes>"
      ]
     },
     "metadata": {},
     "output_type": "display_data"
    }
   ],
   "source": [
    "pos = [levenshtein_distance(a, b) for a, b in posw]\n",
    "neg = [levenshtein_distance(a, b) for a, b in negw]\n",
    "plt.hist(pos, bins=15, color='green')\n",
    "plt.hist(neg, bins=15, color='red')\n",
    "plt.show()"
   ]
  },
  {
   "cell_type": "code",
   "execution_count": 273,
   "metadata": {},
   "outputs": [
    {
     "data": {
      "text/plain": [
       "образование_r\n",
       "дух_r\n",
       "антарктида_r\n",
       "урна_r\n",
       "секрет_r\n",
       "кадр_r\n",
       "корабль_r\n",
       "мост_r\n",
       "область_r\n",
       "жизнь_b\n",
       "диск_b\n",
       "покров_b\n",
       "воздух_b\n",
       "вилка_b\n",
       "кран_b\n",
       "нота_b\n",
       "пушкин_b\n",
       "танец_d\n",
       "луна_w\n",
       "америка_w\n",
       "рулетка_w\n",
       "косяк_w\n",
       "спутник_w\n",
       "жук_w\n",
       "секция_w"
      ]
     },
     "execution_count": 273,
     "metadata": {},
     "output_type": "execute_result"
    }
   ],
   "source": [
    "x"
   ]
  },
  {
   "cell_type": "code",
   "execution_count": 274,
   "metadata": {},
   "outputs": [
    {
     "name": "stderr",
     "output_type": "stream",
     "text": [
      "/home/kikos/anaconda3/lib/python3.5/site-packages/gensim/matutils.py:737: FutureWarning: Conversion of the second argument of issubdtype from `int` to `np.signedinteger` is deprecated. In future, it will be treated as `np.int64 == np.dtype(int).type`.\n",
      "  if np.issubdtype(vec.dtype, np.int):\n"
     ]
    },
    {
     "data": {
      "text/plain": [
       "[(2.5616063116448506,\n",
       "  ('гидрография', 4),\n",
       "  [антарктида_r, образование_r, область_r, корабль_r]),\n",
       " (2.1309297535714578, ('танкер', 3), [корабль_r, мост_r, антарктида_r]),\n",
       " (2.1309297535714578, ('специалист', 3), [образование_r, кадр_r, область_r]),\n",
       " (2.1309297535714578,\n",
       "  ('саяно-алтайский', 3),\n",
       "  [область_r, антарктида_r, образование_r]),\n",
       " (2.1309297535714578,\n",
       "  ('республика::бурятия', 3),\n",
       "  [область_r, образование_r, антарктида_r]),\n",
       " (2.1309297535714578, ('пролив', 3), [корабль_r, мост_r, антарктида_r]),\n",
       " (2.1309297535714578,\n",
       "  ('прибайкалия', 3),\n",
       "  [антарктида_r, область_r, образование_r]),\n",
       " (2.1309297535714578, ('парусник', 3), [корабль_r, антарктида_r, мост_r]),\n",
       " (2.1309297535714578, ('кильдин', 3), [антарктида_r, корабль_r, мост_r]),\n",
       " (2.1309297535714578,\n",
       "  ('гидрография', 3),\n",
       "  [антарктида_r, образование_r, область_r])]"
      ]
     },
     "execution_count": 274,
     "metadata": {},
     "output_type": "execute_result"
    }
   ],
   "source": [
    "bruteforce(x, 'r')[:10]"
   ]
  },
  {
   "cell_type": "code",
   "execution_count": 275,
   "metadata": {},
   "outputs": [
    {
     "name": "stderr",
     "output_type": "stream",
     "text": [
      "/home/kikos/anaconda3/lib/python3.5/site-packages/gensim/matutils.py:737: FutureWarning: Conversion of the second argument of issubdtype from `int` to `np.signedinteger` is deprecated. In future, it will be treated as `np.int64 == np.dtype(int).type`.\n",
      "  if np.issubdtype(vec.dtype, np.int):\n"
     ]
    },
    {
     "data": {
      "text/plain": [
       "('гидрография', 4)"
      ]
     },
     "execution_count": 275,
     "metadata": {},
     "output_type": "execute_result"
    }
   ],
   "source": [
    "query_move = do_move(x)\n",
    "query_move"
   ]
  },
  {
   "cell_type": "code",
   "execution_count": 276,
   "metadata": {},
   "outputs": [
    {
     "name": "stderr",
     "output_type": "stream",
     "text": [
      "/home/kikos/anaconda3/lib/python3.5/site-packages/gensim/matutils.py:737: FutureWarning: Conversion of the second argument of issubdtype from `int` to `np.signedinteger` is deprecated. In future, it will be treated as `np.int64 == np.dtype(int).type`.\n",
      "  if np.issubdtype(vec.dtype, np.int):\n"
     ]
    }
   ],
   "source": [
    "for i in range(query_move[1]):\n",
    "    do_clear(x, do_guess(x, query_move[0]).word)"
   ]
  },
  {
   "cell_type": "code",
   "execution_count": 277,
   "metadata": {
    "scrolled": true
   },
   "outputs": [
    {
     "data": {
      "text/plain": [
       "образование_r_u\n",
       "дух_r\n",
       "антарктида_r_u\n",
       "урна_r\n",
       "секрет_r\n",
       "кадр_r\n",
       "корабль_r_u\n",
       "мост_r\n",
       "область_r_u\n",
       "жизнь_b\n",
       "диск_b\n",
       "покров_b\n",
       "воздух_b\n",
       "вилка_b\n",
       "кран_b\n",
       "нота_b\n",
       "пушкин_b\n",
       "танец_d\n",
       "луна_w\n",
       "америка_w\n",
       "рулетка_w\n",
       "косяк_w\n",
       "спутник_w\n",
       "жук_w\n",
       "секция_w"
      ]
     },
     "execution_count": 277,
     "metadata": {},
     "output_type": "execute_result"
    }
   ],
   "source": [
    "x"
   ]
  }
 ],
 "metadata": {
  "kernelspec": {
   "display_name": "Python 3",
   "language": "python",
   "name": "python3"
  },
  "language_info": {
   "codemirror_mode": {
    "name": "ipython",
    "version": 3
   },
   "file_extension": ".py",
   "mimetype": "text/x-python",
   "name": "python",
   "nbconvert_exporter": "python",
   "pygments_lexer": "ipython3",
   "version": "3.5.5"
  }
 },
 "nbformat": 4,
 "nbformat_minor": 2
}
